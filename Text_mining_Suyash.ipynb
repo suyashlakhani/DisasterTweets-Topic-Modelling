{
 "cells": [
  {
   "cell_type": "markdown",
   "metadata": {
    "id": "sTDVWHFl9Roh"
   },
   "source": [
    "**Topic Modelling**"
   ]
  },
  {
   "cell_type": "markdown",
   "metadata": {
    "id": "py8fIyLS9bYP"
   },
   "source": [
    "**Importing Required Libraries**"
   ]
  },
  {
   "cell_type": "code",
   "execution_count": 1,
   "metadata": {
    "colab": {
     "base_uri": "https://localhost:8080/",
     "height": 0
    },
    "id": "gawZZPjd9tfh",
    "outputId": "890b7891-029e-486c-f865-02cff12f9c77"
   },
   "outputs": [
    {
     "name": "stdout",
     "output_type": "stream",
     "text": [
      "Looking in indexes: https://pypi.org/simple, https://us-python.pkg.dev/colab-wheels/public/simple/\n",
      "Collecting pyLDAvis\n",
      "  Downloading pyLDAvis-3.3.1.tar.gz (1.7 MB)\n",
      "\u001b[2K     \u001b[90m━━━━━━━━━━━━━━━━━━━━━━━━━━━━━━━━━━━━━━━━\u001b[0m \u001b[32m1.7/1.7 MB\u001b[0m \u001b[31m14.1 MB/s\u001b[0m eta \u001b[36m0:00:00\u001b[0m\n",
      "\u001b[?25h  Installing build dependencies ... \u001b[?25l\u001b[?25hdone\n",
      "  Getting requirements to build wheel ... \u001b[?25l\u001b[?25hdone\n",
      "  Installing backend dependencies ... \u001b[?25l\u001b[?25hdone\n",
      "  Preparing metadata (pyproject.toml) ... \u001b[?25l\u001b[?25hdone\n",
      "Requirement already satisfied: scipy in /usr/local/lib/python3.8/dist-packages (from pyLDAvis) (1.7.3)\n",
      "Collecting funcy\n",
      "  Downloading funcy-1.18-py2.py3-none-any.whl (33 kB)\n",
      "Requirement already satisfied: numpy>=1.20.0 in /usr/local/lib/python3.8/dist-packages (from pyLDAvis) (1.21.6)\n",
      "Requirement already satisfied: numexpr in /usr/local/lib/python3.8/dist-packages (from pyLDAvis) (2.8.4)\n",
      "Requirement already satisfied: future in /usr/local/lib/python3.8/dist-packages (from pyLDAvis) (0.16.0)\n",
      "Requirement already satisfied: setuptools in /usr/local/lib/python3.8/dist-packages (from pyLDAvis) (57.4.0)\n",
      "Collecting sklearn\n",
      "  Downloading sklearn-0.0.post1.tar.gz (3.6 kB)\n",
      "  Preparing metadata (setup.py) ... \u001b[?25l\u001b[?25hdone\n",
      "Requirement already satisfied: joblib in /usr/local/lib/python3.8/dist-packages (from pyLDAvis) (1.2.0)\n",
      "Requirement already satisfied: pandas>=1.2.0 in /usr/local/lib/python3.8/dist-packages (from pyLDAvis) (1.3.5)\n",
      "Requirement already satisfied: jinja2 in /usr/local/lib/python3.8/dist-packages (from pyLDAvis) (2.11.3)\n",
      "Requirement already satisfied: scikit-learn in /usr/local/lib/python3.8/dist-packages (from pyLDAvis) (1.0.2)\n",
      "Requirement already satisfied: gensim in /usr/local/lib/python3.8/dist-packages (from pyLDAvis) (3.6.0)\n",
      "Requirement already satisfied: python-dateutil>=2.7.3 in /usr/local/lib/python3.8/dist-packages (from pandas>=1.2.0->pyLDAvis) (2.8.2)\n",
      "Requirement already satisfied: pytz>=2017.3 in /usr/local/lib/python3.8/dist-packages (from pandas>=1.2.0->pyLDAvis) (2022.7.1)\n",
      "Requirement already satisfied: smart-open>=1.2.1 in /usr/local/lib/python3.8/dist-packages (from gensim->pyLDAvis) (6.3.0)\n",
      "Requirement already satisfied: six>=1.5.0 in /usr/local/lib/python3.8/dist-packages (from gensim->pyLDAvis) (1.15.0)\n",
      "Requirement already satisfied: MarkupSafe>=0.23 in /usr/local/lib/python3.8/dist-packages (from jinja2->pyLDAvis) (2.0.1)\n",
      "Requirement already satisfied: threadpoolctl>=2.0.0 in /usr/local/lib/python3.8/dist-packages (from scikit-learn->pyLDAvis) (3.1.0)\n",
      "Building wheels for collected packages: pyLDAvis, sklearn\n",
      "  Building wheel for pyLDAvis (pyproject.toml) ... \u001b[?25l\u001b[?25hdone\n",
      "  Created wheel for pyLDAvis: filename=pyLDAvis-3.3.1-py2.py3-none-any.whl size=136898 sha256=cc7eb6f0cb439d27eb225416ef37f9844f06e44c7e46bdc63c6f486c15b94d7a\n",
      "  Stored in directory: /root/.cache/pip/wheels/90/61/ec/9dbe9efc3acf9c4e37ba70fbbcc3f3a0ebd121060aa593181a\n",
      "  Building wheel for sklearn (setup.py) ... \u001b[?25l\u001b[?25hdone\n",
      "  Created wheel for sklearn: filename=sklearn-0.0.post1-py3-none-any.whl size=2344 sha256=dfb15b815e34deb61169ed6740d41b6aba16e13e8df04b599291a6151382e1b0\n",
      "  Stored in directory: /root/.cache/pip/wheels/14/25/f7/1cc0956978ae479e75140219088deb7a36f60459df242b1a72\n",
      "Successfully built pyLDAvis sklearn\n",
      "Installing collected packages: sklearn, funcy, pyLDAvis\n",
      "Successfully installed funcy-1.18 pyLDAvis-3.3.1 sklearn-0.0.post1\n"
     ]
    },
    {
     "name": "stderr",
     "output_type": "stream",
     "text": [
      "/usr/local/lib/python3.8/dist-packages/past/types/oldstr.py:5: DeprecationWarning: Using or importing the ABCs from 'collections' instead of from 'collections.abc' is deprecated since Python 3.3, and in 3.10 it will stop working\n",
      "  from collections import Iterable\n"
     ]
    }
   ],
   "source": [
    "import time\n",
    "import math\n",
    "import re\n",
    "from textblob import TextBlob\n",
    "import pandas as pd\n",
    "\n",
    "import nltk as nltk\n",
    "from nltk.corpus import stopwords\n",
    "from nltk.stem.wordnet import WordNetLemmatizer\n",
    "\n",
    "import string\n",
    "\n",
    "\n",
    "import gensim\n",
    "from gensim import corpora, models\n",
    "from gensim.models.ldamulticore import LdaMulticore\n",
    "%pip install pyLDAvis\n",
    "#import pyLDAvis.gensim\n",
    "import pyLDAvis\n",
    "import pyLDAvis.gensim_models as gensimvis\n",
    "pyLDAvis.enable_notebook()"
   ]
  },
  {
   "cell_type": "code",
   "execution_count": 2,
   "metadata": {
    "id": "Fvali0ZH-OkQ"
   },
   "outputs": [],
   "source": [
    "import sklearn\n",
    "import keras\n",
    "import nltk\n",
    "import pandas as pd\n",
    "import numpy as np\n",
    "import re\n",
    "import codecs"
   ]
  },
  {
   "cell_type": "code",
   "execution_count": 4,
   "metadata": {
    "id": "39NT-t-2-hvN"
   },
   "outputs": [],
   "source": [
    "input_file = codecs.open(\"socialmedia_relevant_cols.csv\", \"r\",encoding='utf-8', errors='replace')\n",
    "output_file = open(\"socialmedia_relevant_cols_clean.csv\", \"w\")\n",
    "\n",
    "def sanitize_characters(raw, clean):    \n",
    "    for line in input_file:\n",
    "        out = line\n",
    "        output_file.write(line)\n",
    "sanitize_characters(input_file, output_file)"
   ]
  },
  {
   "cell_type": "code",
   "execution_count": 5,
   "metadata": {
    "id": "e_tzTIjU-6mM"
   },
   "outputs": [],
   "source": [
    "df = pd.read_csv(\"socialmedia_relevant_cols_clean.csv\")\n",
    "df.columns=['text', 'choose_one', 'class_label']"
   ]
  },
  {
   "cell_type": "code",
   "execution_count": 11,
   "metadata": {
    "colab": {
     "base_uri": "https://localhost:8080/",
     "height": 206
    },
    "id": "3l9YVdUY_GMh",
    "outputId": "be61c8fc-4de1-4364-fa5d-a19229af3cd1"
   },
   "outputs": [
    {
     "data": {
      "text/html": [
       "\n",
       "  <div id=\"df-44a60820-3e7a-4094-bac0-25c97ccf00be\">\n",
       "    <div class=\"colab-df-container\">\n",
       "      <div>\n",
       "<style scoped>\n",
       "    .dataframe tbody tr th:only-of-type {\n",
       "        vertical-align: middle;\n",
       "    }\n",
       "\n",
       "    .dataframe tbody tr th {\n",
       "        vertical-align: top;\n",
       "    }\n",
       "\n",
       "    .dataframe thead th {\n",
       "        text-align: right;\n",
       "    }\n",
       "</style>\n",
       "<table border=\"1\" class=\"dataframe\">\n",
       "  <thead>\n",
       "    <tr style=\"text-align: right;\">\n",
       "      <th></th>\n",
       "      <th>text</th>\n",
       "      <th>choose_one</th>\n",
       "      <th>class_label</th>\n",
       "    </tr>\n",
       "  </thead>\n",
       "  <tbody>\n",
       "    <tr>\n",
       "      <th>0</th>\n",
       "      <td>Just happened a terrible car crash</td>\n",
       "      <td>Relevant</td>\n",
       "      <td>1</td>\n",
       "    </tr>\n",
       "    <tr>\n",
       "      <th>1</th>\n",
       "      <td>Our Deeds are the Reason of this #earthquake M...</td>\n",
       "      <td>Relevant</td>\n",
       "      <td>1</td>\n",
       "    </tr>\n",
       "    <tr>\n",
       "      <th>2</th>\n",
       "      <td>Heard about #earthquake is different cities, s...</td>\n",
       "      <td>Relevant</td>\n",
       "      <td>1</td>\n",
       "    </tr>\n",
       "    <tr>\n",
       "      <th>3</th>\n",
       "      <td>there is a forest fire at spot pond, geese are...</td>\n",
       "      <td>Relevant</td>\n",
       "      <td>1</td>\n",
       "    </tr>\n",
       "    <tr>\n",
       "      <th>4</th>\n",
       "      <td>Forest fire near La Ronge Sask. Canada</td>\n",
       "      <td>Relevant</td>\n",
       "      <td>1</td>\n",
       "    </tr>\n",
       "  </tbody>\n",
       "</table>\n",
       "</div>\n",
       "      <button class=\"colab-df-convert\" onclick=\"convertToInteractive('df-44a60820-3e7a-4094-bac0-25c97ccf00be')\"\n",
       "              title=\"Convert this dataframe to an interactive table.\"\n",
       "              style=\"display:none;\">\n",
       "        \n",
       "  <svg xmlns=\"http://www.w3.org/2000/svg\" height=\"24px\"viewBox=\"0 0 24 24\"\n",
       "       width=\"24px\">\n",
       "    <path d=\"M0 0h24v24H0V0z\" fill=\"none\"/>\n",
       "    <path d=\"M18.56 5.44l.94 2.06.94-2.06 2.06-.94-2.06-.94-.94-2.06-.94 2.06-2.06.94zm-11 1L8.5 8.5l.94-2.06 2.06-.94-2.06-.94L8.5 2.5l-.94 2.06-2.06.94zm10 10l.94 2.06.94-2.06 2.06-.94-2.06-.94-.94-2.06-.94 2.06-2.06.94z\"/><path d=\"M17.41 7.96l-1.37-1.37c-.4-.4-.92-.59-1.43-.59-.52 0-1.04.2-1.43.59L10.3 9.45l-7.72 7.72c-.78.78-.78 2.05 0 2.83L4 21.41c.39.39.9.59 1.41.59.51 0 1.02-.2 1.41-.59l7.78-7.78 2.81-2.81c.8-.78.8-2.07 0-2.86zM5.41 20L4 18.59l7.72-7.72 1.47 1.35L5.41 20z\"/>\n",
       "  </svg>\n",
       "      </button>\n",
       "      \n",
       "  <style>\n",
       "    .colab-df-container {\n",
       "      display:flex;\n",
       "      flex-wrap:wrap;\n",
       "      gap: 12px;\n",
       "    }\n",
       "\n",
       "    .colab-df-convert {\n",
       "      background-color: #E8F0FE;\n",
       "      border: none;\n",
       "      border-radius: 50%;\n",
       "      cursor: pointer;\n",
       "      display: none;\n",
       "      fill: #1967D2;\n",
       "      height: 32px;\n",
       "      padding: 0 0 0 0;\n",
       "      width: 32px;\n",
       "    }\n",
       "\n",
       "    .colab-df-convert:hover {\n",
       "      background-color: #E2EBFA;\n",
       "      box-shadow: 0px 1px 2px rgba(60, 64, 67, 0.3), 0px 1px 3px 1px rgba(60, 64, 67, 0.15);\n",
       "      fill: #174EA6;\n",
       "    }\n",
       "\n",
       "    [theme=dark] .colab-df-convert {\n",
       "      background-color: #3B4455;\n",
       "      fill: #D2E3FC;\n",
       "    }\n",
       "\n",
       "    [theme=dark] .colab-df-convert:hover {\n",
       "      background-color: #434B5C;\n",
       "      box-shadow: 0px 1px 3px 1px rgba(0, 0, 0, 0.15);\n",
       "      filter: drop-shadow(0px 1px 2px rgba(0, 0, 0, 0.3));\n",
       "      fill: #FFFFFF;\n",
       "    }\n",
       "  </style>\n",
       "\n",
       "      <script>\n",
       "        const buttonEl =\n",
       "          document.querySelector('#df-44a60820-3e7a-4094-bac0-25c97ccf00be button.colab-df-convert');\n",
       "        buttonEl.style.display =\n",
       "          google.colab.kernel.accessAllowed ? 'block' : 'none';\n",
       "\n",
       "        async function convertToInteractive(key) {\n",
       "          const element = document.querySelector('#df-44a60820-3e7a-4094-bac0-25c97ccf00be');\n",
       "          const dataTable =\n",
       "            await google.colab.kernel.invokeFunction('convertToInteractive',\n",
       "                                                     [key], {});\n",
       "          if (!dataTable) return;\n",
       "\n",
       "          const docLinkHtml = 'Like what you see? Visit the ' +\n",
       "            '<a target=\"_blank\" href=https://colab.research.google.com/notebooks/data_table.ipynb>data table notebook</a>'\n",
       "            + ' to learn more about interactive tables.';\n",
       "          element.innerHTML = '';\n",
       "          dataTable['output_type'] = 'display_data';\n",
       "          await google.colab.output.renderOutput(dataTable, element);\n",
       "          const docLink = document.createElement('div');\n",
       "          docLink.innerHTML = docLinkHtml;\n",
       "          element.appendChild(docLink);\n",
       "        }\n",
       "      </script>\n",
       "    </div>\n",
       "  </div>\n",
       "  "
      ],
      "text/plain": [
       "                                                text choose_one  class_label\n",
       "0                 Just happened a terrible car crash   Relevant            1\n",
       "1  Our Deeds are the Reason of this #earthquake M...   Relevant            1\n",
       "2  Heard about #earthquake is different cities, s...   Relevant            1\n",
       "3  there is a forest fire at spot pond, geese are...   Relevant            1\n",
       "4             Forest fire near La Ronge Sask. Canada   Relevant            1"
      ]
     },
     "execution_count": 11,
     "metadata": {},
     "output_type": "execute_result"
    }
   ],
   "source": [
    "df.head()"
   ]
  },
  {
   "cell_type": "code",
   "execution_count": 6,
   "metadata": {
    "colab": {
     "base_uri": "https://localhost:8080/",
     "height": 0
    },
    "id": "JJdeDzgm_RSh",
    "outputId": "885c16c1-a0c2-442a-ec4c-7e522f777a5e"
   },
   "outputs": [
    {
     "data": {
      "text/plain": [
       "(10833, 3)"
      ]
     },
     "execution_count": 6,
     "metadata": {},
     "output_type": "execute_result"
    }
   ],
   "source": [
    "df.shape"
   ]
  },
  {
   "cell_type": "markdown",
   "metadata": {
    "id": "UvagHUfr9jQk"
   },
   "source": [
    "**Cleaning the text data**"
   ]
  },
  {
   "cell_type": "code",
   "execution_count": 7,
   "metadata": {
    "id": "7BqvlFcd_UBo"
   },
   "outputs": [],
   "source": [
    "df['text_clean'] = df['text'].map(lambda x: re.sub('[^a-zA-Z0-9 @ . , : - _ ]', '', str(x)))"
   ]
  },
  {
   "cell_type": "code",
   "execution_count": 8,
   "metadata": {
    "colab": {
     "base_uri": "https://localhost:8080/",
     "height": 206
    },
    "id": "42qXhFmN_axi",
    "outputId": "c0aa294c-77d4-437e-b520-ce90e863495f"
   },
   "outputs": [
    {
     "data": {
      "text/html": [
       "\n",
       "  <div id=\"df-cb008786-2dc1-4349-ab66-dcb3d7c201ab\">\n",
       "    <div class=\"colab-df-container\">\n",
       "      <div>\n",
       "<style scoped>\n",
       "    .dataframe tbody tr th:only-of-type {\n",
       "        vertical-align: middle;\n",
       "    }\n",
       "\n",
       "    .dataframe tbody tr th {\n",
       "        vertical-align: top;\n",
       "    }\n",
       "\n",
       "    .dataframe thead th {\n",
       "        text-align: right;\n",
       "    }\n",
       "</style>\n",
       "<table border=\"1\" class=\"dataframe\">\n",
       "  <thead>\n",
       "    <tr style=\"text-align: right;\">\n",
       "      <th></th>\n",
       "      <th>text</th>\n",
       "      <th>choose_one</th>\n",
       "      <th>class_label</th>\n",
       "      <th>text_clean</th>\n",
       "    </tr>\n",
       "  </thead>\n",
       "  <tbody>\n",
       "    <tr>\n",
       "      <th>0</th>\n",
       "      <td>Just happened a terrible car crash</td>\n",
       "      <td>Relevant</td>\n",
       "      <td>1</td>\n",
       "      <td>Just happened a terrible car crash</td>\n",
       "    </tr>\n",
       "    <tr>\n",
       "      <th>1</th>\n",
       "      <td>Our Deeds are the Reason of this #earthquake M...</td>\n",
       "      <td>Relevant</td>\n",
       "      <td>1</td>\n",
       "      <td>Our Deeds are the Reason of this earthquake Ma...</td>\n",
       "    </tr>\n",
       "    <tr>\n",
       "      <th>2</th>\n",
       "      <td>Heard about #earthquake is different cities, s...</td>\n",
       "      <td>Relevant</td>\n",
       "      <td>1</td>\n",
       "      <td>Heard about earthquake is different cities, st...</td>\n",
       "    </tr>\n",
       "    <tr>\n",
       "      <th>3</th>\n",
       "      <td>there is a forest fire at spot pond, geese are...</td>\n",
       "      <td>Relevant</td>\n",
       "      <td>1</td>\n",
       "      <td>there is a forest fire at spot pond, geese are...</td>\n",
       "    </tr>\n",
       "    <tr>\n",
       "      <th>4</th>\n",
       "      <td>Forest fire near La Ronge Sask. Canada</td>\n",
       "      <td>Relevant</td>\n",
       "      <td>1</td>\n",
       "      <td>Forest fire near La Ronge Sask. Canada</td>\n",
       "    </tr>\n",
       "  </tbody>\n",
       "</table>\n",
       "</div>\n",
       "      <button class=\"colab-df-convert\" onclick=\"convertToInteractive('df-cb008786-2dc1-4349-ab66-dcb3d7c201ab')\"\n",
       "              title=\"Convert this dataframe to an interactive table.\"\n",
       "              style=\"display:none;\">\n",
       "        \n",
       "  <svg xmlns=\"http://www.w3.org/2000/svg\" height=\"24px\"viewBox=\"0 0 24 24\"\n",
       "       width=\"24px\">\n",
       "    <path d=\"M0 0h24v24H0V0z\" fill=\"none\"/>\n",
       "    <path d=\"M18.56 5.44l.94 2.06.94-2.06 2.06-.94-2.06-.94-.94-2.06-.94 2.06-2.06.94zm-11 1L8.5 8.5l.94-2.06 2.06-.94-2.06-.94L8.5 2.5l-.94 2.06-2.06.94zm10 10l.94 2.06.94-2.06 2.06-.94-2.06-.94-.94-2.06-.94 2.06-2.06.94z\"/><path d=\"M17.41 7.96l-1.37-1.37c-.4-.4-.92-.59-1.43-.59-.52 0-1.04.2-1.43.59L10.3 9.45l-7.72 7.72c-.78.78-.78 2.05 0 2.83L4 21.41c.39.39.9.59 1.41.59.51 0 1.02-.2 1.41-.59l7.78-7.78 2.81-2.81c.8-.78.8-2.07 0-2.86zM5.41 20L4 18.59l7.72-7.72 1.47 1.35L5.41 20z\"/>\n",
       "  </svg>\n",
       "      </button>\n",
       "      \n",
       "  <style>\n",
       "    .colab-df-container {\n",
       "      display:flex;\n",
       "      flex-wrap:wrap;\n",
       "      gap: 12px;\n",
       "    }\n",
       "\n",
       "    .colab-df-convert {\n",
       "      background-color: #E8F0FE;\n",
       "      border: none;\n",
       "      border-radius: 50%;\n",
       "      cursor: pointer;\n",
       "      display: none;\n",
       "      fill: #1967D2;\n",
       "      height: 32px;\n",
       "      padding: 0 0 0 0;\n",
       "      width: 32px;\n",
       "    }\n",
       "\n",
       "    .colab-df-convert:hover {\n",
       "      background-color: #E2EBFA;\n",
       "      box-shadow: 0px 1px 2px rgba(60, 64, 67, 0.3), 0px 1px 3px 1px rgba(60, 64, 67, 0.15);\n",
       "      fill: #174EA6;\n",
       "    }\n",
       "\n",
       "    [theme=dark] .colab-df-convert {\n",
       "      background-color: #3B4455;\n",
       "      fill: #D2E3FC;\n",
       "    }\n",
       "\n",
       "    [theme=dark] .colab-df-convert:hover {\n",
       "      background-color: #434B5C;\n",
       "      box-shadow: 0px 1px 3px 1px rgba(0, 0, 0, 0.15);\n",
       "      filter: drop-shadow(0px 1px 2px rgba(0, 0, 0, 0.3));\n",
       "      fill: #FFFFFF;\n",
       "    }\n",
       "  </style>\n",
       "\n",
       "      <script>\n",
       "        const buttonEl =\n",
       "          document.querySelector('#df-cb008786-2dc1-4349-ab66-dcb3d7c201ab button.colab-df-convert');\n",
       "        buttonEl.style.display =\n",
       "          google.colab.kernel.accessAllowed ? 'block' : 'none';\n",
       "\n",
       "        async function convertToInteractive(key) {\n",
       "          const element = document.querySelector('#df-cb008786-2dc1-4349-ab66-dcb3d7c201ab');\n",
       "          const dataTable =\n",
       "            await google.colab.kernel.invokeFunction('convertToInteractive',\n",
       "                                                     [key], {});\n",
       "          if (!dataTable) return;\n",
       "\n",
       "          const docLinkHtml = 'Like what you see? Visit the ' +\n",
       "            '<a target=\"_blank\" href=https://colab.research.google.com/notebooks/data_table.ipynb>data table notebook</a>'\n",
       "            + ' to learn more about interactive tables.';\n",
       "          element.innerHTML = '';\n",
       "          dataTable['output_type'] = 'display_data';\n",
       "          await google.colab.output.renderOutput(dataTable, element);\n",
       "          const docLink = document.createElement('div');\n",
       "          docLink.innerHTML = docLinkHtml;\n",
       "          element.appendChild(docLink);\n",
       "        }\n",
       "      </script>\n",
       "    </div>\n",
       "  </div>\n",
       "  "
      ],
      "text/plain": [
       "                                                text choose_one  class_label  \\\n",
       "0                 Just happened a terrible car crash   Relevant            1   \n",
       "1  Our Deeds are the Reason of this #earthquake M...   Relevant            1   \n",
       "2  Heard about #earthquake is different cities, s...   Relevant            1   \n",
       "3  there is a forest fire at spot pond, geese are...   Relevant            1   \n",
       "4             Forest fire near La Ronge Sask. Canada   Relevant            1   \n",
       "\n",
       "                                          text_clean  \n",
       "0                 Just happened a terrible car crash  \n",
       "1  Our Deeds are the Reason of this earthquake Ma...  \n",
       "2  Heard about earthquake is different cities, st...  \n",
       "3  there is a forest fire at spot pond, geese are...  \n",
       "4             Forest fire near La Ronge Sask. Canada  "
      ]
     },
     "execution_count": 8,
     "metadata": {},
     "output_type": "execute_result"
    }
   ],
   "source": [
    "df.head()"
   ]
  },
  {
   "cell_type": "code",
   "execution_count": 9,
   "metadata": {
    "colab": {
     "base_uri": "https://localhost:8080/",
     "height": 0
    },
    "id": "OJwag-la_b0S",
    "outputId": "65e8121f-2116-43e0-ff5a-1a7c401db679"
   },
   "outputs": [
    {
     "name": "stderr",
     "output_type": "stream",
     "text": [
      "[nltk_data] Downloading package stopwords to /root/nltk_data...\n",
      "[nltk_data]   Unzipping corpora/stopwords.zip.\n",
      "[nltk_data] Downloading package wordnet to /root/nltk_data...\n",
      "[nltk_data] Downloading package omw-1.4 to /root/nltk_data...\n"
     ]
    }
   ],
   "source": [
    "nltk.download('stopwords')\n",
    "nltk.download('wordnet')\n",
    "nltk.download('omw-1.4')\n",
    "stop = set(nltk.corpus.stopwords.words('english'))\n",
    "exclude = set(string.punctuation)\n",
    "lemma = WordNetLemmatizer()\n",
    "def clean(doc):\n",
    "    stop_free = \" \".join([i for i in doc.lower().split() if i not in stop])\n",
    "    punc_free = ''.join(ch for ch in stop_free if ch not in exclude)\n",
    "    normalized = \" \".join(lemma.lemmatize(word) for word in punc_free.split())\n",
    "    return normalized\n",
    "\n",
    "df[\"text_clean\"] = df[\"text_clean\"].apply(clean)"
   ]
  },
  {
   "cell_type": "code",
   "execution_count": 10,
   "metadata": {
    "colab": {
     "base_uri": "https://localhost:8080/",
     "height": 206
    },
    "id": "s1HKz9Ox__LX",
    "outputId": "bfedf115-33c1-44a6-c215-cd6d3c9bcffe"
   },
   "outputs": [
    {
     "data": {
      "text/html": [
       "\n",
       "  <div id=\"df-eec0ed22-7e2d-40e6-9dc8-5d0fc7eea0e0\">\n",
       "    <div class=\"colab-df-container\">\n",
       "      <div>\n",
       "<style scoped>\n",
       "    .dataframe tbody tr th:only-of-type {\n",
       "        vertical-align: middle;\n",
       "    }\n",
       "\n",
       "    .dataframe tbody tr th {\n",
       "        vertical-align: top;\n",
       "    }\n",
       "\n",
       "    .dataframe thead th {\n",
       "        text-align: right;\n",
       "    }\n",
       "</style>\n",
       "<table border=\"1\" class=\"dataframe\">\n",
       "  <thead>\n",
       "    <tr style=\"text-align: right;\">\n",
       "      <th></th>\n",
       "      <th>text</th>\n",
       "      <th>choose_one</th>\n",
       "      <th>class_label</th>\n",
       "      <th>text_clean</th>\n",
       "    </tr>\n",
       "  </thead>\n",
       "  <tbody>\n",
       "    <tr>\n",
       "      <th>0</th>\n",
       "      <td>Just happened a terrible car crash</td>\n",
       "      <td>Relevant</td>\n",
       "      <td>1</td>\n",
       "      <td>happened terrible car crash</td>\n",
       "    </tr>\n",
       "    <tr>\n",
       "      <th>1</th>\n",
       "      <td>Our Deeds are the Reason of this #earthquake M...</td>\n",
       "      <td>Relevant</td>\n",
       "      <td>1</td>\n",
       "      <td>deed reason earthquake may allah forgive u</td>\n",
       "    </tr>\n",
       "    <tr>\n",
       "      <th>2</th>\n",
       "      <td>Heard about #earthquake is different cities, s...</td>\n",
       "      <td>Relevant</td>\n",
       "      <td>1</td>\n",
       "      <td>heard earthquake different city stay safe ever...</td>\n",
       "    </tr>\n",
       "    <tr>\n",
       "      <th>3</th>\n",
       "      <td>there is a forest fire at spot pond, geese are...</td>\n",
       "      <td>Relevant</td>\n",
       "      <td>1</td>\n",
       "      <td>forest fire spot pond goose fleeing across str...</td>\n",
       "    </tr>\n",
       "    <tr>\n",
       "      <th>4</th>\n",
       "      <td>Forest fire near La Ronge Sask. Canada</td>\n",
       "      <td>Relevant</td>\n",
       "      <td>1</td>\n",
       "      <td>forest fire near la ronge sask canada</td>\n",
       "    </tr>\n",
       "  </tbody>\n",
       "</table>\n",
       "</div>\n",
       "      <button class=\"colab-df-convert\" onclick=\"convertToInteractive('df-eec0ed22-7e2d-40e6-9dc8-5d0fc7eea0e0')\"\n",
       "              title=\"Convert this dataframe to an interactive table.\"\n",
       "              style=\"display:none;\">\n",
       "        \n",
       "  <svg xmlns=\"http://www.w3.org/2000/svg\" height=\"24px\"viewBox=\"0 0 24 24\"\n",
       "       width=\"24px\">\n",
       "    <path d=\"M0 0h24v24H0V0z\" fill=\"none\"/>\n",
       "    <path d=\"M18.56 5.44l.94 2.06.94-2.06 2.06-.94-2.06-.94-.94-2.06-.94 2.06-2.06.94zm-11 1L8.5 8.5l.94-2.06 2.06-.94-2.06-.94L8.5 2.5l-.94 2.06-2.06.94zm10 10l.94 2.06.94-2.06 2.06-.94-2.06-.94-.94-2.06-.94 2.06-2.06.94z\"/><path d=\"M17.41 7.96l-1.37-1.37c-.4-.4-.92-.59-1.43-.59-.52 0-1.04.2-1.43.59L10.3 9.45l-7.72 7.72c-.78.78-.78 2.05 0 2.83L4 21.41c.39.39.9.59 1.41.59.51 0 1.02-.2 1.41-.59l7.78-7.78 2.81-2.81c.8-.78.8-2.07 0-2.86zM5.41 20L4 18.59l7.72-7.72 1.47 1.35L5.41 20z\"/>\n",
       "  </svg>\n",
       "      </button>\n",
       "      \n",
       "  <style>\n",
       "    .colab-df-container {\n",
       "      display:flex;\n",
       "      flex-wrap:wrap;\n",
       "      gap: 12px;\n",
       "    }\n",
       "\n",
       "    .colab-df-convert {\n",
       "      background-color: #E8F0FE;\n",
       "      border: none;\n",
       "      border-radius: 50%;\n",
       "      cursor: pointer;\n",
       "      display: none;\n",
       "      fill: #1967D2;\n",
       "      height: 32px;\n",
       "      padding: 0 0 0 0;\n",
       "      width: 32px;\n",
       "    }\n",
       "\n",
       "    .colab-df-convert:hover {\n",
       "      background-color: #E2EBFA;\n",
       "      box-shadow: 0px 1px 2px rgba(60, 64, 67, 0.3), 0px 1px 3px 1px rgba(60, 64, 67, 0.15);\n",
       "      fill: #174EA6;\n",
       "    }\n",
       "\n",
       "    [theme=dark] .colab-df-convert {\n",
       "      background-color: #3B4455;\n",
       "      fill: #D2E3FC;\n",
       "    }\n",
       "\n",
       "    [theme=dark] .colab-df-convert:hover {\n",
       "      background-color: #434B5C;\n",
       "      box-shadow: 0px 1px 3px 1px rgba(0, 0, 0, 0.15);\n",
       "      filter: drop-shadow(0px 1px 2px rgba(0, 0, 0, 0.3));\n",
       "      fill: #FFFFFF;\n",
       "    }\n",
       "  </style>\n",
       "\n",
       "      <script>\n",
       "        const buttonEl =\n",
       "          document.querySelector('#df-eec0ed22-7e2d-40e6-9dc8-5d0fc7eea0e0 button.colab-df-convert');\n",
       "        buttonEl.style.display =\n",
       "          google.colab.kernel.accessAllowed ? 'block' : 'none';\n",
       "\n",
       "        async function convertToInteractive(key) {\n",
       "          const element = document.querySelector('#df-eec0ed22-7e2d-40e6-9dc8-5d0fc7eea0e0');\n",
       "          const dataTable =\n",
       "            await google.colab.kernel.invokeFunction('convertToInteractive',\n",
       "                                                     [key], {});\n",
       "          if (!dataTable) return;\n",
       "\n",
       "          const docLinkHtml = 'Like what you see? Visit the ' +\n",
       "            '<a target=\"_blank\" href=https://colab.research.google.com/notebooks/data_table.ipynb>data table notebook</a>'\n",
       "            + ' to learn more about interactive tables.';\n",
       "          element.innerHTML = '';\n",
       "          dataTable['output_type'] = 'display_data';\n",
       "          await google.colab.output.renderOutput(dataTable, element);\n",
       "          const docLink = document.createElement('div');\n",
       "          docLink.innerHTML = docLinkHtml;\n",
       "          element.appendChild(docLink);\n",
       "        }\n",
       "      </script>\n",
       "    </div>\n",
       "  </div>\n",
       "  "
      ],
      "text/plain": [
       "                                                text choose_one  class_label  \\\n",
       "0                 Just happened a terrible car crash   Relevant            1   \n",
       "1  Our Deeds are the Reason of this #earthquake M...   Relevant            1   \n",
       "2  Heard about #earthquake is different cities, s...   Relevant            1   \n",
       "3  there is a forest fire at spot pond, geese are...   Relevant            1   \n",
       "4             Forest fire near La Ronge Sask. Canada   Relevant            1   \n",
       "\n",
       "                                          text_clean  \n",
       "0                        happened terrible car crash  \n",
       "1         deed reason earthquake may allah forgive u  \n",
       "2  heard earthquake different city stay safe ever...  \n",
       "3  forest fire spot pond goose fleeing across str...  \n",
       "4              forest fire near la ronge sask canada  "
      ]
     },
     "execution_count": 10,
     "metadata": {},
     "output_type": "execute_result"
    }
   ],
   "source": [
    "df.head()"
   ]
  },
  {
   "cell_type": "markdown",
   "metadata": {
    "id": "shc7Th1_9rjj"
   },
   "source": [
    "**Tokenizing the text data**"
   ]
  },
  {
   "cell_type": "code",
   "execution_count": 11,
   "metadata": {
    "colab": {
     "base_uri": "https://localhost:8080/",
     "height": 0
    },
    "id": "sAV3BaBwABdx",
    "outputId": "34778e06-772e-4f93-b623-9a75405fc384"
   },
   "outputs": [
    {
     "name": "stderr",
     "output_type": "stream",
     "text": [
      "[nltk_data] Downloading package punkt to /root/nltk_data...\n",
      "[nltk_data]   Unzipping tokenizers/punkt.zip.\n"
     ]
    }
   ],
   "source": [
    "nltk.download('punkt')\n",
    "df[\"clean_tokens\"] = df[\"text_clean\"].apply(lambda x: nltk.word_tokenize(x))"
   ]
  },
  {
   "cell_type": "markdown",
   "metadata": {
    "id": "9qx18pp89xLy"
   },
   "source": [
    "**Creating a term dictionary and document term matrix (First step of topic modelling)**"
   ]
  },
  {
   "cell_type": "code",
   "execution_count": 12,
   "metadata": {
    "colab": {
     "base_uri": "https://localhost:8080/",
     "height": 0
    },
    "id": "dLsoHKPNAO2j",
    "outputId": "48fb4145-cd06-4a9f-9eb1-0d93054b1cd4"
   },
   "outputs": [
    {
     "name": "stdout",
     "output_type": "stream",
     "text": [
      "CPU times: user 293 ms, sys: 7.58 ms, total: 301 ms\n",
      "Wall time: 302 ms\n"
     ]
    }
   ],
   "source": [
    "%%time\n",
    "# Creating the term dictionary of our corpus, where every unique term is assigned an index. \n",
    "dictionary = corpora.Dictionary(df[\"clean_tokens\"])\n",
    "# Converting list of documents (corpus) into Document Term Matrix using dictionary prepared above.\n",
    "doc_term_matrix = [dictionary.doc2bow(doc) for doc in df[\"clean_tokens\"]]"
   ]
  },
  {
   "cell_type": "markdown",
   "metadata": {
    "id": "VXrgGXUi-dwk"
   },
   "source": [
    "**Creating a Latent Dirichlet Allocation(LDA) Model for topic modelling**"
   ]
  },
  {
   "cell_type": "code",
   "execution_count": 13,
   "metadata": {
    "id": "ATBKIM7yAgV7"
   },
   "outputs": [],
   "source": [
    "Lda = gensim.models.ldamodel.LdaModel"
   ]
  },
  {
   "cell_type": "markdown",
   "metadata": {
    "id": "EkbLkNQA-vkq"
   },
   "source": [
    "**Building initial 3 topic model**"
   ]
  },
  {
   "cell_type": "code",
   "execution_count": 14,
   "metadata": {
    "colab": {
     "base_uri": "https://localhost:8080/",
     "height": 0
    },
    "id": "CdspS-teAyQu",
    "outputId": "42b2cd05-1c5f-482f-f90c-031344ffa343"
   },
   "outputs": [
    {
     "name": "stdout",
     "output_type": "stream",
     "text": [
      "CPU times: user 1min 47s, sys: 1.29 s, total: 1min 48s\n",
      "Wall time: 1min 48s\n",
      "(0, '0.007*\"disaster\" + 0.007*\"video\" + 0.005*\"weapon\"')\n",
      "(1, '0.008*\"like\" + 0.007*\"im\" + 0.006*\"get\"')\n",
      "(2, '0.014*\"fire\" + 0.005*\"emergency\" + 0.005*\"suicide\"')\n"
     ]
    }
   ],
   "source": [
    "import warnings\n",
    "warnings.simplefilter('ignore')\n",
    "%time ldamodel = Lda(doc_term_matrix, num_topics=3, id2word = dictionary, passes=50) #3 topics\n",
    "print(*ldamodel.print_topics(num_topics=3, num_words=3), sep='\\n')"
   ]
  },
  {
   "cell_type": "markdown",
   "metadata": {
    "id": "sxNGrdiM-9dp"
   },
   "source": [
    "**Visualizing the 3 topic model using pyLDAvis**"
   ]
  },
  {
   "cell_type": "code",
   "execution_count": 15,
   "metadata": {
    "colab": {
     "base_uri": "https://localhost:8080/",
     "height": 897
    },
    "id": "fcu0MaJ8BMUZ",
    "outputId": "0b2dcc9a-b44d-42fa-b6f7-278e13fa92e4"
   },
   "outputs": [
    {
     "name": "stdout",
     "output_type": "stream",
     "text": [
      "CPU times: user 1.79 s, sys: 136 ms, total: 1.92 s\n",
      "Wall time: 5.59 s\n"
     ]
    },
    {
     "data": {
      "text/html": [
       "\n",
       "<link rel=\"stylesheet\" type=\"text/css\" href=\"https://cdn.jsdelivr.net/gh/bmabey/pyLDAvis@3.3.1/pyLDAvis/js/ldavis.v1.0.0.css\">\n",
       "\n",
       "\n",
       "<div id=\"ldavis_el1961402539321456804596555709\"></div>\n",
       "<script type=\"text/javascript\">\n",
       "\n",
       "var ldavis_el1961402539321456804596555709_data = {\"mdsDat\": {\"x\": [0.0693130115528215, 0.1139381682797679, -0.18325117983258937], \"y\": [0.17473793525267647, -0.1603693385227151, -0.014368596729961389], \"topics\": [1, 2, 3], \"cluster\": [1, 1, 1], \"Freq\": [25.352943118495947, 45.092812931673166, 29.554243949830884]}, \"tinfo\": {\"Term\": [\"fire\", \"like\", \"im\", \"disaster\", \"video\", \"get\", \"emergency\", \"suicide\", \"wild\", \"dont\", \"nuclear\", \"train\", \"obama\", \"youtube\", \"weapon\", \"volcano\", \"wildfire\", \"hiroshima\", \"service\", \"officer\", \"northern\", \"mh370\", \"life\", \"got\", \"suspect\", \"wounded\", \"bomber\", \"back\", \"know\", \"california\", \"disaster\", \"video\", \"nuclear\", \"obama\", \"youtube\", \"hiroshima\", \"officer\", \"northern\", \"suspect\", \"volcano\", \"earthquake\", \"latest\", \"saipan\", \"sign\", \"declares\", \"japan\", \"typhoondevastated\", \"liked\", \"failure\", \"a\", \"texas\", \"rule\", \"natural\", \"atomic\", \"declaration\", \"structural\", \"rescuer\", \"seek\", \"70\", \"exchanging\", \"spill\", \"caused\", \"wildfire\", \"violent\", \"wounded\", \"weapon\", \"police\", \"year\", \"california\", \"news\", \"new\", \"storm\", \"via\", \"change\", \"3\", \"amp\", \"windstorm\", \"home\", \"u\", \"like\", \"im\", \"get\", \"dont\", \"mh370\", \"got\", \"wreckage\", \"know\", \"back\", \"life\", \"cant\", \"wrecked\", \"let\", \"malaysia\", \"think\", \"going\", \"confirmed\", \"see\", \"good\", \"want\", \"na\", \"wound\", \"even\", \"conclusively\", \"zone\", \"lol\", \"much\", \"thing\", \"really\", \"never\", \"crash\", \"make\", \"would\", \"investigator\", \"one\", \"people\", \"look\", \"war\", \"time\", \"amp\", \"u\", \"love\", \"day\", \"2\", \"go\", \"fire\", \"emergency\", \"suicide\", \"wild\", \"train\", \"service\", \"bomber\", \"plan\", \"forest\", \"wave\", \"thunderstorm\", \"legionnaire\", \"fatal\", \"wind\", \"road\", \"area\", \"saudi\", \"warning\", \"released\", \"heat\", \"mosque\", \"reddit\", \"trapped\", \"august\", \"national\", \"county\", \"outbreak\", \"pkk\", \"as\", \"detonated\", \"tornado\", \"security\", \"saw\", \"army\", \"wreck\", \"near\", \"via\", \"two\", \"old\", \"man\", \"family\", \"new\", \"bomb\", \"2015\", \"news\", \"car\", \"building\", \"california\", \"woman\", \"amp\"], \"Freq\": [463.0, 417.0, 344.0, 192.0, 186.0, 297.0, 157.0, 152.0, 145.0, 207.0, 118.0, 128.0, 104.0, 99.0, 224.0, 93.0, 142.0, 85.0, 96.0, 84.0, 83.0, 146.0, 143.0, 138.0, 77.0, 135.0, 84.0, 131.0, 130.0, 151.0, 191.60775833836297, 185.8134712239659, 117.74188593698699, 104.12477943632285, 98.65186345070794, 84.77662091831323, 84.39856068889993, 82.9608785418704, 77.32060882065814, 93.24769971826318, 63.57603543684845, 60.47246793359035, 53.21817283761392, 56.38236475565768, 50.70217924586013, 49.135043267852126, 46.673536415458365, 46.24296353401419, 46.93922799315555, 49.79550086936366, 44.01432825368905, 46.48308199995886, 46.04166449870815, 40.046689222934255, 38.086915634486324, 40.32477189601667, 40.33495098475296, 39.789807090321546, 34.11829599031884, 32.99982762256356, 39.38551786346333, 34.758993427783246, 107.02866189749842, 86.5150459460731, 93.86657288082489, 125.56457028796443, 105.15304101548875, 89.84406451072282, 87.13244015070092, 109.44102233472387, 110.7293876026976, 95.9959636535342, 89.97401990134844, 53.765927414311236, 60.12336955867373, 67.81576414592746, 55.503580811844735, 57.869939227074354, 62.287644447867166, 417.07253250164626, 343.506510302242, 297.4297439457528, 206.9605867163356, 146.37910993844324, 137.7037801924156, 123.53174525151046, 130.03822254652036, 130.85297325317597, 142.4458811448818, 115.86920693753392, 116.43562903073885, 110.66501095914491, 105.23347301151293, 106.91735670995097, 111.67693318958305, 115.90655973316464, 125.17245479088358, 105.72134672737805, 103.6527726940242, 93.48978151368478, 126.69561624896687, 90.13235875968928, 83.01749180149069, 91.96864438041061, 82.3284093490881, 79.42936464043366, 77.55529162327512, 71.99624980482588, 74.8547108039593, 118.26030051675015, 127.76865707703227, 153.8219117972902, 80.84367003335674, 183.41526457105735, 171.43959917433818, 119.64933044171735, 128.1619021857178, 138.73243455390326, 206.39176288183168, 176.05123982681675, 109.18224450233771, 111.70792708920317, 112.55140719653986, 110.11904941443458, 462.99904995792537, 156.45069224651172, 151.81292018075342, 144.51372535256246, 127.90317133948585, 95.86678600065689, 84.03521790650306, 79.60484783146659, 76.06292045223788, 68.8226952818231, 66.02887375679984, 61.37167625973012, 69.76638221022401, 58.23450845601904, 55.65880045609694, 56.790737541532366, 50.99879577244565, 54.76746437171646, 49.4409084133188, 51.82812638979621, 47.86176664150295, 47.86468251755163, 56.44877049470304, 48.67494000738071, 46.4385905070773, 44.73670459568034, 41.98723586906328, 41.10284466683986, 57.32731495317848, 39.5522095187081, 47.08798758558358, 46.267389604728415, 43.11368601036598, 66.51987280260028, 109.04952158331966, 58.12758050785876, 113.66802937801089, 71.75755076020322, 59.826655484761496, 73.13960854484736, 86.83942864541697, 101.03309620540782, 67.77702015414641, 58.72788742635791, 83.21961964113495, 67.25867633758618, 61.60396064259482, 63.82077602211971, 59.08170162510223, 59.29473672855048], \"Total\": [463.0, 417.0, 344.0, 192.0, 186.0, 297.0, 157.0, 152.0, 145.0, 207.0, 118.0, 128.0, 104.0, 99.0, 224.0, 93.0, 142.0, 85.0, 96.0, 84.0, 83.0, 146.0, 143.0, 138.0, 77.0, 135.0, 84.0, 131.0, 130.0, 151.0, 192.2087828459504, 186.43253095029257, 118.32001879266588, 104.68484885053849, 99.24676009487422, 85.34906161913733, 84.96885841006869, 83.53025369129074, 77.88747522141914, 93.94640092422698, 64.16455339890639, 61.07653924487688, 53.77990040199615, 56.99201594642957, 51.26958851867564, 49.70822913830524, 47.22704826578138, 46.80302248439402, 47.516737245908146, 50.41341512588754, 44.584368814344835, 47.08547560977961, 46.63998950078237, 40.61426254546393, 38.64038665993487, 40.91594504359897, 40.977185344676535, 40.43375142323853, 34.6845840351624, 33.55350998499529, 40.06968118505605, 35.391244484707386, 142.89387877605975, 119.24184751694374, 135.26450130786358, 224.32436333431048, 182.00619148775695, 154.73557892885412, 151.2391714858437, 230.60624454348815, 265.0120734277101, 206.90334911410616, 230.88392862769584, 81.87562235934935, 135.17625870671134, 333.5022637563097, 102.92921303274242, 137.3286549713382, 278.8334652044496, 417.63606852410857, 344.0549541725301, 297.99317528859945, 207.51167763222364, 146.90707603632802, 138.26082974197877, 124.06433976601443, 130.60875350892513, 131.43316059190693, 143.09996762231992, 116.43191415063099, 117.00271184098821, 111.21093776309142, 105.76010440689402, 107.46464903974842, 112.24922418431113, 116.50562215636361, 125.83050827522725, 106.2804290754314, 104.21688220309235, 94.02211884248273, 127.46532447154202, 90.69268059003575, 83.54020866167474, 92.55343816650337, 82.86453061423809, 79.99016772928337, 78.1233005483013, 72.54253907353488, 75.43052179020961, 119.60503394069949, 129.51249065215708, 164.78882503718143, 81.79724396844847, 239.2900588938444, 219.9800692935034, 139.1682252130443, 153.3195296653997, 175.5805197641006, 333.5022637563097, 278.8334652044496, 130.39079541024364, 154.13545774856976, 176.1252608863661, 142.9050264730476, 463.5795817260264, 157.0215337524327, 152.38903972139246, 145.0933155631974, 128.46600730824701, 96.4126436526358, 84.55512921026848, 80.1613524147357, 76.59883397783553, 69.37385452850292, 66.5625783342955, 61.88602023973411, 70.41558849851313, 58.790399975791935, 56.20255895417997, 57.35207752791956, 51.51507209386169, 55.32853120336637, 49.96043931680119, 52.37489434764406, 48.37796589883495, 48.3814773603688, 57.074545479615416, 49.24088984749873, 46.99127867868185, 45.282128443734656, 42.50523731437869, 41.61857731635366, 58.05463442839369, 40.06628946910229, 47.76618942329852, 47.1009655773642, 43.76859036895356, 74.44318620627206, 167.76290107408647, 69.97765103259567, 230.88392862769584, 103.40338122984184, 74.88964791927582, 116.99002122541819, 178.1828912698045, 265.0120734277101, 111.40344636987442, 75.52570121514708, 230.60624454348815, 123.70189123100748, 105.56514404839699, 151.2391714858437, 96.11580445677296, 333.5022637563097], \"Category\": [\"Default\", \"Default\", \"Default\", \"Default\", \"Default\", \"Default\", \"Default\", \"Default\", \"Default\", \"Default\", \"Default\", \"Default\", \"Default\", \"Default\", \"Default\", \"Default\", \"Default\", \"Default\", \"Default\", \"Default\", \"Default\", \"Default\", \"Default\", \"Default\", \"Default\", \"Default\", \"Default\", \"Default\", \"Default\", \"Default\", \"Topic1\", \"Topic1\", \"Topic1\", \"Topic1\", \"Topic1\", \"Topic1\", \"Topic1\", \"Topic1\", \"Topic1\", \"Topic1\", \"Topic1\", \"Topic1\", \"Topic1\", \"Topic1\", \"Topic1\", \"Topic1\", \"Topic1\", \"Topic1\", \"Topic1\", \"Topic1\", \"Topic1\", \"Topic1\", \"Topic1\", \"Topic1\", \"Topic1\", \"Topic1\", \"Topic1\", \"Topic1\", \"Topic1\", \"Topic1\", \"Topic1\", \"Topic1\", \"Topic1\", \"Topic1\", \"Topic1\", \"Topic1\", \"Topic1\", \"Topic1\", \"Topic1\", \"Topic1\", \"Topic1\", \"Topic1\", \"Topic1\", \"Topic1\", \"Topic1\", \"Topic1\", \"Topic1\", \"Topic1\", \"Topic1\", \"Topic2\", \"Topic2\", \"Topic2\", \"Topic2\", \"Topic2\", \"Topic2\", \"Topic2\", \"Topic2\", \"Topic2\", \"Topic2\", \"Topic2\", \"Topic2\", \"Topic2\", \"Topic2\", \"Topic2\", \"Topic2\", \"Topic2\", \"Topic2\", \"Topic2\", \"Topic2\", \"Topic2\", \"Topic2\", \"Topic2\", \"Topic2\", \"Topic2\", \"Topic2\", \"Topic2\", \"Topic2\", \"Topic2\", \"Topic2\", \"Topic2\", \"Topic2\", \"Topic2\", \"Topic2\", \"Topic2\", \"Topic2\", \"Topic2\", \"Topic2\", \"Topic2\", \"Topic2\", \"Topic2\", \"Topic2\", \"Topic2\", \"Topic2\", \"Topic2\", \"Topic3\", \"Topic3\", \"Topic3\", \"Topic3\", \"Topic3\", \"Topic3\", \"Topic3\", \"Topic3\", \"Topic3\", \"Topic3\", \"Topic3\", \"Topic3\", \"Topic3\", \"Topic3\", \"Topic3\", \"Topic3\", \"Topic3\", \"Topic3\", \"Topic3\", \"Topic3\", \"Topic3\", \"Topic3\", \"Topic3\", \"Topic3\", \"Topic3\", \"Topic3\", \"Topic3\", \"Topic3\", \"Topic3\", \"Topic3\", \"Topic3\", \"Topic3\", \"Topic3\", \"Topic3\", \"Topic3\", \"Topic3\", \"Topic3\", \"Topic3\", \"Topic3\", \"Topic3\", \"Topic3\", \"Topic3\", \"Topic3\", \"Topic3\", \"Topic3\", \"Topic3\", \"Topic3\", \"Topic3\", \"Topic3\", \"Topic3\"], \"logprob\": [30.0, 29.0, 28.0, 27.0, 26.0, 25.0, 24.0, 23.0, 22.0, 21.0, 20.0, 19.0, 18.0, 17.0, 16.0, 15.0, 14.0, 13.0, 12.0, 11.0, 10.0, 9.0, 8.0, 7.0, 6.0, 5.0, 4.0, 3.0, 2.0, 1.0, -4.9708, -5.0015, -5.4577, -5.5806, -5.6346, -5.7862, -5.7907, -5.8078, -5.8783, -5.691, -6.074, -6.124, -6.2518, -6.1941, -6.3002, -6.3316, -6.383, -6.3923, -6.3774, -6.3183, -6.4417, -6.3871, -6.3967, -6.5362, -6.5863, -6.5292, -6.529, -6.5426, -6.6964, -6.7297, -6.5528, -6.6778, -5.5531, -5.7659, -5.6843, -5.3934, -5.5708, -5.7281, -5.7588, -5.5308, -5.5191, -5.6619, -5.7267, -6.2416, -6.1298, -6.0094, -6.2098, -6.168, -6.0944, -4.7688, -4.9628, -5.1069, -5.4695, -5.8158, -5.8769, -5.9855, -5.9342, -5.928, -5.8431, -6.0496, -6.0447, -6.0955, -6.1459, -6.13, -6.0864, -6.0493, -5.9723, -6.1412, -6.161, -6.2642, -5.9603, -6.3008, -6.383, -6.2806, -6.3913, -6.4272, -6.451, -6.5254, -6.4865, -6.0292, -5.9518, -5.7662, -6.4095, -5.5903, -5.6578, -6.0175, -5.9487, -5.8695, -5.4723, -5.6313, -6.109, -6.0862, -6.0786, -6.1005, -4.2418, -5.3268, -5.3569, -5.4062, -5.5283, -5.8166, -5.9483, -6.0025, -6.048, -6.148, -6.1895, -6.2626, -6.1344, -6.3151, -6.3603, -6.3402, -6.4477, -6.3764, -6.4788, -6.4316, -6.5112, -6.5112, -6.3462, -6.4944, -6.5414, -6.5788, -6.6422, -6.6635, -6.3308, -6.7019, -6.5275, -6.5451, -6.6157, -6.182, -5.6877, -6.3169, -5.6463, -6.1063, -6.2881, -6.0872, -5.9155, -5.7641, -6.1633, -6.3066, -5.9581, -6.171, -6.2588, -6.2235, -6.3006, -6.297], \"loglift\": [30.0, 29.0, 28.0, 27.0, 26.0, 25.0, 24.0, 23.0, 22.0, 21.0, 20.0, 19.0, 18.0, 17.0, 16.0, 15.0, 14.0, 13.0, 12.0, 11.0, 10.0, 9.0, 8.0, 7.0, 6.0, 5.0, 4.0, 3.0, 2.0, 1.0, 1.3691, 1.3689, 1.3674, 1.3669, 1.3663, 1.3655, 1.3655, 1.3654, 1.365, 1.3648, 1.3631, 1.3623, 1.3618, 1.3615, 1.3611, 1.3607, 1.3605, 1.3602, 1.36, 1.3599, 1.3594, 1.3594, 1.3594, 1.3582, 1.3578, 1.3577, 1.3565, 1.3562, 1.3558, 1.3556, 1.3551, 1.3542, 1.0833, 1.0514, 1.0069, 0.792, 0.8237, 0.8286, 0.8208, 0.6269, 0.4996, 0.6043, 0.4299, 0.9517, 0.5621, -0.2206, 0.7547, 0.5081, -0.1266, 0.7951, 0.7949, 0.7946, 0.7938, 0.7928, 0.7924, 0.7921, 0.7921, 0.792, 0.7919, 0.7916, 0.7916, 0.7915, 0.7915, 0.7913, 0.7913, 0.7913, 0.7912, 0.7912, 0.791, 0.7908, 0.7904, 0.7902, 0.7902, 0.7901, 0.79, 0.7894, 0.7892, 0.7889, 0.7888, 0.7851, 0.7829, 0.7276, 0.7847, 0.5305, 0.5471, 0.6453, 0.6172, 0.5609, 0.3166, 0.3366, 0.6189, 0.4745, 0.3487, 0.5358, 1.2177, 1.2153, 1.2152, 1.2149, 1.2146, 1.2133, 1.2128, 1.212, 1.2119, 1.211, 1.2109, 1.2106, 1.2097, 1.2094, 1.2092, 1.2091, 1.2089, 1.2088, 1.2085, 1.2084, 1.2082, 1.2082, 1.2079, 1.2074, 1.2071, 1.2068, 1.2067, 1.2065, 1.2063, 1.206, 1.2046, 1.2011, 1.2039, 1.1064, 0.7882, 1.0334, 0.5103, 0.8536, 0.9944, 0.7492, 0.5002, 0.2546, 0.722, 0.9674, 0.1997, 0.6096, 0.6803, 0.3562, 0.7323, -0.5082]}, \"token.table\": {\"Topic\": [1, 2, 3, 1, 3, 1, 2, 3, 1, 1, 1, 2, 3, 3, 1, 3, 3, 1, 3, 2, 1, 3, 3, 2, 3, 1, 3, 2, 2, 3, 1, 1, 3, 2, 2, 3, 1, 2, 1, 2, 3, 1, 1, 3, 1, 2, 1, 3, 2, 1, 1, 2, 3, 3, 3, 3, 2, 1, 2, 2, 2, 2, 3, 1, 1, 2, 3, 2, 1, 2, 1, 2, 1, 3, 2, 2, 2, 1, 2, 1, 2, 1, 2, 3, 2, 3, 2, 2, 3, 2, 3, 2, 2, 3, 1, 2, 3, 2, 1, 2, 3, 1, 2, 3, 1, 1, 1, 1, 2, 3, 2, 3, 3, 2, 3, 3, 3, 1, 2, 3, 2, 3, 3, 1, 3, 1, 1, 3, 3, 2, 3, 2, 1, 3, 1, 1, 1, 2, 3, 1, 3, 1, 1, 2, 2, 3, 1, 2, 3, 3, 3, 2, 3, 1, 1, 2, 3, 1, 2, 3, 1, 1, 2, 3, 1, 2, 1, 2, 3, 3, 1, 2, 3, 1, 3, 3, 1, 2, 3, 1, 2, 3, 1, 2, 2, 3, 1, 2, 2, 3, 2, 2, 1, 2, 1, 2], \"Freq\": [0.11923332232023745, 0.6415888296279444, 0.24414442189381955, 0.22508893961239462, 0.7811910257136049, 0.44386492549834916, 0.4586604230149608, 0.09617073385797566, 0.9802625848282226, 0.9917995016831294, 0.2038966669494263, 0.6176869616409091, 0.17691034338259046, 0.9938611198914605, 0.10746450290068289, 0.9000152117932192, 0.9818337598922527, 0.9848756937350194, 0.9951079306599703, 0.9967043279644483, 0.38598446817555554, 0.6103940426962273, 0.993434706853939, 0.4168042434520615, 0.5873150703188139, 0.5752477955629595, 0.4231707921382691, 0.9962904144127339, 0.45270124363274794, 0.5416247022034663, 0.9889451617086694, 0.6595369713709878, 0.34198213330347516, 0.9935335490498652, 0.9956601050918812, 0.9937695410213498, 0.008360852106741617, 0.9865805485955109, 0.13624379689620678, 0.7266335834464361, 0.13624379689620678, 0.9834270121163444, 0.9947417460045064, 0.9983455051620538, 0.9989137705215181, 0.9975342224685279, 0.9974354469845154, 0.9934943078950986, 0.9923623319376024, 0.9835036636929249, 0.9891251530332579, 0.5107112099904576, 0.4882623655952727, 0.9940980611342628, 0.9987497686505767, 0.9921822050449384, 0.9966671206894668, 0.22392494364804807, 0.7697419937901652, 0.9977797246607076, 0.9973614231907892, 0.9981134950335137, 0.9928420982550217, 0.9959101879679124, 0.42234448456591345, 0.17476323499279175, 0.40778088164984744, 0.9998402750146056, 0.012225350775702522, 0.9902534128319044, 0.9857522758186636, 0.9953391063571897, 0.9823739318208476, 0.9856830308961242, 0.998103264235207, 0.9923132923046982, 0.9984769789487857, 0.9828425079884151, 0.9895669400667607, 0.13652541714111852, 0.8622657924702222, 0.1303773011470138, 0.8359485779426179, 0.038346265043239354, 0.9883216619142989, 0.00772126298370546, 0.9928129381948259, 0.3761004531764305, 0.6239848427699869, 0.99382551160365, 0.9921872304506285, 0.9876213820099181, 0.9891289533243225, 0.9789050499038334, 0.9862780950932325, 0.17148332107361514, 0.8288360518558066, 0.9942924723309353, 0.41884884173127507, 0.19999088839421242, 0.3811147118455746, 0.47266716569526623, 0.16478304859101026, 0.3599208692908908, 0.9936519564126977, 0.997295311512529, 0.9934579945612162, 0.9885974882068808, 0.20029470583395753, 0.8011788233358301, 0.7647622339429646, 0.23402560164374872, 0.9881135279720512, 0.7773431499916802, 0.21820158596257688, 0.9851369903480436, 0.9979871545342586, 0.5769034511502487, 0.22526706187771614, 0.19779546896579955, 0.9925210906529627, 0.9921152188568495, 0.9807760033751703, 0.9761529412902079, 0.9963959122511644, 0.9769466996834549, 0.9854982921841334, 0.9900015262926699, 0.9824396819163099, 0.021230987257734275, 0.9766254138557766, 0.9933997860565683, 0.9892725406876484, 0.9957200255381182, 0.9825937733565693, 0.9733044747694428, 0.46398475622091784, 0.3479885671656884, 0.18849380721474787, 0.9776139829442297, 0.9974470623208616, 0.9886056748033466, 0.9868929665287351, 0.998421718649418, 0.9956762615064554, 0.9915481288679944, 0.210729527681721, 0.7916595769664655, 0.9839595866333687, 0.9963725243898267, 0.9811729472291777, 0.2997967729033363, 0.6963021822271036, 0.99519241040635, 0.22235494564664113, 0.6312011360291748, 0.1434548036429943, 0.38980625691416787, 0.11694187707425036, 0.4937545920912793, 0.9976799598863575, 0.729609627925613, 0.2683621619956278, 0.008386317562363368, 0.9899261609288226, 0.9979189340679977, 0.1630581573955993, 0.8348577658654684, 0.9940621737786819, 0.9946110169163325, 0.5616866493106781, 0.43686739390830526, 0.999356858289197, 0.7488074430934031, 0.25193521449871503, 0.9865556285359958, 0.5440632289900638, 0.2331699552814559, 0.2234545404780619, 0.11444527840316969, 0.2705070216802193, 0.6138428568897284, 0.06675209922467777, 0.9345293891454889, 0.9963494034674041, 0.007845270893444127, 0.6949347322551015, 0.30310983002616126, 0.34572601945162107, 0.6497264848314948, 0.9994814000047413, 0.9914300119611676, 0.5816374011912354, 0.4200714564158922, 0.9975136710292777, 0.9940203391957441], \"Term\": [\"2\", \"2\", \"2\", \"2015\", \"2015\", \"3\", \"3\", \"3\", \"70\", \"a\", \"amp\", \"amp\", \"amp\", \"area\", \"army\", \"army\", \"as\", \"atomic\", \"august\", \"back\", \"bomb\", \"bomb\", \"bomber\", \"building\", \"building\", \"california\", \"california\", \"cant\", \"car\", \"car\", \"caused\", \"change\", \"change\", \"conclusively\", \"confirmed\", \"county\", \"crash\", \"crash\", \"day\", \"day\", \"day\", \"declaration\", \"declares\", \"detonated\", \"disaster\", \"dont\", \"earthquake\", \"emergency\", \"even\", \"exchanging\", \"failure\", \"family\", \"family\", \"fatal\", \"fire\", \"forest\", \"get\", \"go\", \"go\", \"going\", \"good\", \"got\", \"heat\", \"hiroshima\", \"home\", \"home\", \"home\", \"im\", \"investigator\", \"investigator\", \"japan\", \"know\", \"latest\", \"legionnaire\", \"let\", \"life\", \"like\", \"liked\", \"lol\", \"look\", \"look\", \"love\", \"love\", \"love\", \"make\", \"make\", \"malaysia\", \"man\", \"man\", \"mh370\", \"mosque\", \"much\", \"na\", \"national\", \"natural\", \"near\", \"near\", \"never\", \"new\", \"new\", \"new\", \"news\", \"news\", \"news\", \"northern\", \"nuclear\", \"obama\", \"officer\", \"old\", \"old\", \"one\", \"one\", \"outbreak\", \"people\", \"people\", \"pkk\", \"plan\", \"police\", \"police\", \"police\", \"really\", \"reddit\", \"released\", \"rescuer\", \"road\", \"rule\", \"saipan\", \"saudi\", \"saw\", \"security\", \"security\", \"see\", \"seek\", \"service\", \"sign\", \"spill\", \"storm\", \"storm\", \"storm\", \"structural\", \"suicide\", \"suspect\", \"texas\", \"thing\", \"think\", \"thunderstorm\", \"time\", \"time\", \"tornado\", \"train\", \"trapped\", \"two\", \"two\", \"typhoondevastated\", \"u\", \"u\", \"u\", \"via\", \"via\", \"via\", \"video\", \"violent\", \"violent\", \"violent\", \"volcano\", \"want\", \"war\", \"war\", \"warning\", \"wave\", \"weapon\", \"weapon\", \"wild\", \"wildfire\", \"wildfire\", \"wind\", \"windstorm\", \"windstorm\", \"windstorm\", \"woman\", \"woman\", \"woman\", \"would\", \"would\", \"wound\", \"wound\", \"wounded\", \"wounded\", \"wreck\", \"wreck\", \"wreckage\", \"wrecked\", \"year\", \"year\", \"youtube\", \"zone\"]}, \"R\": 30, \"lambda.step\": 0.01, \"plot.opts\": {\"xlab\": \"PC1\", \"ylab\": \"PC2\"}, \"topic.order\": [1, 2, 3]};\n",
       "\n",
       "function LDAvis_load_lib(url, callback){\n",
       "  var s = document.createElement('script');\n",
       "  s.src = url;\n",
       "  s.async = true;\n",
       "  s.onreadystatechange = s.onload = callback;\n",
       "  s.onerror = function(){console.warn(\"failed to load library \" + url);};\n",
       "  document.getElementsByTagName(\"head\")[0].appendChild(s);\n",
       "}\n",
       "\n",
       "if(typeof(LDAvis) !== \"undefined\"){\n",
       "   // already loaded: just create the visualization\n",
       "   !function(LDAvis){\n",
       "       new LDAvis(\"#\" + \"ldavis_el1961402539321456804596555709\", ldavis_el1961402539321456804596555709_data);\n",
       "   }(LDAvis);\n",
       "}else if(typeof define === \"function\" && define.amd){\n",
       "   // require.js is available: use it to load d3/LDAvis\n",
       "   require.config({paths: {d3: \"https://d3js.org/d3.v5\"}});\n",
       "   require([\"d3\"], function(d3){\n",
       "      window.d3 = d3;\n",
       "      LDAvis_load_lib(\"https://cdn.jsdelivr.net/gh/bmabey/pyLDAvis@3.3.1/pyLDAvis/js/ldavis.v3.0.0.js\", function(){\n",
       "        new LDAvis(\"#\" + \"ldavis_el1961402539321456804596555709\", ldavis_el1961402539321456804596555709_data);\n",
       "      });\n",
       "    });\n",
       "}else{\n",
       "    // require.js not available: dynamically load d3 & LDAvis\n",
       "    LDAvis_load_lib(\"https://d3js.org/d3.v5.js\", function(){\n",
       "         LDAvis_load_lib(\"https://cdn.jsdelivr.net/gh/bmabey/pyLDAvis@3.3.1/pyLDAvis/js/ldavis.v3.0.0.js\", function(){\n",
       "                 new LDAvis(\"#\" + \"ldavis_el1961402539321456804596555709\", ldavis_el1961402539321456804596555709_data);\n",
       "            })\n",
       "         });\n",
       "}\n",
       "</script>"
      ],
      "text/plain": [
       "<IPython.core.display.HTML object>"
      ]
     },
     "execution_count": 15,
     "metadata": {},
     "output_type": "execute_result"
    }
   ],
   "source": [
    "%%time\n",
    "\n",
    "lda_display = gensimvis.prepare(ldamodel, doc_term_matrix, dictionary, sort_topics=False, mds='mmds')\n",
    "pyLDAvis.display(lda_display)"
   ]
  },
  {
   "cell_type": "markdown",
   "metadata": {
    "id": "5SNv-uPrA1tH"
   },
   "source": [
    "**Hyperparameter tuning the LDA model to find optimal number of topics for this data using coherence score**"
   ]
  },
  {
   "cell_type": "code",
   "execution_count": 16,
   "metadata": {
    "id": "vQVR4bjLDpt_"
   },
   "outputs": [],
   "source": [
    "start_time = time.time()\n",
    "\n",
    "def tic():\n",
    "    global start_time \n",
    "    start_time = time.time()\n",
    "\n",
    "def tac():\n",
    "    t_sec = round(time.time() - start_time)\n",
    "    (t_min, t_sec) = divmod(t_sec,60)\n",
    "    (t_hour,t_min) = divmod(t_min,60) \n",
    "    print(f'Execution time to calculate for topic {k}: {t_hour}hour:{t_min}min:{t_sec}sec'.format(t_hour,t_min,t_sec))"
   ]
  },
  {
   "cell_type": "code",
   "execution_count": 20,
   "metadata": {
    "id": "5jso6qnEEQKE"
   },
   "outputs": [],
   "source": [
    "from gensim.models import CoherenceModel\n",
    "def compute_coherence_values(corpus, dictionary, k, a, b):\n",
    "    \n",
    "    lda_model = LdaMulticore(corpus=doc_term_matrix,\n",
    "                       id2word=dictionary,\n",
    "                       num_topics=k,\n",
    "                       random_state=100,                  \n",
    "                       passes=10,\n",
    "                       alpha=a,\n",
    "                       eta=b,\n",
    "                       #workers=workers\n",
    "                       )\n",
    "    \n",
    "    coherence_model_lda = CoherenceModel(model=lda_model, texts=df[\"clean_tokens\"], dictionary=dictionary, coherence='c_v')\n",
    "    \n",
    "    return coherence_model_lda.get_coherence()"
   ]
  },
  {
   "cell_type": "code",
   "execution_count": 21,
   "metadata": {
    "colab": {
     "base_uri": "https://localhost:8080/",
     "height": 0
    },
    "id": "nwlbfUfeDtqH",
    "outputId": "2fa899d4-f212-4fe5-e0a7-85ad77351788"
   },
   "outputs": [
    {
     "name": "stdout",
     "output_type": "stream",
     "text": [
      "Using 0 workers\n"
     ]
    }
   ],
   "source": [
    "import multiprocessing\n",
    "num_processors = multiprocessing.cpu_count()\n",
    "num_processors\n",
    "\n",
    "workers = num_processors-2\n",
    "\n",
    "print(f'Using {workers} workers')"
   ]
  },
  {
   "cell_type": "code",
   "execution_count": 22,
   "metadata": {
    "colab": {
     "base_uri": "https://localhost:8080/",
     "height": 0
    },
    "id": "HAM1wv3KCUmG",
    "outputId": "3a092428-06bb-459a-e541-f2c11c249453"
   },
   "outputs": [
    {
     "name": "stdout",
     "output_type": "stream",
     "text": [
      "LDA will execute 9 iterations\n",
      "Completed model based on 2 LDA topics. Finished 11.1% of LDA runs\n",
      "Execution time to calculate for topic 2: 0hour:1min:15sec\n",
      "Completed model based on 3 LDA topics. Finished 22.2% of LDA runs\n",
      "Execution time to calculate for topic 3: 0hour:1min:6sec\n",
      "Completed model based on 4 LDA topics. Finished 33.3% of LDA runs\n",
      "Execution time to calculate for topic 4: 0hour:0min:59sec\n",
      "Completed model based on 5 LDA topics. Finished 44.4% of LDA runs\n",
      "Execution time to calculate for topic 5: 0hour:0min:54sec\n",
      "Completed model based on 6 LDA topics. Finished 55.6% of LDA runs\n",
      "Execution time to calculate for topic 6: 0hour:0min:52sec\n",
      "Completed model based on 7 LDA topics. Finished 66.7% of LDA runs\n",
      "Execution time to calculate for topic 7: 0hour:0min:53sec\n",
      "Completed model based on 8 LDA topics. Finished 77.8% of LDA runs\n",
      "Execution time to calculate for topic 8: 0hour:0min:50sec\n",
      "Completed model based on 9 LDA topics. Finished 88.9% of LDA runs\n",
      "Execution time to calculate for topic 9: 0hour:0min:48sec\n",
      "Completed model based on 10 LDA topics. Finished 100.0% of LDA runs\n",
      "Execution time to calculate for topic 10: 0hour:0min:49sec\n",
      "CPU times: user 6min 54s, sys: 16.3 s, total: 7min 10s\n",
      "Wall time: 8min 26s\n"
     ]
    }
   ],
   "source": [
    "%%time\n",
    "\n",
    "grid = {}\n",
    "grid['Validation_Set'] = {}\n",
    "# Topics range\n",
    "min_topics = 2\n",
    "max_topics = 10\n",
    "step_size = 1\n",
    "topics_range = range(min_topics, max_topics+1, step_size)\n",
    "\n",
    "# Alpha parameter\n",
    "# alpha = list(np.arange(0.01, 1, 0.3))\n",
    "# alpha.append('symmetric')\n",
    "# alpha.append('asymmetric')\n",
    "alpha = ['asymmetric'] # Run for number of topics only\n",
    "\n",
    "# Beta parameter\n",
    "# beta = list(np.arange(0.01, 1, 0.3))\n",
    "# beta.append('symmetric')\n",
    "beta = ['auto'] # Run for number of topics only\n",
    "\n",
    "\n",
    "# Validation sets\n",
    "num_of_docs = len(doc_term_matrix)\n",
    "corpus_sets = [# gensim.utils.ClippedCorpus(doc_term_matrix, num_of_docs*0.25), \n",
    "               # gensim.utils.ClippedCorpus(doc_term_matrix, num_of_docs*0.5), \n",
    "#                gensim.utils.ClippedCorpus(doc_term_matrix, num_of_docs*0.75), \n",
    "               doc_term_matrix]\n",
    "# corpus_title = ['75% Corpus', '100% Corpus']\n",
    "corpus_title = ['100% Corpus']\n",
    "model_results = {\n",
    "                 'Topics': [],\n",
    "                 'Alpha': [],\n",
    "                 'Beta': [],\n",
    "                 'Coherence': []\n",
    "                }\n",
    "\n",
    "itr = 0\n",
    "itr_total = len(beta)*len(alpha)*len(topics_range)*len(corpus_title)\n",
    "print(f'LDA will execute {itr_total} iterations')\n",
    "\n",
    "    \n",
    "# iterate through hyperparameters\n",
    "for i in range(len(corpus_sets)):\n",
    "    # iterate through number of topics\n",
    "    for k in topics_range:\n",
    "        # iterate through alpha values\n",
    "        tic()\n",
    "        for a in alpha:\n",
    "            # iterare through beta values\n",
    "            for b in beta:\n",
    "                # get the coherence score for the given parameters\n",
    "                itr += 1\n",
    "                cv = compute_coherence_values(corpus=corpus_sets[i], dictionary=dictionary, \n",
    "                                              k=k, a=a, b=b)\n",
    "                # Save the model results\n",
    "                model_results['Topics'].append(k)\n",
    "                model_results['Alpha'].append(a)\n",
    "                model_results['Beta'].append(b)\n",
    "                model_results['Coherence'].append(cv)\n",
    "                pct_completed = round((itr / itr_total * 100),1)\n",
    "#                 print(f'Completed Percent: {pct_completed}%, Corpus: {corpus_title[i]}, Topics: {k}, Alpha: {a}, Beta: {b}, Coherence: {cv}')\n",
    "        print(f'Completed model based on {k} LDA topics. Finished {pct_completed}% of LDA runs')\n",
    "        tac()\n",
    "                    \n",
    "lda_tuning = pd.DataFrame(model_results)\n",
    "lda_tuning.to_csv('lda_tuning_results.csv', index=False)"
   ]
  },
  {
   "cell_type": "code",
   "execution_count": 23,
   "metadata": {
    "id": "zJCfemlRHlu8"
   },
   "outputs": [],
   "source": [
    "lda_tuning = pd.DataFrame(model_results)\n",
    "lda_tuning.to_csv('lda_tuning_results.csv', index=False)"
   ]
  },
  {
   "cell_type": "code",
   "execution_count": 24,
   "metadata": {
    "colab": {
     "base_uri": "https://localhost:8080/",
     "height": 332
    },
    "id": "5eAkTLmMCrZz",
    "outputId": "8f906016-cca7-44e0-fd87-f861fe6463cb"
   },
   "outputs": [
    {
     "data": {
      "text/html": [
       "\n",
       "  <div id=\"df-d0f9862a-30d4-41a1-872e-d9a4c17db66b\">\n",
       "    <div class=\"colab-df-container\">\n",
       "      <div>\n",
       "<style scoped>\n",
       "    .dataframe tbody tr th:only-of-type {\n",
       "        vertical-align: middle;\n",
       "    }\n",
       "\n",
       "    .dataframe tbody tr th {\n",
       "        vertical-align: top;\n",
       "    }\n",
       "\n",
       "    .dataframe thead th {\n",
       "        text-align: right;\n",
       "    }\n",
       "</style>\n",
       "<table border=\"1\" class=\"dataframe\">\n",
       "  <thead>\n",
       "    <tr style=\"text-align: right;\">\n",
       "      <th></th>\n",
       "      <th>Topics</th>\n",
       "      <th>Alpha</th>\n",
       "      <th>Beta</th>\n",
       "      <th>Coherence</th>\n",
       "    </tr>\n",
       "  </thead>\n",
       "  <tbody>\n",
       "    <tr>\n",
       "      <th>0</th>\n",
       "      <td>2</td>\n",
       "      <td>asymmetric</td>\n",
       "      <td>auto</td>\n",
       "      <td>0.490353</td>\n",
       "    </tr>\n",
       "    <tr>\n",
       "      <th>2</th>\n",
       "      <td>4</td>\n",
       "      <td>asymmetric</td>\n",
       "      <td>auto</td>\n",
       "      <td>0.411345</td>\n",
       "    </tr>\n",
       "    <tr>\n",
       "      <th>1</th>\n",
       "      <td>3</td>\n",
       "      <td>asymmetric</td>\n",
       "      <td>auto</td>\n",
       "      <td>0.402415</td>\n",
       "    </tr>\n",
       "    <tr>\n",
       "      <th>8</th>\n",
       "      <td>10</td>\n",
       "      <td>asymmetric</td>\n",
       "      <td>auto</td>\n",
       "      <td>0.396119</td>\n",
       "    </tr>\n",
       "    <tr>\n",
       "      <th>7</th>\n",
       "      <td>9</td>\n",
       "      <td>asymmetric</td>\n",
       "      <td>auto</td>\n",
       "      <td>0.394736</td>\n",
       "    </tr>\n",
       "    <tr>\n",
       "      <th>4</th>\n",
       "      <td>6</td>\n",
       "      <td>asymmetric</td>\n",
       "      <td>auto</td>\n",
       "      <td>0.393318</td>\n",
       "    </tr>\n",
       "    <tr>\n",
       "      <th>5</th>\n",
       "      <td>7</td>\n",
       "      <td>asymmetric</td>\n",
       "      <td>auto</td>\n",
       "      <td>0.381731</td>\n",
       "    </tr>\n",
       "    <tr>\n",
       "      <th>6</th>\n",
       "      <td>8</td>\n",
       "      <td>asymmetric</td>\n",
       "      <td>auto</td>\n",
       "      <td>0.363830</td>\n",
       "    </tr>\n",
       "    <tr>\n",
       "      <th>3</th>\n",
       "      <td>5</td>\n",
       "      <td>asymmetric</td>\n",
       "      <td>auto</td>\n",
       "      <td>0.350271</td>\n",
       "    </tr>\n",
       "  </tbody>\n",
       "</table>\n",
       "</div>\n",
       "      <button class=\"colab-df-convert\" onclick=\"convertToInteractive('df-d0f9862a-30d4-41a1-872e-d9a4c17db66b')\"\n",
       "              title=\"Convert this dataframe to an interactive table.\"\n",
       "              style=\"display:none;\">\n",
       "        \n",
       "  <svg xmlns=\"http://www.w3.org/2000/svg\" height=\"24px\"viewBox=\"0 0 24 24\"\n",
       "       width=\"24px\">\n",
       "    <path d=\"M0 0h24v24H0V0z\" fill=\"none\"/>\n",
       "    <path d=\"M18.56 5.44l.94 2.06.94-2.06 2.06-.94-2.06-.94-.94-2.06-.94 2.06-2.06.94zm-11 1L8.5 8.5l.94-2.06 2.06-.94-2.06-.94L8.5 2.5l-.94 2.06-2.06.94zm10 10l.94 2.06.94-2.06 2.06-.94-2.06-.94-.94-2.06-.94 2.06-2.06.94z\"/><path d=\"M17.41 7.96l-1.37-1.37c-.4-.4-.92-.59-1.43-.59-.52 0-1.04.2-1.43.59L10.3 9.45l-7.72 7.72c-.78.78-.78 2.05 0 2.83L4 21.41c.39.39.9.59 1.41.59.51 0 1.02-.2 1.41-.59l7.78-7.78 2.81-2.81c.8-.78.8-2.07 0-2.86zM5.41 20L4 18.59l7.72-7.72 1.47 1.35L5.41 20z\"/>\n",
       "  </svg>\n",
       "      </button>\n",
       "      \n",
       "  <style>\n",
       "    .colab-df-container {\n",
       "      display:flex;\n",
       "      flex-wrap:wrap;\n",
       "      gap: 12px;\n",
       "    }\n",
       "\n",
       "    .colab-df-convert {\n",
       "      background-color: #E8F0FE;\n",
       "      border: none;\n",
       "      border-radius: 50%;\n",
       "      cursor: pointer;\n",
       "      display: none;\n",
       "      fill: #1967D2;\n",
       "      height: 32px;\n",
       "      padding: 0 0 0 0;\n",
       "      width: 32px;\n",
       "    }\n",
       "\n",
       "    .colab-df-convert:hover {\n",
       "      background-color: #E2EBFA;\n",
       "      box-shadow: 0px 1px 2px rgba(60, 64, 67, 0.3), 0px 1px 3px 1px rgba(60, 64, 67, 0.15);\n",
       "      fill: #174EA6;\n",
       "    }\n",
       "\n",
       "    [theme=dark] .colab-df-convert {\n",
       "      background-color: #3B4455;\n",
       "      fill: #D2E3FC;\n",
       "    }\n",
       "\n",
       "    [theme=dark] .colab-df-convert:hover {\n",
       "      background-color: #434B5C;\n",
       "      box-shadow: 0px 1px 3px 1px rgba(0, 0, 0, 0.15);\n",
       "      filter: drop-shadow(0px 1px 2px rgba(0, 0, 0, 0.3));\n",
       "      fill: #FFFFFF;\n",
       "    }\n",
       "  </style>\n",
       "\n",
       "      <script>\n",
       "        const buttonEl =\n",
       "          document.querySelector('#df-d0f9862a-30d4-41a1-872e-d9a4c17db66b button.colab-df-convert');\n",
       "        buttonEl.style.display =\n",
       "          google.colab.kernel.accessAllowed ? 'block' : 'none';\n",
       "\n",
       "        async function convertToInteractive(key) {\n",
       "          const element = document.querySelector('#df-d0f9862a-30d4-41a1-872e-d9a4c17db66b');\n",
       "          const dataTable =\n",
       "            await google.colab.kernel.invokeFunction('convertToInteractive',\n",
       "                                                     [key], {});\n",
       "          if (!dataTable) return;\n",
       "\n",
       "          const docLinkHtml = 'Like what you see? Visit the ' +\n",
       "            '<a target=\"_blank\" href=https://colab.research.google.com/notebooks/data_table.ipynb>data table notebook</a>'\n",
       "            + ' to learn more about interactive tables.';\n",
       "          element.innerHTML = '';\n",
       "          dataTable['output_type'] = 'display_data';\n",
       "          await google.colab.output.renderOutput(dataTable, element);\n",
       "          const docLink = document.createElement('div');\n",
       "          docLink.innerHTML = docLinkHtml;\n",
       "          element.appendChild(docLink);\n",
       "        }\n",
       "      </script>\n",
       "    </div>\n",
       "  </div>\n",
       "  "
      ],
      "text/plain": [
       "   Topics       Alpha  Beta  Coherence\n",
       "0       2  asymmetric  auto   0.490353\n",
       "2       4  asymmetric  auto   0.411345\n",
       "1       3  asymmetric  auto   0.402415\n",
       "8      10  asymmetric  auto   0.396119\n",
       "7       9  asymmetric  auto   0.394736\n",
       "4       6  asymmetric  auto   0.393318\n",
       "5       7  asymmetric  auto   0.381731\n",
       "6       8  asymmetric  auto   0.363830\n",
       "3       5  asymmetric  auto   0.350271"
      ]
     },
     "execution_count": 24,
     "metadata": {},
     "output_type": "execute_result"
    }
   ],
   "source": [
    "import os \n",
    "lda_tuning = pd.read_csv('lda_tuning_results.csv')\n",
    "lda_tuning.sort_values(by=['Coherence'], ascending=False).head(10)"
   ]
  },
  {
   "cell_type": "code",
   "execution_count": 25,
   "metadata": {
    "colab": {
     "base_uri": "https://localhost:8080/",
     "height": 297
    },
    "id": "3Ay93s9qHKlE",
    "outputId": "2c49dc48-42a4-4732-ec0e-e0154105a28a"
   },
   "outputs": [
    {
     "data": {
      "text/plain": [
       "<matplotlib.axes._subplots.AxesSubplot at 0x7f8f64254e20>"
      ]
     },
     "execution_count": 25,
     "metadata": {},
     "output_type": "execute_result"
    },
    {
     "data": {
      "image/png": "[encoded data removed]",
      "text/plain": [
       "<Figure size 432x288 with 1 Axes>"
      ]
     },
     "metadata": {
      "needs_background": "light"
     },
     "output_type": "display_data"
    }
   ],
   "source": [
    "lda_tuning.plot(x ='Topics', y='Coherence', kind = 'line', xticks=range(2,11))"
   ]
  },
  {
   "cell_type": "markdown",
   "metadata": {
    "id": "xf72clETE_IH"
   },
   "source": [
    "We can see that the coherence score of topic 2 is the highest followed by 4, 3 and 10. Since the coherence scores are very close to each other, we will run all the lda topic models and check if the topics make sense and if there is any overlap in pyLDAviz"
   ]
  },
  {
   "cell_type": "code",
   "execution_count": 26,
   "metadata": {
    "colab": {
     "base_uri": "https://localhost:8080/",
     "height": 0
    },
    "id": "7KoLD3aAHuJF",
    "outputId": "45b05304-67ca-4eeb-f639-b0f4a1d4c2ec"
   },
   "outputs": [
    {
     "name": "stdout",
     "output_type": "stream",
     "text": [
      "Best Parameters: Topics: 2, Alpha: asymmetric, Beta: auto\n"
     ]
    }
   ],
   "source": [
    "lda_tuning_best = lda_tuning.sort_values(by=['Coherence'], ascending=False).head(1)\n",
    "\n",
    "\n",
    "tuned_topics = int(lda_tuning_best['Topics'].to_string(index=False))\n",
    "\n",
    "\n",
    "# Since the values for Alpha and Beta can be float, symmetric and asymmetric, we will either strip or convert to float\n",
    "try:\n",
    "    tuned_alpha = float(lda_tuning_best['Alpha'].to_string(index=False))\n",
    "except:\n",
    "    tuned_alpha = lda_tuning_best['Alpha'].to_string(index=False).strip()\n",
    "    \n",
    "\n",
    "try:\n",
    "    tuned_beta = float(lda_tuning_best['Beta'].to_string(index=False))\n",
    "except:\n",
    "    tuned_beta = lda_tuning_best['Beta'].to_string(index=False).strip()    \n",
    "    \n",
    "print(f'Best Parameters: Topics: {tuned_topics}, Alpha: {tuned_alpha}, Beta: {tuned_beta}')"
   ]
  },
  {
   "cell_type": "markdown",
   "metadata": {
    "id": "kBg2E83oHyVb"
   },
   "source": [
    "**2 Topic Model**"
   ]
  },
  {
   "cell_type": "code",
   "execution_count": 28,
   "metadata": {
    "colab": {
     "base_uri": "https://localhost:8080/",
     "height": 0
    },
    "id": "sqXuHxqtIBON",
    "outputId": "41d6ec79-463e-4220-83a3-5d6683c33c54"
   },
   "outputs": [
    {
     "name": "stdout",
     "output_type": "stream",
     "text": [
      "\n",
      "Coherence Score:  0.4058847044413422\n",
      "(0, '0.005*\"fire\" + 0.005*\"like\" + 0.004*\"im\"')\n",
      "(1, '0.005*\"fire\" + 0.004*\"like\" + 0.004*\"amp\"')\n",
      "CPU times: user 5min 55s, sys: 13.9 s, total: 6min 9s\n",
      "Wall time: 7min 7s\n"
     ]
    }
   ],
   "source": [
    "%%time\n",
    "\n",
    "tuned_lda_model = LdaMulticore(corpus=doc_term_matrix,\n",
    "                       id2word=dictionary,\n",
    "                       num_topics=tuned_topics,\n",
    "                       random_state=100,\n",
    "                       passes=50,\n",
    "                       alpha=tuned_alpha,\n",
    "                       eta=tuned_beta)\n",
    "\n",
    "coherence_model_lda = CoherenceModel(model=tuned_lda_model, texts=df[\"clean_tokens\"], dictionary=dictionary, coherence='c_v')\n",
    "print('\\nCoherence Score: ', coherence_model_lda.get_coherence())\n",
    "print(*tuned_lda_model.print_topics(num_topics=2, num_words=3), sep='\\n')"
   ]
  },
  {
   "cell_type": "code",
   "execution_count": 29,
   "metadata": {
    "colab": {
     "base_uri": "https://localhost:8080/",
     "height": 897
    },
    "id": "skgez6UXIMNw",
    "outputId": "fdfd4901-57ea-44ea-eb54-07041247de18"
   },
   "outputs": [
    {
     "name": "stdout",
     "output_type": "stream",
     "text": [
      "CPU times: user 4.97 s, sys: 269 ms, total: 5.24 s\n",
      "Wall time: 8.16 s\n"
     ]
    },
    {
     "data": {
      "text/html": [
       "\n",
       "<link rel=\"stylesheet\" type=\"text/css\" href=\"https://cdn.jsdelivr.net/gh/bmabey/pyLDAvis@3.3.1/pyLDAvis/js/ldavis.v1.0.0.css\">\n",
       "\n",
       "\n",
       "<div id=\"ldavis_el1961402537963703529663683100\"></div>\n",
       "<script type=\"text/javascript\">\n",
       "\n",
       "var ldavis_el1961402537963703529663683100_data = {\"mdsDat\": {\"x\": [-0.00016627465738981432, 0.00016627465738981432], \"y\": [-0.0029344113594909995, 0.0029344113594909995], \"topics\": [1, 2], \"cluster\": [1, 1], \"Freq\": [66.38593699647029, 33.614063003529715]}, \"tinfo\": {\"Term\": [\"fire\", \"new\", \"via\", \"news\", \"suicide\", \"amp\", \"police\", \"california\", \"video\", \"wildfire\", \"u\", \"get\", \"home\", \"like\", \"officer\", \"wounded\", \"people\", \"emergency\", \"killed\", \"suspect\", \"bomber\", \"storm\", \"year\", \"service\", \"dead\", \"family\", \"one\", \"world\", \"2\", \"flood\", \"twia\", \"amsterdam\", \"were\", \"cramer\", \"pov\", \"kerricktrial\", \"hike\", \"salvadoran\", \"conclusively\", \"igers\", \"3m\", \"asics\", \"fieg\", \"gtii\", \"kith\", \"approves\", \"association\", \"wrecked\", \"salvador\", \"gunshot\", \"schiphol\", \"wolverine\", \"150401\", \"010401\", \"hawaii\", \"impacted\", \"5km\", \"outbid\", \"heals\", \"onshit\", \"wreckage\", \"mh370\", \"malaysia\", \"confirmed\", \"volcano\", \"saipan\", \"typhoondevastated\", \"zone\", \"declaration\", \"emotional\", \"marians\", \"obama\", \"declares\", \"windstorm\", \"im\", \"like\", \"wound\", \"whirlwind\", \"dont\", \"weapon\", \"know\", \"sign\", \"wreck\", \"na\", \"fire\", \"got\", \"think\", \"war\", \"disaster\", \"good\", \"get\", \"one\", \"amp\", \"still\", \"u\", \"love\", \"would\", \"time\", \"people\", \"life\", \"2\", \"storm\", \"new\", \"via\", \"day\", \"video\", \"news\", \"year\", \"family\", \"say\", \"emergency\", \"go\", \"police\", \"landfall\", \"soudelors\", \"idfire\", \"gunfire\", \"karymsky\", \"2082676773\", \"exc\", \"measurement\", \"precipitation\", \"parker\", \"hieroglyphic\", \"lowly\", \"mayan\", \"nasahurricane\", \"exchanging\", \"diaporama\", \"located\", \"sixpenceee\", \"volcanoinrussia\", \"livescience\", \"exchange\", \"dimemiloko\", \"hiker\", \"1600yearold\", \"httptcoglpfu0uriz\", \"httptcoezeisasm0c\", \"httptcozggpacjp7d\", \"httptcozdhwrn6czc\", \"httptcocrcn8rwvkj\", \"httptcoy0qqs2l7bs\", \"bomber\", \"16yr\", \"satellite\", \"pkk\", \"detonated\", \"3d\", \"bestnaijamade\", \"trench\", \"tablet\", \"ridge\", \"officer\", \"suspect\", \"mosque\", \"released\", \"turkey\", \"taiwan\", \"suicide\", \"migrant\", \"ancient\", \"saudi\", \"structural\", \"galactic\", \"richmond\", \"oil\", \"legionnaire\", \"prebreak\", \"reddit\", \"outbreak\", \"california\", \"soudelor\", \"refugee\", \"wildfire\", \"police\", \"spill\", \"news\", \"new\", \"via\", \"content\", \"home\", \"wounded\", \"hostage\", \"thunderstorm\", \"fire\", \"video\", \"amp\", \"killed\", \"service\", \"u\", \"get\", \"dead\", \"emergency\", \"like\", \"people\", \"year\", \"storm\", \"state\", \"im\", \"one\", \"family\", \"2\", \"world\", \"disaster\", \"time\", \"dont\", \"nuclear\", \"go\", \"weapon\", \"day\", \"would\"], \"Freq\": [545.0, 330.0, 305.0, 280.0, 141.0, 422.0, 215.0, 172.0, 245.0, 156.0, 350.0, 363.0, 169.0, 489.0, 83.0, 135.0, 270.0, 201.0, 144.0, 78.0, 74.0, 231.0, 204.0, 122.0, 142.0, 200.0, 290.0, 167.0, 223.0, 141.0, 11.67787442513864, 11.676506384298948, 40.55982635203156, 13.328402017819116, 10.022750215236798, 10.021820999804914, 6.717022118069188, 6.717304144949987, 55.81883601598048, 10.022069351834274, 5.063981539600109, 5.063981539600109, 5.063981539600109, 5.063981539600109, 5.063981539600109, 5.063660576172334, 5.063660576172334, 78.071085240754, 7.3804214269352375, 5.062715049484286, 5.062731360740451, 5.0626229698123835, 10.6344202167672, 10.634422321445415, 19.509344178615997, 5.062501424645472, 17.856660343104345, 3.409743399226744, 5.062164676131086, 3.4095066229275663, 82.94045192134725, 106.10380792664304, 75.44391644963446, 80.49264380770244, 71.36740730873692, 42.94656933194893, 37.98708453954961, 63.47010743005356, 30.710820480453016, 22.848216222142476, 24.589462812259384, 87.66580809976338, 41.51266048284267, 72.37463895269062, 286.7774257654164, 345.04852339414447, 85.0742167891887, 77.38530530992014, 174.65466749848267, 162.11134097265963, 111.08813213133475, 49.35052845809335, 109.58984538499078, 77.16494550081893, 371.78904942449367, 118.18232047805935, 89.2508917756903, 118.88469369193957, 170.0760831600616, 86.45555077648648, 248.82327523057373, 200.6027905996306, 285.95680331070963, 125.56912644635953, 238.11770320973415, 108.77503184215712, 139.38819104408182, 151.27713101932463, 183.3554745886292, 121.03027001392311, 151.08270926454398, 155.2448198777984, 213.33383758479803, 195.9204203690758, 126.09964005592295, 159.89668069294984, 178.37624370521758, 135.96312190426366, 133.51044777458597, 119.6511333106817, 132.1779086470227, 120.46460827817067, 133.65987150913182, 4.6787199360292275, 3.754641250882573, 4.67701483306751, 7.819759371617604, 3.754013826277128, 1.906538363957336, 1.9064706926835429, 3.753303810746975, 3.753303810746975, 5.945724932501522, 5.598322459479036, 5.598322459479036, 8.364513658497373, 4.123472338954111, 13.900933953485268, 1.9055014482187413, 1.9055014482187413, 1.9055014482187413, 1.9055014482187413, 1.904959811606058, 8.530074893322778, 0.9812189499836933, 1.9044755890071638, 0.9809685129861909, 0.9809685129861909, 0.9810311888411509, 0.9810315218690732, 0.9809985521047743, 0.9809964207260722, 0.9808482899062729, 33.64249775273722, 14.698802782361927, 8.134757428541992, 16.475853629238873, 15.78132576242518, 5.189260799137452, 11.76927497503855, 12.112876666990433, 10.047783842479834, 6.765241109166542, 37.05350294318634, 34.93575653921789, 19.577097027390103, 20.07067957585469, 15.200367344066057, 13.872517346938887, 61.130567036148, 25.824157346490573, 14.707673580520265, 21.02864478456445, 18.670338191999434, 9.565557279740286, 14.35858998254646, 24.904288400702995, 27.290309310532034, 14.374865190316058, 21.022357217393115, 18.532680967142543, 68.56573244207999, 20.635482143651537, 23.530024435268512, 60.8946362020925, 81.44594806941753, 20.783112089455773, 102.12458423765145, 117.63232516417963, 109.10906961701438, 25.751754411978627, 63.46114012904067, 51.9551650219719, 34.10395189864564, 27.356610107819733, 173.92167861627007, 85.96918552765914, 136.87502592423243, 53.7378757449924, 46.506099283091515, 111.93783543050438, 114.68848195180328, 51.85496890918395, 69.39301429704629, 144.2626061692603, 87.63459369242825, 68.84690818322468, 75.8696901751078, 37.30142065106272, 116.74556931790862, 89.97879482074245, 67.02647205717618, 72.6173171073234, 57.93965866737613, 74.66645016811232, 68.80082351292685, 73.14443263690887, 52.85698545290969, 58.63829902939562, 67.56085558813598, 59.668351728569405, 61.93811232433241], \"Total\": [545.0, 330.0, 305.0, 280.0, 141.0, 422.0, 215.0, 172.0, 245.0, 156.0, 350.0, 363.0, 169.0, 489.0, 83.0, 135.0, 270.0, 201.0, 144.0, 78.0, 74.0, 231.0, 204.0, 122.0, 142.0, 200.0, 290.0, 167.0, 223.0, 141.0, 15.780259702480718, 15.78830489567906, 54.854791483250864, 18.027121213055267, 13.55734366615227, 13.557169491625622, 9.087035308155748, 9.087585089486003, 75.52655458713168, 13.560731604692146, 6.852327894331421, 6.852327894331421, 6.852327894331421, 6.852327894331421, 6.852327894331421, 6.853633572486892, 6.853633572486892, 105.71663783370904, 9.996362150035047, 6.858718248991894, 6.859106619042753, 6.859310208672213, 14.408637914606658, 14.408640818551888, 26.4357367000732, 6.86045776631126, 24.199708367745373, 4.6209790070009875, 6.861326046030602, 4.62272880886338, 112.8631290234812, 145.0916905012947, 103.19181997924532, 110.35095966716766, 97.85759918586152, 58.596904822097535, 51.88288933018816, 87.15428596133358, 41.88308136136917, 31.099318154209236, 33.538645619436316, 121.13082807935149, 56.929302020883675, 100.21098404154708, 403.52299508332504, 489.31112956340473, 118.40966599471587, 107.62992077087736, 247.79910013539154, 229.6721965607956, 156.45934472240864, 68.41463460255711, 154.55764766635184, 108.09292146987994, 545.7107280407638, 167.6344156660164, 125.67644366289258, 168.91423052339718, 244.74253332817392, 121.87170728689617, 363.511757182377, 290.581585420373, 422.83182923494206, 179.52529799802585, 350.0555386402385, 154.82417631978046, 201.32630336841424, 220.07795453225148, 270.99006828105746, 173.89514156803074, 223.70002637186738, 231.1145100529062, 330.9661627489777, 305.0294899860902, 185.76799178449235, 245.86586622060898, 280.500827942869, 204.81003008748834, 200.53691983176213, 175.81389139337938, 201.57092294406897, 179.10290730756628, 215.10581957854936, 10.11906319103711, 8.125448335825505, 10.122954953618397, 16.929472816409053, 8.132581122883215, 4.130428446893837, 4.131215274975298, 8.134912893543163, 8.134912893543163, 12.88677794464829, 12.138093839983926, 12.138093839983926, 18.17442302755572, 8.964441122563102, 30.226908133805296, 4.145640962398242, 4.145640962398242, 4.145640962398242, 4.145640962398242, 4.144547110838921, 18.568312383204002, 2.1399384916425226, 4.154123250107303, 2.141327598974436, 2.141327598974436, 2.1425232494209605, 2.1425241086184363, 2.142916415395938, 2.14291730949217, 2.1437516687715688, 74.70719010560529, 32.43949746050287, 17.869897051676503, 36.468762360478266, 34.966595798865555, 11.371845135111517, 26.010174965679997, 26.778242898319668, 22.193685033320286, 14.903957576321753, 83.29183109682094, 78.99961534833467, 43.7729913274957, 44.94612606395623, 33.96675590346191, 31.02194477416478, 141.00489847787378, 58.55739679850337, 32.98178842883942, 47.744022014923665, 42.2955047958893, 21.277086561874466, 32.41212613523005, 57.53090906370481, 63.54946145435227, 32.609873012723945, 48.88923757398178, 42.8115206356978, 172.19300760680113, 48.03275827821632, 55.474699891144034, 156.23662668728065, 215.10581957854936, 48.819355901998364, 280.500827942869, 330.9661627489777, 305.0294899860902, 61.86101979204574, 169.74716267681788, 135.6344263464559, 84.60538996371184, 66.21748127378481, 545.7107280407638, 245.86586622060898, 422.83182923494206, 144.3246993895284, 122.54712136100919, 350.0555386402385, 363.511757182377, 142.02301210122977, 201.57092294406897, 489.31112956340473, 270.99006828105746, 204.81003008748834, 231.1145100529062, 96.30775393931862, 403.52299508332504, 290.581585420373, 200.53691983176213, 223.70002637186738, 167.02933148394965, 244.74253332817392, 220.07795453225148, 247.79910013539154, 149.92538454679962, 179.10290730756628, 229.6721965607956, 185.76799178449235, 201.32630336841424], \"Category\": [\"Default\", \"Default\", \"Default\", \"Default\", \"Default\", \"Default\", \"Default\", \"Default\", \"Default\", \"Default\", \"Default\", \"Default\", \"Default\", \"Default\", \"Default\", \"Default\", \"Default\", \"Default\", \"Default\", \"Default\", \"Default\", \"Default\", \"Default\", \"Default\", \"Default\", \"Default\", \"Default\", \"Default\", \"Default\", \"Default\", \"Topic1\", \"Topic1\", \"Topic1\", \"Topic1\", \"Topic1\", \"Topic1\", \"Topic1\", \"Topic1\", \"Topic1\", \"Topic1\", \"Topic1\", \"Topic1\", \"Topic1\", \"Topic1\", \"Topic1\", \"Topic1\", \"Topic1\", \"Topic1\", \"Topic1\", \"Topic1\", \"Topic1\", \"Topic1\", \"Topic1\", \"Topic1\", \"Topic1\", \"Topic1\", \"Topic1\", \"Topic1\", \"Topic1\", \"Topic1\", \"Topic1\", \"Topic1\", \"Topic1\", \"Topic1\", \"Topic1\", \"Topic1\", \"Topic1\", \"Topic1\", \"Topic1\", \"Topic1\", \"Topic1\", \"Topic1\", \"Topic1\", \"Topic1\", \"Topic1\", \"Topic1\", \"Topic1\", \"Topic1\", \"Topic1\", \"Topic1\", \"Topic1\", \"Topic1\", \"Topic1\", \"Topic1\", \"Topic1\", \"Topic1\", \"Topic1\", \"Topic1\", \"Topic1\", \"Topic1\", \"Topic1\", \"Topic1\", \"Topic1\", \"Topic1\", \"Topic1\", \"Topic1\", \"Topic1\", \"Topic1\", \"Topic1\", \"Topic1\", \"Topic1\", \"Topic1\", \"Topic1\", \"Topic1\", \"Topic1\", \"Topic1\", \"Topic1\", \"Topic1\", \"Topic1\", \"Topic1\", \"Topic1\", \"Topic1\", \"Topic1\", \"Topic2\", \"Topic2\", \"Topic2\", \"Topic2\", \"Topic2\", \"Topic2\", \"Topic2\", \"Topic2\", \"Topic2\", \"Topic2\", \"Topic2\", \"Topic2\", \"Topic2\", \"Topic2\", \"Topic2\", \"Topic2\", \"Topic2\", \"Topic2\", \"Topic2\", \"Topic2\", \"Topic2\", \"Topic2\", \"Topic2\", \"Topic2\", \"Topic2\", \"Topic2\", \"Topic2\", \"Topic2\", \"Topic2\", \"Topic2\", \"Topic2\", \"Topic2\", \"Topic2\", \"Topic2\", \"Topic2\", \"Topic2\", \"Topic2\", \"Topic2\", \"Topic2\", \"Topic2\", \"Topic2\", \"Topic2\", \"Topic2\", \"Topic2\", \"Topic2\", \"Topic2\", \"Topic2\", \"Topic2\", \"Topic2\", \"Topic2\", \"Topic2\", \"Topic2\", \"Topic2\", \"Topic2\", \"Topic2\", \"Topic2\", \"Topic2\", \"Topic2\", \"Topic2\", \"Topic2\", \"Topic2\", \"Topic2\", \"Topic2\", \"Topic2\", \"Topic2\", \"Topic2\", \"Topic2\", \"Topic2\", \"Topic2\", \"Topic2\", \"Topic2\", \"Topic2\", \"Topic2\", \"Topic2\", \"Topic2\", \"Topic2\", \"Topic2\", \"Topic2\", \"Topic2\", \"Topic2\", \"Topic2\", \"Topic2\", \"Topic2\", \"Topic2\", \"Topic2\", \"Topic2\", \"Topic2\", \"Topic2\", \"Topic2\", \"Topic2\", \"Topic2\", \"Topic2\", \"Topic2\", \"Topic2\", \"Topic2\", \"Topic2\", \"Topic2\", \"Topic2\", \"Topic2\"], \"logprob\": [30.0, 29.0, 28.0, 27.0, 26.0, 25.0, 24.0, 23.0, 22.0, 21.0, 20.0, 19.0, 18.0, 17.0, 16.0, 15.0, 14.0, 13.0, 12.0, 11.0, 10.0, 9.0, 8.0, 7.0, 6.0, 5.0, 4.0, 3.0, 2.0, 1.0, -8.7311, -8.7312, -7.486, -8.5989, -8.8839, -8.884, -9.2842, -9.2841, -7.1667, -8.884, -9.5667, -9.5667, -9.5667, -9.5667, -9.5667, -9.5667, -9.5667, -6.8312, -9.19, -9.5669, -9.5669, -9.5669, -8.8247, -8.8247, -8.2179, -9.5669, -8.3064, -9.9622, -9.567, -9.9622, -6.7707, -6.5244, -6.8654, -6.8006, -6.921, -7.4288, -7.5516, -7.0382, -7.7642, -8.0599, -7.9865, -6.7153, -7.4628, -6.9069, -5.5301, -5.3451, -6.7453, -6.84, -6.026, -6.1005, -6.4785, -7.2899, -6.4921, -6.8429, -5.2705, -6.4166, -6.6974, -6.4106, -6.0526, -6.7292, -5.6721, -5.8875, -5.533, -6.3559, -5.716, -6.4995, -6.2515, -6.1697, -5.9774, -6.3928, -6.171, -6.1438, -5.8259, -5.9111, -6.3517, -6.1143, -6.0049, -6.2764, -6.2946, -6.4042, -6.3047, -6.3974, -6.2935, -8.9652, -9.1853, -8.9656, -8.4516, -9.1854, -9.863, -9.863, -9.1856, -9.1856, -8.7256, -8.7858, -8.7858, -8.3843, -9.0916, -7.8763, -9.8635, -9.8635, -9.8635, -9.8635, -9.8638, -8.3647, -10.5272, -9.8641, -10.5275, -10.5275, -10.5274, -10.5274, -10.5274, -10.5274, -10.5276, -6.9925, -7.8205, -8.4121, -7.7064, -7.7494, -8.8617, -8.0428, -8.014, -8.2009, -8.5965, -6.8959, -6.9548, -7.5339, -7.509, -7.7869, -7.8784, -6.3953, -7.257, -7.8199, -7.4624, -7.5813, -8.2501, -7.8439, -7.2932, -7.2017, -7.8428, -7.4627, -7.5887, -6.2805, -7.4813, -7.35, -6.3991, -6.1083, -7.4741, -5.8821, -5.7407, -5.8159, -7.2598, -6.3578, -6.5579, -6.9788, -7.1993, -5.3497, -6.0543, -5.5892, -6.5241, -6.6687, -5.7903, -5.766, -6.5598, -6.2685, -5.5366, -6.0351, -6.2764, -6.1792, -6.8892, -5.7483, -6.0087, -6.3032, -6.2231, -6.4489, -6.1952, -6.277, -6.2158, -6.5407, -6.4369, -6.2952, -6.4195, -6.3821], \"loglift\": [30.0, 29.0, 28.0, 27.0, 26.0, 25.0, 24.0, 23.0, 22.0, 21.0, 20.0, 19.0, 18.0, 17.0, 16.0, 15.0, 14.0, 13.0, 12.0, 11.0, 10.0, 9.0, 8.0, 7.0, 6.0, 5.0, 4.0, 3.0, 2.0, 1.0, 0.1086, 0.108, 0.1078, 0.1077, 0.1076, 0.1075, 0.1075, 0.1075, 0.1073, 0.1073, 0.1072, 0.1072, 0.1072, 0.1072, 0.1072, 0.107, 0.107, 0.1065, 0.1063, 0.1061, 0.106, 0.106, 0.106, 0.106, 0.1059, 0.1058, 0.1057, 0.1057, 0.1056, 0.1053, 0.1016, 0.0967, 0.0965, 0.0942, 0.094, 0.099, 0.0979, 0.0926, 0.0994, 0.1014, 0.0993, 0.0863, 0.0939, 0.0843, 0.0682, 0.0604, 0.0791, 0.0798, 0.0599, 0.0613, 0.0672, 0.083, 0.0659, 0.0726, 0.0259, 0.0601, 0.0674, 0.0584, 0.0457, 0.0663, 0.0306, 0.0391, 0.0186, 0.0522, 0.0244, 0.0567, 0.042, 0.0348, 0.019, 0.0473, 0.0172, 0.0118, -0.0295, -0.033, 0.0223, -0.0206, -0.043, -0.0, 0.0029, 0.0248, -0.0123, 0.0131, -0.0661, 0.3188, 0.3182, 0.3181, 0.3178, 0.3172, 0.3171, 0.3169, 0.3167, 0.3167, 0.3167, 0.3163, 0.3163, 0.3142, 0.3137, 0.3134, 0.3129, 0.3129, 0.3129, 0.3129, 0.3129, 0.3124, 0.3105, 0.3103, 0.3096, 0.3096, 0.3091, 0.3091, 0.3089, 0.3089, 0.3083, 0.2924, 0.2986, 0.3033, 0.2957, 0.2947, 0.3057, 0.2972, 0.2969, 0.2978, 0.3004, 0.2802, 0.2743, 0.2856, 0.284, 0.2862, 0.2854, 0.2544, 0.2715, 0.2826, 0.2703, 0.2725, 0.2908, 0.276, 0.2529, 0.2449, 0.2711, 0.2463, 0.253, 0.1694, 0.2454, 0.2326, 0.148, 0.119, 0.2362, 0.0798, 0.0558, 0.0622, 0.2138, 0.1063, 0.1306, 0.1816, 0.2062, -0.0533, 0.0394, -0.0377, 0.1023, 0.1213, -0.0499, -0.0634, 0.0827, 0.0239, -0.1311, -0.0387, 0.0, -0.0237, 0.1417, -0.15, -0.0821, -0.0057, -0.0349, 0.0315, -0.097, -0.0725, -0.13, 0.0477, -0.0263, -0.1334, -0.0455, -0.0886]}, \"token.table\": {\"Topic\": [1, 2, 1, 2, 1, 2, 1, 2, 1, 2, 1, 2, 1, 2, 1, 2, 1, 2, 1, 2, 1, 2, 1, 2, 1, 2, 1, 2, 1, 2, 1, 2, 1, 2, 1, 2, 1, 2, 1, 2, 1, 2, 1, 2, 1, 2, 1, 2, 1, 2, 1, 2, 1, 2, 1, 2, 1, 2, 1, 2, 1, 2, 1, 2, 1, 2, 1, 2, 1, 2, 1, 2, 1, 2, 1, 2, 1, 2, 1, 2, 1, 2, 1, 2, 1, 2, 1, 2, 1, 2, 1, 2, 1, 2, 1, 2, 1, 2, 1, 2, 1, 2, 1, 2, 1, 2, 1, 2, 1, 2, 1, 2, 1, 2, 1, 2, 1, 2, 1, 2, 1, 2, 1, 2, 1, 2, 1, 2, 1, 2, 1, 2, 1, 2, 1, 2, 1, 2, 1, 2, 1, 2, 1, 2, 1, 2, 1, 2, 1, 2, 1, 2, 1, 2, 1, 2, 1, 2, 1, 2, 1, 2, 1, 2, 1, 2, 1, 2, 1, 2, 1, 2, 1, 2, 1, 2, 1, 2, 1, 2, 1, 2, 1, 2, 1, 2, 1, 2, 1, 2, 1, 2, 1, 2, 1, 2, 1, 2, 1, 2, 1, 2, 1, 2, 1, 2, 1, 2, 1, 2, 1, 2, 1, 2, 1, 2, 1, 2, 1, 2, 1, 2, 1, 2, 1, 2, 1, 2, 1, 2, 1, 2, 1, 2, 1, 2, 1, 2, 1, 2, 1, 2, 1, 2, 1, 2, 1, 2, 1, 2, 1, 2, 1, 2, 1, 2, 1, 2, 1, 2, 1, 2, 1, 2, 1, 2, 1, 2, 1, 2, 1, 2, 1, 2, 1, 2, 1, 2, 1, 2, 1, 2, 1, 2, 1, 2, 1, 2, 1, 2, 1, 2, 1, 2, 1, 2, 1, 2, 1, 2, 1, 2, 1, 2, 1, 2, 1, 2, 1, 2, 1, 2, 1, 2, 1, 2], \"Freq\": [0.7634307870203079, 0.2776111952801119, 0.7634309408836505, 0.27761125123041835, 0.4670000052672643, 0.4670000052672643, 0.5548791260381309, 0.4623992716984424, 0.6750110961050375, 0.32632986765342875, 0.48421126905225514, 0.48421126905225514, 0.5276188629648588, 0.439682385804049, 0.7296790342062065, 0.2918716136824826, 0.7438106164945084, 0.24793687216483615, 0.6763918423962523, 0.3240058825464565, 0.7600562618526677, 0.2533520872842226, 0.5457557293727807, 0.454796441143984, 0.7295400238600315, 0.2918160095440126, 0.7296790342062065, 0.2918716136824826, 0.7295400238600315, 0.2918160095440126, 0.5382508967537809, 0.46135791150324074, 0.5488092905387397, 0.45511014337358907, 0.6039734217168775, 0.40071313556215915, 0.7414610702967425, 0.26480752510597944, 0.7249597125506659, 0.27185989220649975, 0.5819496691295895, 0.42029698326025905, 0.7211356625585554, 0.27735987021482905, 0.6782653932447705, 0.3229835205927479, 0.6337001213285822, 0.3661378478787364, 0.740155666497662, 0.2626358816604607, 0.7377571568432881, 0.2634846988726029, 0.5433757437896323, 0.457579573717585, 0.4824344457564905, 0.4824344457564905, 0.46730315095759783, 0.46730315095759783, 0.6946075031921318, 0.3064444867024111, 0.7062172538333842, 0.29459348302764027, 0.6548563556293623, 0.34231127680625756, 0.7395660536977718, 0.25724036650357285, 0.48411904654665056, 0.48411904654665056, 0.5385519046440385, 0.4846967141796346, 0.5293296929071569, 0.4631634812937623, 0.6682061343737481, 0.33410306718687405, 0.7296790342062065, 0.2918716136824826, 0.681679836743492, 0.3188502462187301, 0.6418395623472306, 0.3597122821946018, 0.5639869897179581, 0.46998915809829844, 0.6849847221724786, 0.3163584058226307, 0.6700058742984489, 0.329419554863404, 0.7056600905536575, 0.2871872461555583, 0.7039127349308468, 0.2923027458611144, 0.7296790342062065, 0.2918716136824826, 0.5316172628409707, 0.47254867808086287, 0.7289991830084154, 0.29159967320336616, 0.756551641700404, 0.2647930745951414, 0.7287221109238189, 0.29148884436952754, 0.5766968102472069, 0.494311551640463, 0.7703282492715084, 0.22009378550614528, 0.4814493647843354, 0.4814493647843354, 0.6244581548724542, 0.3711402241223076, 0.6027984744455932, 0.40186564963039545, 0.46665356407848546, 0.46665356407848546, 0.4667393925691404, 0.4667393925691404, 0.4670000052672643, 0.4670000052672643, 0.46647194008857784, 0.46647194008857784, 0.4666537587819234, 0.4666537587819234, 0.46673920539677377, 0.46673920539677377, 0.4939269237993375, 0.4939269237993375, 0.7374233405327411, 0.2949693362130964, 0.7112357994387315, 0.2899463015133505, 0.728814340138181, 0.2915257360552724, 0.4918487672683546, 0.4918487672683546, 0.7376170967086518, 0.2950468386834607, 0.6305227059880686, 0.37415633102588686, 0.7296790342062065, 0.2918716136824826, 0.7094494751779579, 0.2876146520991721, 0.4941168866727421, 0.4941168866727421, 0.5664878848085737, 0.4248659136064302, 0.6958216250835435, 0.3047813729704777, 0.7050728650047905, 0.2942912827846082, 0.48256177249609516, 0.48256177249609516, 0.4824344457564905, 0.4824344457564905, 0.7040244139575899, 0.2971112205692581, 0.5766968102472069, 0.494311551640463, 0.7268017950946551, 0.2713393368353379, 0.7454087527467717, 0.26834715098883777, 0.5502237944411323, 0.4401790355529059, 0.49170778499360174, 0.49170778499360174, 0.730572506487228, 0.2687955448396405, 0.5635496419616014, 0.44400880881823146, 0.5482832968951008, 0.456902747412584, 0.7123500683757171, 0.28679028726814587, 0.5577592547755399, 0.44620740382043195, 0.6435703222070787, 0.356531915588898, 0.6345792321021388, 0.36363529030572, 0.6469885022687482, 0.3535091816519964, 0.7264872319897967, 0.27243271199617375, 0.5522750477958421, 0.44422123409665565, 0.5736047028816913, 0.43454901733461465, 0.6917162342177366, 0.30972368696316566, 0.6489673359700348, 0.21632244532334494, 0.6492130770243421, 0.21640435900811403, 0.5605967656282671, 0.44380577278904476, 0.5431924124142302, 0.4655934963550544, 0.6753015014934107, 0.32473514825912647, 0.5484145527700796, 0.43873164221606364, 0.6229492082666213, 0.3765588497731069, 0.7376076203604945, 0.29504304814419785, 0.5519800703601832, 0.42931783250236466, 0.49170778499360174, 0.49170778499360174, 0.5727231879537683, 0.42954239096532626, 0.5768395333871553, 0.43262965004036646, 0.5562214631006501, 0.44497717048052016, 0.5553477092153815, 0.4319371071675189, 0.5367701806069132, 0.4696739080310491, 0.733827155726905, 0.2730519649216391, 0.7002547421689257, 0.3001091752152539, 0.7702816459015871, 0.2200804702575963, 0.5596003139291632, 0.4476802511433306, 0.5655158250295803, 0.43984564168967355, 0.682539923603095, 0.3185186310147777, 0.728957906284564, 0.2915831625138256, 0.620169606237531, 0.3835259406995258, 0.7162210290920495, 0.27771835821936613, 0.4824344457564905, 0.4824344457564905, 0.5621163757369513, 0.4372016255731843, 0.4922805283695918, 0.4922805283695918, 0.573543003234376, 0.430157252425782, 0.612619416263976, 0.3841850576570697, 0.7018509447141291, 0.30079326202034107, 0.67066321350623, 0.3288413175901515, 0.5674361877419314, 0.44922031529569567, 0.567356176016491, 0.4326090842125744, 0.5569647371824518, 0.4430401318496775, 0.5406943453502161, 0.45057862112518005, 0.547999170385916, 0.4512934344354602, 0.7081677154927187, 0.28644986244649295, 0.5889683396254444, 0.4077473120483846, 0.6861205172545876, 0.31352526947395065, 0.5601562453876034, 0.44812499631008273, 0.5593704636969323, 0.44160826081336757, 0.7604437586102308, 0.25348125287007695, 0.7324187316971498, 0.2698384800989499, 0.6798921134757391, 0.319949229870936, 0.6425608225910809, 0.357342498277693, 0.6507613377142649, 0.3497842190214174, 0.7255440618888399, 0.26569219167760333, 0.4824344457564905, 0.4824344457564905, 0.7044995535975087, 0.2960082157972726, 0.7053531181651655, 0.29607414836562507, 0.7474278707725791, 0.25521927294673435, 0.7154144446869718, 0.27873290052739164, 0.6080520426887457, 0.3904334168843525, 0.7184841131801388, 0.2794104884589429, 0.7289362702503978, 0.2915745081001591, 0.6525799931760736, 0.3472444000386447, 0.6904214584700287, 0.30795777284274656, 0.7178468014916384, 0.2786934641085184, 0.6193117946725101, 0.38338349194012533, 0.7117085544512184, 0.2911534995482257, 0.735404030688639, 0.26580868579107436, 0.7378214214747638, 0.2648589718114537, 0.6640299791074935, 0.33689756292953715, 0.722856016833759, 0.27537372069857485], \"Term\": [\"010401\", \"010401\", \"150401\", \"150401\", \"1600yearold\", \"1600yearold\", \"16yr\", \"16yr\", \"2\", \"2\", \"2082676773\", \"2082676773\", \"3d\", \"3d\", \"3m\", \"3m\", \"5km\", \"5km\", \"amp\", \"amp\", \"amsterdam\", \"amsterdam\", \"ancient\", \"ancient\", \"approves\", \"approves\", \"asics\", \"asics\", \"association\", \"association\", \"bestnaijamade\", \"bestnaijamade\", \"bomber\", \"bomber\", \"california\", \"california\", \"conclusively\", \"conclusively\", \"confirmed\", \"confirmed\", \"content\", \"content\", \"cramer\", \"cramer\", \"day\", \"day\", \"dead\", \"dead\", \"declaration\", \"declaration\", \"declares\", \"declares\", \"detonated\", \"detonated\", \"diaporama\", \"diaporama\", \"dimemiloko\", \"dimemiloko\", \"disaster\", \"disaster\", \"dont\", \"dont\", \"emergency\", \"emergency\", \"emotional\", \"emotional\", \"exc\", \"exc\", \"exchange\", \"exchange\", \"exchanging\", \"exchanging\", \"family\", \"family\", \"fieg\", \"fieg\", \"fire\", \"fire\", \"flood\", \"flood\", \"galactic\", \"galactic\", \"get\", \"get\", \"go\", \"go\", \"good\", \"good\", \"got\", \"got\", \"gtii\", \"gtii\", \"gunfire\", \"gunfire\", \"gunshot\", \"gunshot\", \"hawaii\", \"hawaii\", \"heals\", \"heals\", \"hieroglyphic\", \"hieroglyphic\", \"hike\", \"hike\", \"hiker\", \"hiker\", \"home\", \"home\", \"hostage\", \"hostage\", \"httptcocrcn8rwvkj\", \"httptcocrcn8rwvkj\", \"httptcoezeisasm0c\", \"httptcoezeisasm0c\", \"httptcoglpfu0uriz\", \"httptcoglpfu0uriz\", \"httptcoy0qqs2l7bs\", \"httptcoy0qqs2l7bs\", \"httptcozdhwrn6czc\", \"httptcozdhwrn6czc\", \"httptcozggpacjp7d\", \"httptcozggpacjp7d\", \"idfire\", \"idfire\", \"igers\", \"igers\", \"im\", \"im\", \"impacted\", \"impacted\", \"karymsky\", \"karymsky\", \"kerricktrial\", \"kerricktrial\", \"killed\", \"killed\", \"kith\", \"kith\", \"know\", \"know\", \"landfall\", \"landfall\", \"legionnaire\", \"legionnaire\", \"life\", \"life\", \"like\", \"like\", \"livescience\", \"livescience\", \"located\", \"located\", \"love\", \"love\", \"lowly\", \"lowly\", \"malaysia\", \"malaysia\", \"marians\", \"marians\", \"mayan\", \"mayan\", \"measurement\", \"measurement\", \"mh370\", \"mh370\", \"migrant\", \"migrant\", \"mosque\", \"mosque\", \"na\", \"na\", \"nasahurricane\", \"nasahurricane\", \"new\", \"new\", \"news\", \"news\", \"nuclear\", \"nuclear\", \"obama\", \"obama\", \"officer\", \"officer\", \"oil\", \"oil\", \"one\", \"one\", \"onshit\", \"onshit\", \"outbid\", \"outbid\", \"outbreak\", \"outbreak\", \"parker\", \"parker\", \"people\", \"people\", \"pkk\", \"pkk\", \"police\", \"police\", \"pov\", \"pov\", \"prebreak\", \"prebreak\", \"precipitation\", \"precipitation\", \"reddit\", \"reddit\", \"refugee\", \"refugee\", \"released\", \"released\", \"richmond\", \"richmond\", \"ridge\", \"ridge\", \"saipan\", \"saipan\", \"salvador\", \"salvador\", \"salvadoran\", \"salvadoran\", \"satellite\", \"satellite\", \"saudi\", \"saudi\", \"say\", \"say\", \"schiphol\", \"schiphol\", \"service\", \"service\", \"sign\", \"sign\", \"sixpenceee\", \"sixpenceee\", \"soudelor\", \"soudelor\", \"soudelors\", \"soudelors\", \"spill\", \"spill\", \"state\", \"state\", \"still\", \"still\", \"storm\", \"storm\", \"structural\", \"structural\", \"suicide\", \"suicide\", \"suspect\", \"suspect\", \"tablet\", \"tablet\", \"taiwan\", \"taiwan\", \"think\", \"think\", \"thunderstorm\", \"thunderstorm\", \"time\", \"time\", \"trench\", \"trench\", \"turkey\", \"turkey\", \"twia\", \"twia\", \"typhoondevastated\", \"typhoondevastated\", \"u\", \"u\", \"via\", \"via\", \"video\", \"video\", \"volcano\", \"volcano\", \"volcanoinrussia\", \"volcanoinrussia\", \"war\", \"war\", \"weapon\", \"weapon\", \"were\", \"were\", \"whirlwind\", \"whirlwind\", \"wildfire\", \"wildfire\", \"windstorm\", \"windstorm\", \"wolverine\", \"wolverine\", \"world\", \"world\", \"would\", \"would\", \"wound\", \"wound\", \"wounded\", \"wounded\", \"wreck\", \"wreck\", \"wreckage\", \"wreckage\", \"wrecked\", \"wrecked\", \"year\", \"year\", \"zone\", \"zone\"]}, \"R\": 30, \"lambda.step\": 0.01, \"plot.opts\": {\"xlab\": \"PC1\", \"ylab\": \"PC2\"}, \"topic.order\": [1, 2]};\n",
       "\n",
       "function LDAvis_load_lib(url, callback){\n",
       "  var s = document.createElement('script');\n",
       "  s.src = url;\n",
       "  s.async = true;\n",
       "  s.onreadystatechange = s.onload = callback;\n",
       "  s.onerror = function(){console.warn(\"failed to load library \" + url);};\n",
       "  document.getElementsByTagName(\"head\")[0].appendChild(s);\n",
       "}\n",
       "\n",
       "if(typeof(LDAvis) !== \"undefined\"){\n",
       "   // already loaded: just create the visualization\n",
       "   !function(LDAvis){\n",
       "       new LDAvis(\"#\" + \"ldavis_el1961402537963703529663683100\", ldavis_el1961402537963703529663683100_data);\n",
       "   }(LDAvis);\n",
       "}else if(typeof define === \"function\" && define.amd){\n",
       "   // require.js is available: use it to load d3/LDAvis\n",
       "   require.config({paths: {d3: \"https://d3js.org/d3.v5\"}});\n",
       "   require([\"d3\"], function(d3){\n",
       "      window.d3 = d3;\n",
       "      LDAvis_load_lib(\"https://cdn.jsdelivr.net/gh/bmabey/pyLDAvis@3.3.1/pyLDAvis/js/ldavis.v3.0.0.js\", function(){\n",
       "        new LDAvis(\"#\" + \"ldavis_el1961402537963703529663683100\", ldavis_el1961402537963703529663683100_data);\n",
       "      });\n",
       "    });\n",
       "}else{\n",
       "    // require.js not available: dynamically load d3 & LDAvis\n",
       "    LDAvis_load_lib(\"https://d3js.org/d3.v5.js\", function(){\n",
       "         LDAvis_load_lib(\"https://cdn.jsdelivr.net/gh/bmabey/pyLDAvis@3.3.1/pyLDAvis/js/ldavis.v3.0.0.js\", function(){\n",
       "                 new LDAvis(\"#\" + \"ldavis_el1961402537963703529663683100\", ldavis_el1961402537963703529663683100_data);\n",
       "            })\n",
       "         });\n",
       "}\n",
       "</script>"
      ],
      "text/plain": [
       "<IPython.core.display.HTML object>"
      ]
     },
     "execution_count": 29,
     "metadata": {},
     "output_type": "execute_result"
    }
   ],
   "source": [
    "%%time\n",
    "\n",
    "lda_display = gensimvis.prepare(tuned_lda_model, doc_term_matrix, dictionary, sort_topics=False, mds='mmds')\n",
    "pyLDAvis.display(lda_display)"
   ]
  },
  {
   "cell_type": "markdown",
   "metadata": {
    "id": "gbnlcVAJJblH"
   },
   "source": [
    "The 2 topics mostly talk about wildfires in california. Since it is not clear, we will try running for 4 topics, 3 topics and also 10 topics. "
   ]
  },
  {
   "cell_type": "markdown",
   "metadata": {
    "id": "pbaxtxx4H6Jx"
   },
   "source": [
    "**4 Topic Model**"
   ]
  },
  {
   "cell_type": "code",
   "execution_count": 30,
   "metadata": {
    "colab": {
     "base_uri": "https://localhost:8080/",
     "height": 0
    },
    "id": "9P_LtYFdJVNE",
    "outputId": "91095308-2222-4e2e-d42d-f572cb0c46e3"
   },
   "outputs": [
    {
     "name": "stdout",
     "output_type": "stream",
     "text": [
      "CPU times: user 1min 53s, sys: 979 ms, total: 1min 54s\n",
      "Wall time: 2min 3s\n",
      "(0, '0.006*\"wound\" + 0.004*\"new\" + 0.004*\"zone\" + 0.003*\"mass\" + 0.003*\"full\"')\n",
      "(1, '0.010*\"like\" + 0.009*\"im\" + 0.005*\"get\" + 0.005*\"dont\" + 0.005*\"amp\"')\n",
      "(2, '0.014*\"fire\" + 0.009*\"disaster\" + 0.007*\"california\" + 0.007*\"wildfire\" + 0.006*\"via\"')\n",
      "(3, '0.005*\"suicide\" + 0.005*\"year\" + 0.005*\"nuclear\" + 0.004*\"weapon\" + 0.004*\"bomb\"')\n"
     ]
    }
   ],
   "source": [
    "%time ldamodel_4 = Lda(doc_term_matrix, num_topics=4, id2word = dictionary, passes=50) #4 topics\n",
    "print(*ldamodel_4.print_topics(num_topics=4, num_words=5), sep='\\n')"
   ]
  },
  {
   "cell_type": "code",
   "execution_count": 31,
   "metadata": {
    "colab": {
     "base_uri": "https://localhost:8080/",
     "height": 897
    },
    "id": "z0v5kwYsINxh",
    "outputId": "e383180a-9d9c-4cd7-e1e3-505244409125"
   },
   "outputs": [
    {
     "name": "stdout",
     "output_type": "stream",
     "text": [
      "CPU times: user 2.07 s, sys: 117 ms, total: 2.18 s\n",
      "Wall time: 4.4 s\n"
     ]
    },
    {
     "data": {
      "text/html": [
       "\n",
       "<link rel=\"stylesheet\" type=\"text/css\" href=\"https://cdn.jsdelivr.net/gh/bmabey/pyLDAvis@3.3.1/pyLDAvis/js/ldavis.v1.0.0.css\">\n",
       "\n",
       "\n",
       "<div id=\"ldavis_el196140253952913584937254194\"></div>\n",
       "<script type=\"text/javascript\">\n",
       "\n",
       "var ldavis_el196140253952913584937254194_data = {\"mdsDat\": {\"x\": [-0.16877531667050866, -0.12546457022796964, 0.1318083598425361, 0.1624315270559421], \"y\": [-0.12423055625672795, 0.19868757143409244, -0.18842812659546967, 0.11397111141810519], \"topics\": [1, 2, 3, 4], \"cluster\": [1, 1, 1, 1], \"Freq\": [18.877900270819055, 35.71603923602022, 20.17773860624717, 25.228321886913545]}, \"tinfo\": {\"Term\": [\"fire\", \"im\", \"disaster\", \"like\", \"california\", \"wildfire\", \"wild\", \"dont\", \"wound\", \"suicide\", \"nuclear\", \"obama\", \"family\", \"year\", \"via\", \"wreck\", \"bomb\", \"zone\", \"wounded\", \"mh370\", \"northern\", \"got\", \"weapon\", \"hiroshima\", \"see\", \"typhoon\", \"wreckage\", \"get\", \"home\", \"kill\", \"wound\", \"zone\", \"story\", \"migrant\", \"content\", \"fall\", \"stock\", \"bus\", \"boat\", \"hundred\", \"reddit\", \"survived\", \"rescuer\", \"rescued\", \"trauma\", \"fan\", \"quarantine\", \"drought\", \"traumatised\", \"four\", \"effect\", \"hail\", \"disney\", \"low\", \"rock\", \"policy\", \"offensive\", \"detonation\", \"searching\", \"helicopter\", \"mass\", \"near\", \"full\", \"flood\", \"read\", \"new\", \"summer\", \"train\", \"crash\", \"body\", \"via\", \"war\", \"news\", \"wrecked\", \"3\", \"storm\", \"one\", \"im\", \"dont\", \"family\", \"wreck\", \"mh370\", \"wounded\", \"got\", \"wreckage\", \"see\", \"confirmed\", \"cant\", \"youtube\", \"malaysia\", \"think\", \"good\", \"want\", \"officer\", \"na\", \"suspect\", \"conclusively\", \"much\", \"thing\", \"investigator\", \"shot\", \"youre\", \"wave\", \"were\", \"legionnaire\", \"there\", \"shit\", \"guy\", \"like\", \"man\", \"know\", \"would\", \"get\", \"video\", \"one\", \"day\", \"u\", \"people\", \"amp\", \"police\", \"time\", \"storm\", \"emergency\", \"weapon\", \"fire\", \"disaster\", \"california\", \"wildfire\", \"wild\", \"obama\", \"northern\", \"forest\", \"latest\", \"sign\", \"saipan\", \"declares\", \"oil\", \"minute\", \"typhoondevastated\", \"natural\", \"sinkhole\", \"spill\", \"national\", \"declaration\", \"airport\", \"texas\", \"sandstorm\", \"sinking\", \"razed\", \"ancient\", \"mudslide\", \"abc\", \"charged\", \"order\", \"marians\", \"fire\", \"via\", \"home\", \"service\", \"volcano\", \"train\", \"news\", \"get\", \"bag\", \"change\", \"u\", \"2\", \"body\", \"suicide\", \"nuclear\", \"bomb\", \"hiroshima\", \"typhoon\", \"bomber\", \"bombing\", \"thunderstorm\", \"weather\", \"kill\", \"china\", \"severe\", \"wind\", \"japan\", \"soudelor\", \"tonight\", \"head\", \"saudi\", \"market\", \"released\", \"mosque\", \"screaming\", \"landslide\", \"loud\", \"atomic\", \"august\", \"structural\", \"seek\", \"blast\", \"pic\", \"year\", \"old\", \"siren\", \"attack\", \"weapon\", \"crash\", \"amp\", \"hostage\", \"2\", \"people\", \"windstorm\", \"new\", \"news\", \"still\"], \"Freq\": [430.0, 341.0, 204.0, 414.0, 151.0, 146.0, 132.0, 205.0, 122.0, 147.0, 132.0, 111.0, 174.0, 164.0, 228.0, 163.0, 114.0, 88.0, 146.0, 145.0, 88.0, 137.0, 239.0, 95.0, 124.0, 91.0, 123.0, 291.0, 137.0, 89.0, 121.7050237901082, 88.18866812385747, 61.120500517910806, 57.052408229635056, 54.11732688914152, 53.189270667735535, 59.014684788410676, 53.30397177097034, 47.02769651379055, 45.58833556232357, 44.600372002310394, 50.32391683460585, 43.84978744113572, 47.192681094491206, 45.15370092602191, 39.511185652943105, 37.89141321500562, 39.30619022864663, 43.10322479207981, 36.58090906103432, 34.180279991242486, 39.143762434935766, 28.696620670873827, 29.0513892296789, 30.00482658934869, 27.311969694198645, 26.813319623339915, 27.278580641626935, 25.973752650532777, 26.35796495764067, 66.29781701658062, 55.08775682751311, 65.2362620407752, 64.22334347366319, 46.97556965993694, 88.71751126355068, 38.67755100051116, 50.33743333211929, 49.04327777211172, 47.13945779078616, 53.744720671290644, 45.76641529736331, 47.58420466327215, 43.86808714127611, 44.598562141856945, 44.990234138347034, 44.14528785808105, 340.56430685095734, 205.16886986262008, 173.69090070798558, 162.722937598349, 145.08503607463422, 145.7589624915415, 136.4966140565354, 122.4334684114381, 124.15742682759011, 114.92127597306813, 114.85006602141335, 110.69795786335091, 104.28505829651908, 105.96211108620267, 104.78448817370806, 102.74198275972624, 94.68559265621693, 92.64202738161387, 86.72947261438765, 82.25329168944447, 78.71210712247085, 76.86581180298623, 80.49047171718013, 70.03731552237836, 70.23161877362108, 66.28087507495742, 59.92843285672552, 59.08394587821895, 59.65898367570896, 57.490857602196236, 57.79924080842742, 370.9985397596101, 105.44539732811339, 113.34655861448033, 137.51675255107835, 210.21416876525853, 156.0441488951515, 162.45965734966637, 118.62947464494684, 171.6518194590878, 145.7462894572755, 184.31208104580585, 131.30333324698532, 121.23571720577762, 128.8318379232573, 110.79951425159689, 119.05727787314277, 121.27488675557474, 204.09353516932327, 150.88072095638384, 146.24572083970023, 132.1562080932925, 110.8634857419728, 88.3322570670066, 69.52030373117562, 64.3915766094847, 60.04678920075606, 56.634793991827124, 53.95848912345093, 51.73840899013965, 52.265272894420576, 49.659719783952916, 49.01227338999091, 45.30300820915361, 42.00779306269953, 42.4348880324107, 40.511862928958436, 40.995170362240486, 46.74158463939517, 41.226371242315274, 42.87473367154893, 36.029819668721146, 34.27855629219874, 34.946614093392334, 34.7422758518175, 33.85169417637436, 33.79201449284088, 32.44789997561745, 308.58040678080516, 141.21591311971738, 85.8841694783536, 63.83787053737519, 63.88164195042341, 67.81070072971683, 84.35519456336003, 68.62140584549006, 44.03439976326346, 46.020182827455855, 49.547279503807644, 46.636303976560136, 44.314484606560114, 146.5657077102059, 132.34024175802685, 113.83101143662108, 95.27925572536365, 91.09827917777054, 81.0713220584981, 79.54610281724354, 63.68742130573649, 63.41190848054356, 88.19515668240474, 60.18404838957727, 59.47551371171802, 56.18233625999254, 55.193764915437924, 53.805783796593566, 53.437644196875745, 54.65952930762966, 49.1712393495671, 49.83251044148907, 47.653941629925, 46.143944763400675, 49.266192031285954, 47.73474051050756, 45.787047581674024, 44.97520359267276, 46.94060476953736, 45.29280669990664, 44.72685941107148, 42.662979899492505, 42.146910042780966, 146.44079337666938, 66.65051189524758, 58.913507987756255, 94.43625353806529, 119.59103262111005, 67.74905034031232, 102.42839058873365, 55.179905451938275, 70.3072155241686, 70.76695171668305, 58.316079369088094, 68.04992739141136, 58.627610162905, 55.32747098620832], \"Total\": [430.0, 341.0, 204.0, 414.0, 151.0, 146.0, 132.0, 205.0, 122.0, 147.0, 132.0, 111.0, 174.0, 164.0, 228.0, 163.0, 114.0, 88.0, 146.0, 145.0, 88.0, 137.0, 239.0, 95.0, 124.0, 91.0, 123.0, 291.0, 137.0, 89.0, 122.40572193123826, 88.89966309566744, 61.74912770383506, 57.65365247161036, 54.71803179427873, 53.809774583917296, 59.70576886710165, 53.931539505668674, 47.63940706290084, 46.19545430297852, 45.20388076551149, 51.01753719254186, 44.460120124300786, 47.855441299932146, 45.840501386201154, 40.13487737348003, 38.50296153373098, 39.94667992653305, 43.81018480893996, 37.20418418895626, 34.8092521438347, 39.878665395261216, 29.317234814904182, 29.68274046692215, 30.667460778372135, 27.92166096592236, 27.41200093776853, 27.888009429654378, 26.581321455993308, 27.00223685990546, 76.43412594286204, 66.00827893625107, 94.74693790409307, 105.25105839066305, 65.60493462008345, 269.5905691304463, 52.892839025331, 118.57305242608018, 117.20013359255256, 114.7442732324368, 228.2221763087997, 153.84121614561806, 234.70178426057345, 114.59392079620598, 138.55446004761814, 215.252933313112, 234.360543977264, 341.17141977398336, 205.77627027473736, 174.29201875884144, 163.34466298282626, 145.6804374055769, 146.39997044821556, 137.10718478930633, 123.03018957809459, 124.78956893988823, 115.53198924209909, 115.4625017497784, 111.31371953547851, 104.8789589429521, 106.56958163717592, 105.3958015435763, 103.34996072623795, 95.28897568093761, 93.23928320407008, 87.33930062206791, 82.84557276562563, 79.32511474924766, 77.47694053741891, 81.17180591359137, 70.6456605041214, 70.84393595039252, 66.89626852140543, 60.52046004935622, 59.67779809223961, 60.27395420923977, 58.091117096238726, 58.411798859762435, 414.2072059301775, 114.00934965034625, 129.02491253213555, 164.49455588257536, 291.8394378083258, 207.15111898153435, 234.360543977264, 153.41539498122447, 280.1730913643799, 216.9297708918848, 335.86869376733557, 192.56588753430773, 177.41736140794583, 215.252933313112, 149.3429832925575, 239.0686366784233, 430.27274790860474, 204.71277887012562, 151.49570822202568, 146.86133900873003, 132.78652898052346, 111.47431216487455, 88.93534748123774, 70.1329414057548, 65.00980842057467, 60.65819946789641, 57.242337263167116, 54.56711931838068, 52.35188607825319, 52.89480555823296, 50.262072140606534, 49.63121207149385, 45.935291680529424, 42.617873392223906, 43.05302762954316, 41.114277085056784, 41.61367144254511, 47.44978146864442, 41.858482095373844, 43.58399517019873, 36.63892940909779, 34.89280570600907, 35.58072423534261, 35.375405557979356, 34.469152687291235, 34.41545545049606, 33.05035218020485, 430.27274790860474, 228.2221763087997, 137.59031987048377, 89.53791379325727, 101.92444559372962, 118.57305242608018, 234.70178426057345, 291.8394378083258, 58.26654938038701, 84.98155649403554, 280.1730913643799, 173.56771594769174, 114.7442732324368, 147.164657917643, 132.9538989785578, 114.43407914228315, 95.8780275017432, 91.7522659731117, 81.66609616466688, 80.1455946297166, 64.29415857448204, 64.03775513264124, 89.0702767449702, 60.78907977641075, 60.08229035964015, 56.79439970726125, 55.79767147034189, 54.421168746144566, 54.058211827426305, 55.29589441575336, 49.76558623406398, 50.43527023319748, 48.264370594926085, 46.736831021312106, 49.910264751482075, 48.360975085062194, 46.39020064251512, 45.57211957030976, 47.57397965624918, 45.90703889692472, 45.35597476433548, 43.27203073786581, 42.76836369937732, 164.49414002821777, 72.45237147791738, 66.41495649543188, 134.47919425046717, 239.0686366784233, 117.20013359255256, 335.86869376733557, 75.17754354822293, 173.56771594769174, 216.9297708918848, 108.10987148673442, 269.5905691304463, 234.70178426057345, 149.78641534931575], \"Category\": [\"Default\", \"Default\", \"Default\", \"Default\", \"Default\", \"Default\", \"Default\", \"Default\", \"Default\", \"Default\", \"Default\", \"Default\", \"Default\", \"Default\", \"Default\", \"Default\", \"Default\", \"Default\", \"Default\", \"Default\", \"Default\", \"Default\", \"Default\", \"Default\", \"Default\", \"Default\", \"Default\", \"Default\", \"Default\", \"Default\", \"Topic1\", \"Topic1\", \"Topic1\", \"Topic1\", \"Topic1\", \"Topic1\", \"Topic1\", \"Topic1\", \"Topic1\", \"Topic1\", \"Topic1\", \"Topic1\", \"Topic1\", \"Topic1\", \"Topic1\", \"Topic1\", \"Topic1\", \"Topic1\", \"Topic1\", \"Topic1\", \"Topic1\", \"Topic1\", \"Topic1\", \"Topic1\", \"Topic1\", \"Topic1\", \"Topic1\", \"Topic1\", \"Topic1\", \"Topic1\", \"Topic1\", \"Topic1\", \"Topic1\", \"Topic1\", \"Topic1\", \"Topic1\", \"Topic1\", \"Topic1\", \"Topic1\", \"Topic1\", \"Topic1\", \"Topic1\", \"Topic1\", \"Topic1\", \"Topic1\", \"Topic1\", \"Topic1\", \"Topic2\", \"Topic2\", \"Topic2\", \"Topic2\", \"Topic2\", \"Topic2\", \"Topic2\", \"Topic2\", \"Topic2\", \"Topic2\", \"Topic2\", \"Topic2\", \"Topic2\", \"Topic2\", \"Topic2\", \"Topic2\", \"Topic2\", \"Topic2\", \"Topic2\", \"Topic2\", \"Topic2\", \"Topic2\", \"Topic2\", \"Topic2\", \"Topic2\", \"Topic2\", \"Topic2\", \"Topic2\", \"Topic2\", \"Topic2\", \"Topic2\", \"Topic2\", \"Topic2\", \"Topic2\", \"Topic2\", \"Topic2\", \"Topic2\", \"Topic2\", \"Topic2\", \"Topic2\", \"Topic2\", \"Topic2\", \"Topic2\", \"Topic2\", \"Topic2\", \"Topic2\", \"Topic2\", \"Topic2\", \"Topic3\", \"Topic3\", \"Topic3\", \"Topic3\", \"Topic3\", \"Topic3\", \"Topic3\", \"Topic3\", \"Topic3\", \"Topic3\", \"Topic3\", \"Topic3\", \"Topic3\", \"Topic3\", \"Topic3\", \"Topic3\", \"Topic3\", \"Topic3\", \"Topic3\", \"Topic3\", \"Topic3\", \"Topic3\", \"Topic3\", \"Topic3\", \"Topic3\", \"Topic3\", \"Topic3\", \"Topic3\", \"Topic3\", \"Topic3\", \"Topic3\", \"Topic3\", \"Topic3\", \"Topic3\", \"Topic3\", \"Topic3\", \"Topic3\", \"Topic3\", \"Topic3\", \"Topic3\", \"Topic3\", \"Topic3\", \"Topic3\", \"Topic4\", \"Topic4\", \"Topic4\", \"Topic4\", \"Topic4\", \"Topic4\", \"Topic4\", \"Topic4\", \"Topic4\", \"Topic4\", \"Topic4\", \"Topic4\", \"Topic4\", \"Topic4\", \"Topic4\", \"Topic4\", \"Topic4\", \"Topic4\", \"Topic4\", \"Topic4\", \"Topic4\", \"Topic4\", \"Topic4\", \"Topic4\", \"Topic4\", \"Topic4\", \"Topic4\", \"Topic4\", \"Topic4\", \"Topic4\", \"Topic4\", \"Topic4\", \"Topic4\", \"Topic4\", \"Topic4\", \"Topic4\", \"Topic4\", \"Topic4\", \"Topic4\", \"Topic4\", \"Topic4\", \"Topic4\", \"Topic4\", \"Topic4\"], \"logprob\": [30.0, 29.0, 28.0, 27.0, 26.0, 25.0, 24.0, 23.0, 22.0, 21.0, 20.0, 19.0, 18.0, 17.0, 16.0, 15.0, 14.0, 13.0, 12.0, 11.0, 10.0, 9.0, 8.0, 7.0, 6.0, 5.0, 4.0, 3.0, 2.0, 1.0, -5.1297, -5.4518, -5.8185, -5.8873, -5.9402, -5.9575, -5.8535, -5.9553, -6.0806, -6.1117, -6.1336, -6.0128, -6.1505, -6.0771, -6.1212, -6.2547, -6.2966, -6.2599, -6.1677, -6.3318, -6.3997, -6.2641, -6.5745, -6.5622, -6.53, -6.624, -6.6424, -6.6252, -6.6742, -6.6595, -5.7372, -5.9224, -5.7533, -5.7689, -6.0817, -5.4459, -6.2761, -6.0126, -6.0386, -6.0782, -5.9471, -6.1078, -6.0688, -6.1501, -6.1336, -6.1249, -6.1438, -4.7383, -5.2451, -5.4116, -5.4769, -5.5916, -5.587, -5.6526, -5.7614, -5.7474, -5.8247, -5.8253, -5.8621, -5.9218, -5.9058, -5.917, -5.9367, -6.0184, -6.0402, -6.1061, -6.1591, -6.2031, -6.2269, -6.1808, -6.3199, -6.3171, -6.375, -6.4758, -6.49, -6.4803, -6.5173, -6.5119, -4.6527, -5.9107, -5.8385, -5.6452, -5.2208, -5.5188, -5.4785, -5.7929, -5.4234, -5.5871, -5.3523, -5.6914, -5.7712, -5.7104, -5.8612, -5.7893, -5.7709, -4.6793, -4.9814, -5.0126, -5.1139, -5.2896, -5.5168, -5.7563, -5.8329, -5.9028, -5.9613, -6.0097, -6.0517, -6.0416, -6.0927, -6.1058, -6.1845, -6.26, -6.2499, -6.2963, -6.2844, -6.1533, -6.2788, -6.2396, -6.4136, -6.4634, -6.4441, -6.4499, -6.4759, -6.4777, -6.5183, -4.2659, -5.0476, -5.5449, -5.8416, -5.8409, -5.7812, -5.5629, -5.7693, -6.2129, -6.1688, -6.095, -6.1555, -6.2066, -5.2338, -5.3359, -5.4866, -5.6645, -5.7093, -5.826, -5.8449, -6.0673, -6.0716, -5.7417, -6.1239, -6.1357, -6.1927, -6.2104, -6.2359, -6.2428, -6.2202, -6.326, -6.3126, -6.3573, -6.3895, -6.324, -6.3556, -6.3973, -6.4152, -6.3724, -6.4081, -6.4207, -6.468, -6.4801, -5.2347, -6.0218, -6.1452, -5.6734, -5.4372, -6.0055, -5.5921, -6.2107, -5.9684, -5.9619, -6.1554, -6.001, -6.1501, -6.208], \"loglift\": [30.0, 29.0, 28.0, 27.0, 26.0, 25.0, 24.0, 23.0, 22.0, 21.0, 20.0, 19.0, 18.0, 17.0, 16.0, 15.0, 14.0, 13.0, 12.0, 11.0, 10.0, 9.0, 8.0, 7.0, 6.0, 5.0, 4.0, 3.0, 2.0, 1.0, 1.6614, 1.6591, 1.6569, 1.6567, 1.6561, 1.6556, 1.6555, 1.6555, 1.6543, 1.6539, 1.6537, 1.6535, 1.6534, 1.6532, 1.6521, 1.6515, 1.6512, 1.651, 1.6509, 1.6503, 1.6489, 1.6486, 1.6458, 1.6457, 1.6453, 1.6451, 1.6451, 1.6451, 1.6441, 1.643, 1.5249, 1.4863, 1.294, 1.1732, 1.3332, 0.5557, 1.3542, 0.8104, 0.796, 0.7776, 0.2211, 0.4548, 0.0714, 0.707, 0.5336, 0.1018, -0.0022, 1.0278, 1.0266, 1.0261, 1.0258, 1.0255, 1.0252, 1.0251, 1.0247, 1.0245, 1.0243, 1.0243, 1.024, 1.0239, 1.0239, 1.0238, 1.0237, 1.0232, 1.0231, 1.0226, 1.0224, 1.0218, 1.0217, 1.0211, 1.0209, 1.0209, 1.0203, 1.0197, 1.0196, 1.0193, 1.0192, 1.019, 0.9194, 0.9515, 0.9, 0.8504, 0.7015, 0.7463, 0.6631, 0.7724, 0.5396, 0.6319, 0.4295, 0.6466, 0.6488, 0.5163, 0.731, 0.3324, -0.2368, 1.5976, 1.5965, 1.5964, 1.5958, 1.5951, 1.5938, 1.5918, 1.591, 1.5905, 1.5899, 1.5894, 1.5888, 1.5886, 1.5885, 1.588, 1.5867, 1.5862, 1.5861, 1.5858, 1.5856, 1.5856, 1.5854, 1.5842, 1.5838, 1.5828, 1.5826, 1.5825, 1.5825, 1.5823, 1.5822, 1.2682, 1.1206, 1.1293, 1.2623, 1.1334, 1.0418, 0.5773, 0.153, 1.3205, 0.9872, -0.1319, 0.2864, 0.6492, 1.3731, 1.3726, 1.3719, 1.3709, 1.37, 1.3699, 1.3697, 1.3677, 1.3674, 1.3673, 1.3672, 1.3671, 1.3664, 1.3663, 1.3658, 1.3657, 1.3656, 1.3652, 1.3652, 1.3645, 1.3644, 1.3642, 1.3642, 1.3641, 1.364, 1.3638, 1.3637, 1.3632, 1.363, 1.3626, 1.2609, 1.2937, 1.2574, 1.0237, 0.6845, 0.8291, 0.1896, 1.0679, 0.4735, 0.257, 0.7599, 0.0005, -0.0099, 0.3813]}, \"token.table\": {\"Topic\": [1, 2, 3, 4, 1, 2, 3, 3, 3, 1, 2, 3, 4, 3, 4, 2, 3, 4, 4, 1, 3, 4, 1, 1, 2, 3, 4, 4, 4, 1, 3, 2, 2, 3, 3, 4, 2, 2, 1, 1, 4, 1, 2, 3, 3, 3, 1, 3, 1, 2, 1, 1, 2, 3, 1, 2, 1, 2, 3, 1, 4, 3, 1, 1, 3, 4, 2, 3, 4, 2, 2, 2, 1, 4, 1, 4, 2, 3, 3, 4, 1, 2, 2, 4, 4, 1, 2, 4, 3, 2, 2, 4, 4, 1, 2, 2, 4, 3, 4, 1, 4, 2, 1, 3, 4, 2, 3, 2, 3, 3, 1, 4, 1, 2, 3, 4, 1, 2, 3, 4, 3, 4, 3, 1, 2, 3, 3, 4, 1, 2, 4, 3, 2, 4, 4, 2, 3, 4, 1, 1, 3, 1, 4, 1, 4, 1, 1, 1, 3, 3, 4, 4, 1, 2, 4, 2, 3, 4, 2, 2, 3, 3, 3, 3, 4, 4, 3, 1, 2, 4, 1, 1, 2, 4, 1, 4, 4, 1, 4, 1, 2, 3, 2, 2, 2, 4, 2, 3, 4, 4, 1, 3, 1, 1, 4, 3, 1, 2, 3, 4, 1, 2, 3, 1, 2, 3, 2, 3, 2, 1, 2, 4, 2, 2, 4, 4, 2, 3, 3, 4, 1, 2, 4, 1, 2, 4, 1, 2, 2, 2, 1, 2, 3, 4, 2, 2, 1], \"Freq\": [0.04033008075136275, 0.28231056525953924, 0.27078768504486417, 0.4033008075136275, 0.32478203866215843, 0.46912961140089554, 0.20930398047116877, 0.9893879504119303, 0.9852531290493705, 0.05656972606432251, 0.5478331366229128, 0.08932062010156186, 0.30369010834531035, 0.974412900082285, 0.9874458424206696, 0.22308283572940713, 0.06692485071882213, 0.6989928852854757, 0.9879350085824955, 0.24027508319743596, 0.7551502614776558, 0.9937134741950586, 0.9865781901513468, 0.4096064986597839, 0.20044573338670277, 0.38346140300064874, 0.9962067318972049, 0.9918436634546139, 0.9981833732672486, 0.9827273703994531, 0.9967279058407437, 0.9959943553727885, 0.45892310765968647, 0.5412939218550148, 0.9863892016276857, 0.9870193827688611, 0.9897933862076396, 0.995395307865908, 0.9868776019397356, 0.4180882606358538, 0.5802041168007767, 0.08473725861469761, 0.7756718288576167, 0.13688326391605, 0.9972205011699374, 0.9896069404897163, 0.968158020317143, 0.9965181515581994, 0.9891792381884902, 0.9962276006183758, 0.9763014115747763, 0.976751808958986, 0.7432555420602186, 0.2544478432278226, 0.9849511619370485, 0.9983245431378847, 0.9966393973943184, 0.281216973624604, 0.7181491309917574, 0.6080698947696047, 0.38954477633677803, 0.9981044370435617, 0.9945117950196346, 0.6860380022602504, 0.16887089286406162, 0.14776203125605392, 0.7195737545859848, 0.23643137650682358, 0.044545041950560964, 0.9962446175485211, 0.9919246770983756, 0.9929500739953053, 0.9779665295577914, 0.9946488899604622, 0.9628831913035457, 0.990842244833132, 0.37066561112734686, 0.6250439717049379, 0.2660368915508781, 0.7316014517649149, 0.9957689710832454, 0.999497555293181, 0.9855638802118216, 0.985704215797502, 0.9879839068196155, 0.11625661824234161, 0.8757998574256401, 0.992535818716904, 0.9844668297737195, 0.9886423743183019, 0.8956869766832088, 0.10381277627325601, 0.9915887269916761, 0.9769987387895338, 0.9916193014136401, 0.9209770981241723, 0.0701696836666036, 0.9682196372832014, 0.9913697253690736, 0.8634886470650293, 0.1308316131916711, 0.9953292465502246, 0.9886624273816438, 0.9830832999802249, 0.9842344676519443, 0.9959014903378914, 0.9836786842363998, 0.9974336653409661, 0.9755411480325121, 0.9872819533283896, 0.8332288144206493, 0.15149614807648168, 0.3301302426381827, 0.27449031410365754, 0.14466381418976546, 0.25223434268984746, 0.2045148491359949, 0.18747194504132866, 0.3579009859879911, 0.25138283539632705, 0.9894828377273157, 0.9928253403180629, 0.9957450989769462, 0.9849700523977121, 0.996967375513562, 0.9932784450644776, 0.06901085358570962, 0.9247454380485088, 0.18774491325753437, 0.6912426351754675, 0.11947403570934005, 0.9879282303529685, 0.6730288765794376, 0.32729486463794566, 0.9820342974826389, 0.6802866368357215, 0.07270238866946642, 0.244072304818923, 0.9669911841187664, 0.9869370688981844, 0.9825614607358276, 0.7164095242556956, 0.2743696050340962, 0.995489750834246, 0.9945224480985176, 0.9821244716024934, 0.9896509473430483, 0.9782355382078828, 0.9957664680592445, 0.9794908450474193, 0.9846161516019689, 0.9817619730928187, 0.9781304531094996, 0.9936727969605491, 0.9921515353559243, 0.27921133004868653, 0.7147810049246376, 0.9819865329174075, 0.9812171438460877, 0.9908605779956756, 0.9891490437620925, 0.9796389301926243, 0.9866006967025811, 0.10539794602562859, 0.8883541165017267, 0.9922609389719437, 0.9855020125819641, 0.026704691414582763, 0.6008555568281122, 0.367189506950513, 0.9881792181812009, 0.2090563845396798, 0.5992949690137488, 0.1904735948028194, 0.9878682058890278, 0.9802418339601189, 0.9988811313805034, 0.7373398879444237, 0.2646861136210752, 0.9800551487089304, 0.9961151438166865, 0.9905208948340123, 0.9954548492324107, 0.9938440969130865, 0.9946553075612599, 0.9954248009305344, 0.6820076628339535, 0.1578199550359562, 0.1578199550359562, 0.9804245869100423, 0.4216809719996926, 0.5734861219195819, 0.9816646554731149, 0.9815069301242795, 0.9918011183142642, 0.9947858866647321, 0.08209210916007378, 0.6139062076318561, 0.1784611068697256, 0.12849199694620245, 0.23661153737721977, 0.14459593950830096, 0.6178190142627406, 0.15930399102957127, 0.7530734121397915, 0.08689308601612979, 0.37282518220867084, 0.6279160963514456, 0.9966138281642413, 0.29900959672899885, 0.3965127260971506, 0.3055098053535423, 0.9866021148680566, 0.497765000266721, 0.5019478994286262, 0.9837946359847916, 0.9914002628378606, 0.9940767411682339, 0.9941350186880781, 0.9860127105602687, 0.18499698246754545, 0.26824562457794093, 0.5364912491558819, 0.06079228547319531, 0.8389335395300953, 0.10334688530443203, 0.9966854332882724, 0.9972679608678129, 0.9978899648355055, 0.9916265301904564, 0.3839645218025978, 0.6108526483223148, 0.10942639048972949, 0.8875696117500281, 0.988087393238802, 0.9971816633494264, 0.9898800168151449], \"Term\": [\"2\", \"2\", \"2\", \"2\", \"3\", \"3\", \"3\", \"abc\", \"airport\", \"amp\", \"amp\", \"amp\", \"amp\", \"ancient\", \"atomic\", \"attack\", \"attack\", \"attack\", \"august\", \"bag\", \"bag\", \"blast\", \"boat\", \"body\", \"body\", \"body\", \"bomb\", \"bomber\", \"bombing\", \"bus\", \"california\", \"cant\", \"change\", \"change\", \"charged\", \"china\", \"conclusively\", \"confirmed\", \"content\", \"crash\", \"crash\", \"day\", \"day\", \"day\", \"declaration\", \"declares\", \"detonation\", \"disaster\", \"disney\", \"dont\", \"drought\", \"effect\", \"emergency\", \"emergency\", \"fall\", \"family\", \"fan\", \"fire\", \"fire\", \"flood\", \"flood\", \"forest\", \"four\", \"full\", \"full\", \"full\", \"get\", \"get\", \"get\", \"good\", \"got\", \"guy\", \"hail\", \"head\", \"helicopter\", \"hiroshima\", \"home\", \"home\", \"hostage\", \"hostage\", \"hundred\", \"im\", \"investigator\", \"japan\", \"kill\", \"know\", \"know\", \"landslide\", \"latest\", \"legionnaire\", \"like\", \"like\", \"loud\", \"low\", \"malaysia\", \"man\", \"man\", \"marians\", \"market\", \"mass\", \"mass\", \"mh370\", \"migrant\", \"minute\", \"mosque\", \"much\", \"mudslide\", \"na\", \"national\", \"natural\", \"near\", \"near\", \"new\", \"new\", \"new\", \"new\", \"news\", \"news\", \"news\", \"news\", \"northern\", \"nuclear\", \"obama\", \"offensive\", \"officer\", \"oil\", \"old\", \"old\", \"one\", \"one\", \"one\", \"order\", \"people\", \"people\", \"pic\", \"police\", \"police\", \"police\", \"policy\", \"quarantine\", \"razed\", \"read\", \"read\", \"reddit\", \"released\", \"rescued\", \"rescuer\", \"rock\", \"saipan\", \"sandstorm\", \"saudi\", \"screaming\", \"searching\", \"see\", \"seek\", \"service\", \"service\", \"severe\", \"shit\", \"shot\", \"sign\", \"sinkhole\", \"sinking\", \"siren\", \"siren\", \"soudelor\", \"spill\", \"still\", \"still\", \"still\", \"stock\", \"storm\", \"storm\", \"storm\", \"story\", \"structural\", \"suicide\", \"summer\", \"summer\", \"survived\", \"suspect\", \"texas\", \"there\", \"thing\", \"think\", \"thunderstorm\", \"time\", \"time\", \"time\", \"tonight\", \"train\", \"train\", \"trauma\", \"traumatised\", \"typhoon\", \"typhoondevastated\", \"u\", \"u\", \"u\", \"u\", \"via\", \"via\", \"via\", \"video\", \"video\", \"video\", \"volcano\", \"volcano\", \"want\", \"war\", \"war\", \"war\", \"wave\", \"weapon\", \"weapon\", \"weather\", \"were\", \"wild\", \"wildfire\", \"wind\", \"windstorm\", \"windstorm\", \"windstorm\", \"would\", \"would\", \"would\", \"wound\", \"wounded\", \"wreck\", \"wreckage\", \"wrecked\", \"wrecked\", \"year\", \"year\", \"youre\", \"youtube\", \"zone\"]}, \"R\": 30, \"lambda.step\": 0.01, \"plot.opts\": {\"xlab\": \"PC1\", \"ylab\": \"PC2\"}, \"topic.order\": [1, 2, 3, 4]};\n",
       "\n",
       "function LDAvis_load_lib(url, callback){\n",
       "  var s = document.createElement('script');\n",
       "  s.src = url;\n",
       "  s.async = true;\n",
       "  s.onreadystatechange = s.onload = callback;\n",
       "  s.onerror = function(){console.warn(\"failed to load library \" + url);};\n",
       "  document.getElementsByTagName(\"head\")[0].appendChild(s);\n",
       "}\n",
       "\n",
       "if(typeof(LDAvis) !== \"undefined\"){\n",
       "   // already loaded: just create the visualization\n",
       "   !function(LDAvis){\n",
       "       new LDAvis(\"#\" + \"ldavis_el196140253952913584937254194\", ldavis_el196140253952913584937254194_data);\n",
       "   }(LDAvis);\n",
       "}else if(typeof define === \"function\" && define.amd){\n",
       "   // require.js is available: use it to load d3/LDAvis\n",
       "   require.config({paths: {d3: \"https://d3js.org/d3.v5\"}});\n",
       "   require([\"d3\"], function(d3){\n",
       "      window.d3 = d3;\n",
       "      LDAvis_load_lib(\"https://cdn.jsdelivr.net/gh/bmabey/pyLDAvis@3.3.1/pyLDAvis/js/ldavis.v3.0.0.js\", function(){\n",
       "        new LDAvis(\"#\" + \"ldavis_el196140253952913584937254194\", ldavis_el196140253952913584937254194_data);\n",
       "      });\n",
       "    });\n",
       "}else{\n",
       "    // require.js not available: dynamically load d3 & LDAvis\n",
       "    LDAvis_load_lib(\"https://d3js.org/d3.v5.js\", function(){\n",
       "         LDAvis_load_lib(\"https://cdn.jsdelivr.net/gh/bmabey/pyLDAvis@3.3.1/pyLDAvis/js/ldavis.v3.0.0.js\", function(){\n",
       "                 new LDAvis(\"#\" + \"ldavis_el196140253952913584937254194\", ldavis_el196140253952913584937254194_data);\n",
       "            })\n",
       "         });\n",
       "}\n",
       "</script>"
      ],
      "text/plain": [
       "<IPython.core.display.HTML object>"
      ]
     },
     "execution_count": 31,
     "metadata": {},
     "output_type": "execute_result"
    }
   ],
   "source": [
    "%%time\n",
    "\n",
    "lda_display = gensimvis.prepare(ldamodel_4, doc_term_matrix, dictionary, sort_topics=False, mds='mmds')\n",
    "pyLDAvis.display(lda_display)"
   ]
  },
  {
   "cell_type": "markdown",
   "metadata": {
    "id": "rQ1BUXAwLf-D"
   },
   "source": [
    "The 4 topics mostly talk about: \n",
    "1. people wounded in a wreckage and it relates to mh370 flight\n",
    "2. suicides and nuclear attacks/bombs (also hiroshima)\n",
    "3. Wildfire disaster in california \n",
    "4. wounded people and floods"
   ]
  },
  {
   "cell_type": "markdown",
   "metadata": {
    "id": "gil0Ofl2JK2c"
   },
   "source": [
    "**3 Topic Model**"
   ]
  },
  {
   "cell_type": "code",
   "execution_count": 32,
   "metadata": {
    "colab": {
     "base_uri": "https://localhost:8080/",
     "height": 0
    },
    "id": "EB3SZWFkIeNk",
    "outputId": "1e79cb9d-a732-4673-d0d0-982fcd960123"
   },
   "outputs": [
    {
     "name": "stdout",
     "output_type": "stream",
     "text": [
      "CPU times: user 2min, sys: 1.38 s, total: 2min 1s\n",
      "Wall time: 2min 11s\n",
      "(0, '0.008*\"like\" + 0.007*\"im\" + 0.005*\"get\" + 0.005*\"amp\" + 0.004*\"dont\"')\n",
      "(1, '0.007*\"storm\" + 0.006*\"fire\" + 0.005*\"police\" + 0.005*\"wreck\" + 0.005*\"disaster\"')\n",
      "(2, '0.006*\"fire\" + 0.005*\"family\" + 0.005*\"mh370\" + 0.004*\"video\" + 0.004*\"emergency\"')\n"
     ]
    }
   ],
   "source": [
    "%time ldamodel_3 = Lda(doc_term_matrix, num_topics=3, id2word = dictionary, passes=50) #3 topics\n",
    "print(*ldamodel_3.print_topics(num_topics=3, num_words=5), sep='\\n')"
   ]
  },
  {
   "cell_type": "code",
   "execution_count": 33,
   "metadata": {
    "colab": {
     "base_uri": "https://localhost:8080/",
     "height": 897
    },
    "id": "LYi8wgS9Ikjz",
    "outputId": "1529d56a-ea50-4380-e8bd-15df954d000f"
   },
   "outputs": [
    {
     "name": "stdout",
     "output_type": "stream",
     "text": [
      "CPU times: user 1.77 s, sys: 59.8 ms, total: 1.83 s\n",
      "Wall time: 2.36 s\n"
     ]
    },
    {
     "data": {
      "text/html": [
       "\n",
       "<link rel=\"stylesheet\" type=\"text/css\" href=\"https://cdn.jsdelivr.net/gh/bmabey/pyLDAvis@3.3.1/pyLDAvis/js/ldavis.v1.0.0.css\">\n",
       "\n",
       "\n",
       "<div id=\"ldavis_el1961402537963703526979050708\"></div>\n",
       "<script type=\"text/javascript\">\n",
       "\n",
       "var ldavis_el1961402537963703526979050708_data = {\"mdsDat\": {\"x\": [-0.06469523369821116, 0.17626581382536344, -0.11157058012715228], \"y\": [0.18420083966442574, -0.038714655397534034, -0.14548618426689172], \"topics\": [1, 2, 3], \"cluster\": [1, 1, 1], \"Freq\": [45.10850943651342, 26.49808372333834, 28.393406840148238]}, \"tinfo\": {\"Term\": [\"im\", \"like\", \"storm\", \"family\", \"wreck\", \"wounded\", \"mh370\", \"dont\", \"police\", \"violent\", \"pm\", \"wreckage\", \"disaster\", \"obama\", \"confirmed\", \"youtube\", \"emergency\", \"malaysia\", \"fire\", \"suicide\", \"go\", \"wildfire\", \"officer\", \"life\", \"service\", \"got\", \"love\", \"suspect\", \"change\", \"know\", \"im\", \"dont\", \"suicide\", \"life\", \"go\", \"got\", \"love\", \"know\", \"bomb\", \"going\", \"think\", \"cant\", \"let\", \"today\", \"want\", \"good\", \"hiroshima\", \"even\", \"way\", \"bomber\", \"lol\", \"bombing\", \"feel\", \"mass\", \"much\", \"na\", \"thing\", \"never\", \"youre\", \"really\", \"like\", \"still\", \"would\", \"get\", \"war\", \"one\", \"amp\", \"need\", \"u\", \"day\", \"time\", \"see\", \"weapon\", \"people\", \"look\", \"year\", \"wounded\", \"violent\", \"obama\", \"officer\", \"suspect\", \"wreck\", \"hostage\", \"sign\", \"shot\", \"saipan\", \"declares\", \"school\", \"typhoondevastated\", \"injured\", \"post\", \"bus\", \"road\", \"wind\", \"as\", \"fall\", \"declaration\", \"sinkhole\", \"blast\", \"loud\", \"breaking\", \"hurricane\", \"business\", \"exchanging\", \"richmond\", \"6\", \"a\", \"drought\", \"storm\", \"tornado\", \"police\", \"disaster\", \"killed\", \"fire\", \"dead\", \"wound\", \"3\", \"attack\", \"rt\", \"news\", \"2\", \"wrecked\", \"new\", \"via\", \"building\", \"amp\", \"family\", \"mh370\", \"wreckage\", \"pm\", \"confirmed\", \"youtube\", \"malaysia\", \"service\", \"conclusively\", \"investigator\", \"change\", \"forest\", \"fatal\", \"latest\", \"were\", \"legionnaire\", \"migrant\", \"severe\", \"thunderstorm\", \"oil\", \"warning\", \"liked\", \"found\", \"island\", \"rule\", \"natural\", \"hundred\", \"reddit\", \"missing\", \"national\", \"august\", \"emergency\", \"wildfire\", \"wild\", \"video\", \"california\", \"via\", \"fire\", \"news\", \"body\", \"new\", \"watch\", \"2015\", \"home\", \"disaster\", \"weapon\"], \"Freq\": [355.0, 429.0, 199.0, 168.0, 149.0, 133.0, 140.0, 214.0, 178.0, 118.0, 121.0, 118.0, 200.0, 107.0, 111.0, 107.0, 145.0, 101.0, 427.0, 153.0, 152.0, 147.0, 87.0, 147.0, 89.0, 142.0, 136.0, 79.0, 84.0, 135.0, 355.32615360452803, 214.09249876984478, 152.68026544134415, 147.46124967840575, 151.6119765935265, 142.43992026621902, 136.42347764713185, 134.52036182275293, 118.59712040679256, 115.54267808578783, 110.59924938326421, 119.8251806469505, 114.43840778226588, 122.08679533126373, 107.21129500654078, 109.313824749179, 99.26749341374642, 93.22941615785898, 97.55339178004805, 84.48933179335796, 85.15962226587756, 82.89709803443286, 83.16149594900384, 81.40534349163582, 82.15840847354187, 96.56650454028632, 80.22132478207679, 77.43402617830411, 73.32082523288446, 74.43523784498568, 413.10619340960415, 143.39330871351586, 152.62905622171544, 247.1568594903887, 141.54859839990652, 183.0110308818279, 236.2285420176912, 106.7232171426934, 198.32106591850763, 130.8598064460086, 143.62677058477226, 112.12982843160415, 151.74535395778736, 143.14657546273102, 112.7504713597585, 113.47715947485179, 133.37233160137185, 117.93581329944303, 106.89593217499272, 86.66051632385955, 79.3913137314811, 148.31005349422614, 69.04631196136333, 57.91272421140808, 64.04465109784469, 54.63081145378649, 52.065976500188526, 63.31856084421898, 47.92081422145088, 50.07937318912672, 59.01419206389727, 50.401220466528024, 49.056823076721585, 51.30873919385516, 50.603822484205146, 50.19643086320923, 39.1050154631818, 43.687627663322075, 39.01526732598083, 41.82250760282525, 41.11088700169269, 39.91648876376496, 39.448180779462945, 33.8810340680915, 34.00760824376729, 39.08425860218545, 50.670518643676644, 37.14668274813137, 187.77563078807765, 41.39232275078866, 152.09719100398297, 139.35960900772935, 81.41225978487456, 168.4692029187488, 73.30477168632936, 74.33172721313731, 74.91031841276052, 69.67837971690297, 64.45344398337606, 71.33358564550412, 63.63985030408339, 57.33069201685849, 63.77481526523883, 61.298811074217895, 54.779580718806756, 59.53538854345935, 167.5004832250184, 139.96213133526248, 118.12160142650087, 121.44327731535662, 110.88342817283967, 106.80530972296268, 100.61826763800498, 89.09819783687425, 79.37587185052271, 77.76203746276116, 83.75292053438446, 70.67450315476349, 64.95282292599293, 65.46949477777491, 57.844382945404135, 57.03480843385675, 56.87686726566226, 57.30483943804192, 61.312355333980435, 52.61865253159814, 50.93431640953855, 50.05552201340767, 50.507996959122266, 55.079562736459366, 50.31425761715908, 49.822880693029994, 45.46283452139272, 44.47326454529869, 44.90347995467874, 43.18314762027098, 45.192569471613616, 128.99474040036623, 119.80055810060125, 104.39919859339673, 137.9576496463027, 109.92984000628803, 128.31311321397442, 188.05806880603123, 118.38519437650193, 73.56619767983312, 103.43739362614703, 66.76018781503386, 59.16268616134526, 63.76608213945839, 60.70228128670864, 58.709638704100875], \"Total\": [355.0, 429.0, 199.0, 168.0, 149.0, 133.0, 140.0, 214.0, 178.0, 118.0, 121.0, 118.0, 200.0, 107.0, 111.0, 107.0, 145.0, 101.0, 427.0, 153.0, 152.0, 147.0, 87.0, 147.0, 89.0, 142.0, 136.0, 79.0, 84.0, 135.0, 355.8587976781573, 214.61918573297567, 153.2153801937943, 147.9985936856368, 152.17403413703684, 142.98348369208713, 136.96655137722357, 135.06847904835078, 119.13051445026744, 116.07992411092198, 111.1289098663599, 120.40005044721129, 114.99966287904788, 122.68691310769748, 107.76785181881793, 109.89901565836911, 99.80632572783047, 93.77889950488928, 98.1391184417929, 85.00759107553974, 85.68284805387775, 83.4234775769886, 83.69878300004908, 81.93911677325433, 82.70601518049375, 97.21355552006371, 80.77758439585557, 77.99362286355996, 73.86097131270849, 75.00301694980493, 429.71230857002166, 155.3186615839175, 169.5449749733887, 303.63205485522417, 159.4748899199931, 239.1482533828557, 340.49631238455385, 117.74250649875586, 286.6854665173058, 159.3373592342697, 182.58664144552787, 127.98431580688495, 240.20570038151553, 217.91748033217988, 142.4169963939324, 165.88575976560656, 133.96327760448457, 118.54916114560916, 107.4588545488721, 87.21345522071057, 79.94313966084006, 149.53468813851686, 69.69642370911018, 58.485391783363596, 64.68585156537003, 55.19371063859908, 52.613446028640155, 64.01630167707224, 48.464287047450966, 50.66037874949659, 59.69956062558812, 50.98742791172151, 49.63853760059524, 51.92419413247011, 51.28908570371363, 50.88327486574935, 39.64807669455612, 44.298430026850895, 39.574957367911345, 42.42669261945927, 41.71801997889129, 40.51270918564882, 40.080460787850626, 34.425252276637885, 34.55810111903753, 39.73233482678696, 51.759502353474645, 37.781860334701754, 199.04804951676635, 42.22800925087833, 178.106338863433, 200.4393922181925, 122.79895376873594, 427.0777193627906, 114.17593241472854, 121.39064080423505, 135.0939370397183, 130.82903137059895, 132.5799611902885, 231.3682216866232, 172.60005488702507, 112.10956940852977, 268.9047723336894, 228.71109304333035, 99.72744513686612, 340.49631238455385, 168.08284491486384, 140.49303476356735, 118.65301041009182, 121.99840418418339, 111.42355539614132, 107.35674760539634, 101.1512928428024, 89.65827829676954, 79.90580276023769, 78.29178294362777, 84.34336404153076, 71.24259066108812, 65.51116256143203, 66.03615102446365, 58.3797208047661, 57.56698456163056, 57.41513407124392, 57.858589855632715, 61.91318275556975, 53.17688307276762, 51.478540007430546, 50.59265445371889, 51.07006707286211, 55.69704991457495, 50.894493281475505, 50.4133343287267, 46.00450153316181, 45.01690182314837, 45.46780952185726, 43.72673953193809, 45.818273415795765, 145.14532459741002, 147.7180783071463, 133.37426744537595, 202.35415842073172, 151.67785173706707, 228.71109304333035, 427.0777193627906, 231.3682216866232, 117.73530739444863, 268.9047723336894, 107.96965426647859, 72.06774545810974, 139.0104709564477, 200.4393922181925, 240.20570038151553], \"Category\": [\"Default\", \"Default\", \"Default\", \"Default\", \"Default\", \"Default\", \"Default\", \"Default\", \"Default\", \"Default\", \"Default\", \"Default\", \"Default\", \"Default\", \"Default\", \"Default\", \"Default\", \"Default\", \"Default\", \"Default\", \"Default\", \"Default\", \"Default\", \"Default\", \"Default\", \"Default\", \"Default\", \"Default\", \"Default\", \"Default\", \"Topic1\", \"Topic1\", \"Topic1\", \"Topic1\", \"Topic1\", \"Topic1\", \"Topic1\", \"Topic1\", \"Topic1\", \"Topic1\", \"Topic1\", \"Topic1\", \"Topic1\", \"Topic1\", \"Topic1\", \"Topic1\", \"Topic1\", \"Topic1\", \"Topic1\", \"Topic1\", \"Topic1\", \"Topic1\", \"Topic1\", \"Topic1\", \"Topic1\", \"Topic1\", \"Topic1\", \"Topic1\", \"Topic1\", \"Topic1\", \"Topic1\", \"Topic1\", \"Topic1\", \"Topic1\", \"Topic1\", \"Topic1\", \"Topic1\", \"Topic1\", \"Topic1\", \"Topic1\", \"Topic1\", \"Topic1\", \"Topic1\", \"Topic1\", \"Topic1\", \"Topic1\", \"Topic2\", \"Topic2\", \"Topic2\", \"Topic2\", \"Topic2\", \"Topic2\", \"Topic2\", \"Topic2\", \"Topic2\", \"Topic2\", \"Topic2\", \"Topic2\", \"Topic2\", \"Topic2\", \"Topic2\", \"Topic2\", \"Topic2\", \"Topic2\", \"Topic2\", \"Topic2\", \"Topic2\", \"Topic2\", \"Topic2\", \"Topic2\", \"Topic2\", \"Topic2\", \"Topic2\", \"Topic2\", \"Topic2\", \"Topic2\", \"Topic2\", \"Topic2\", \"Topic2\", \"Topic2\", \"Topic2\", \"Topic2\", \"Topic2\", \"Topic2\", \"Topic2\", \"Topic2\", \"Topic2\", \"Topic2\", \"Topic2\", \"Topic2\", \"Topic2\", \"Topic2\", \"Topic2\", \"Topic2\", \"Topic2\", \"Topic2\", \"Topic3\", \"Topic3\", \"Topic3\", \"Topic3\", \"Topic3\", \"Topic3\", \"Topic3\", \"Topic3\", \"Topic3\", \"Topic3\", \"Topic3\", \"Topic3\", \"Topic3\", \"Topic3\", \"Topic3\", \"Topic3\", \"Topic3\", \"Topic3\", \"Topic3\", \"Topic3\", \"Topic3\", \"Topic3\", \"Topic3\", \"Topic3\", \"Topic3\", \"Topic3\", \"Topic3\", \"Topic3\", \"Topic3\", \"Topic3\", \"Topic3\", \"Topic3\", \"Topic3\", \"Topic3\", \"Topic3\", \"Topic3\", \"Topic3\", \"Topic3\", \"Topic3\", \"Topic3\", \"Topic3\", \"Topic3\", \"Topic3\", \"Topic3\", \"Topic3\", \"Topic3\"], \"logprob\": [30.0, 29.0, 28.0, 27.0, 26.0, 25.0, 24.0, 23.0, 22.0, 21.0, 20.0, 19.0, 18.0, 17.0, 16.0, 15.0, 14.0, 13.0, 12.0, 11.0, 10.0, 9.0, 8.0, 7.0, 6.0, 5.0, 4.0, 3.0, 2.0, 1.0, -4.9294, -5.436, -5.774, -5.8088, -5.7811, -5.8435, -5.8866, -5.9007, -6.0267, -6.0527, -6.0965, -6.0164, -6.0624, -5.9977, -6.1276, -6.1082, -6.2046, -6.2673, -6.222, -6.3658, -6.3579, -6.3848, -6.3816, -6.4029, -6.3937, -6.2322, -6.4176, -6.453, -6.5075, -6.4925, -4.7787, -5.8368, -5.7744, -5.2924, -5.8497, -5.5928, -5.3376, -6.1322, -5.5125, -5.9283, -5.8352, -6.0827, -5.7802, -5.8385, -6.0772, -6.0708, -5.3772, -5.5003, -5.5985, -5.8084, -5.896, -5.2711, -6.0356, -6.2115, -6.1108, -6.2698, -6.3179, -6.1222, -6.4008, -6.3568, -6.1926, -6.3504, -6.3774, -6.3325, -6.3464, -6.3544, -6.6041, -6.4933, -6.6064, -6.537, -6.5541, -6.5836, -6.5954, -6.7475, -6.7438, -6.6047, -6.345, -6.6555, -5.0351, -6.5473, -5.2459, -5.3333, -5.8709, -5.1436, -5.9758, -5.9619, -5.9541, -6.0265, -6.1044, -6.003, -6.1172, -6.2216, -6.115, -6.1546, -6.2671, -6.1838, -5.2185, -5.3981, -5.5678, -5.54, -5.631, -5.6685, -5.7281, -5.8497, -5.9653, -5.9858, -5.9116, -6.0814, -6.1658, -6.1579, -6.2817, -6.2958, -6.2986, -6.2911, -6.2235, -6.3764, -6.4089, -6.4263, -6.4173, -6.3307, -6.4212, -6.431, -6.5226, -6.5446, -6.535, -6.574, -6.5285, -5.4797, -5.5536, -5.6913, -5.4125, -5.6396, -5.485, -5.1027, -5.5655, -6.0413, -5.7005, -6.1384, -6.2592, -6.1843, -6.2335, -6.2669], \"loglift\": [30.0, 29.0, 28.0, 27.0, 26.0, 25.0, 24.0, 23.0, 22.0, 21.0, 20.0, 19.0, 18.0, 17.0, 16.0, 15.0, 14.0, 13.0, 12.0, 11.0, 10.0, 9.0, 8.0, 7.0, 6.0, 5.0, 4.0, 3.0, 2.0, 1.0, 0.7946, 0.7936, 0.7926, 0.7925, 0.7924, 0.7923, 0.7921, 0.792, 0.7916, 0.7915, 0.7913, 0.7913, 0.7912, 0.7912, 0.7909, 0.7908, 0.7907, 0.7902, 0.7901, 0.79, 0.79, 0.7898, 0.7897, 0.7896, 0.7895, 0.7894, 0.7892, 0.7889, 0.7888, 0.7885, 0.7567, 0.7162, 0.691, 0.5903, 0.6769, 0.5286, 0.4305, 0.6978, 0.4276, 0.5992, 0.5561, 0.6638, 0.3368, 0.3759, 0.5625, 0.4164, 1.3237, 1.3229, 1.3228, 1.3217, 1.3212, 1.3199, 1.3187, 1.3183, 1.3181, 1.3178, 1.3176, 1.3171, 1.3168, 1.3166, 1.3166, 1.3165, 1.3163, 1.3162, 1.3146, 1.3145, 1.3143, 1.3142, 1.3139, 1.3138, 1.3134, 1.3133, 1.3122, 1.3122, 1.312, 1.3117, 1.3068, 1.3111, 1.2698, 1.3081, 1.1702, 0.9646, 0.9171, 0.3979, 0.885, 0.8376, 0.7384, 0.6981, 0.6069, 0.1515, 0.3304, 0.6575, -0.1109, 0.0114, 0.729, -0.4157, 1.2555, 1.2552, 1.2545, 1.2545, 1.2542, 1.2539, 1.2537, 1.2527, 1.2524, 1.2522, 1.252, 1.251, 1.2505, 1.2504, 1.2498, 1.2497, 1.2496, 1.2494, 1.2493, 1.2485, 1.2484, 1.2483, 1.2479, 1.2479, 1.2475, 1.2472, 1.2472, 1.2469, 1.2465, 1.2465, 1.2453, 1.141, 1.0495, 1.0141, 0.8759, 0.9371, 0.681, 0.4388, 0.5889, 0.7888, 0.3036, 0.7783, 1.0617, 0.4797, 0.0645, -0.1499]}, \"token.table\": {\"Topic\": [1, 2, 3, 2, 3, 1, 2, 3, 2, 2, 3, 1, 2, 3, 2, 1, 2, 3, 2, 1, 3, 1, 1, 1, 2, 1, 2, 2, 2, 2, 3, 1, 3, 3, 3, 1, 3, 1, 2, 2, 2, 2, 3, 1, 2, 2, 3, 1, 2, 2, 3, 3, 1, 1, 2, 3, 3, 3, 1, 3, 1, 1, 1, 1, 1, 1, 2, 3, 2, 3, 2, 1, 2, 3, 3, 1, 2, 1, 3, 3, 1, 1, 1, 2, 3, 1, 1, 2, 2, 1, 3, 1, 3, 3, 3, 1, 1, 3, 3, 1, 3, 1, 1, 2, 3, 1, 2, 3, 2, 2, 3, 1, 2, 3, 1, 2, 3, 3, 2, 3, 2, 1, 3, 2, 2, 1, 2, 3, 3, 2, 2, 1, 2, 3, 3, 2, 2, 2, 1, 3, 1, 2, 3, 1, 2, 1, 1, 3, 1, 2, 3, 1, 2, 2, 1, 2, 3, 1, 2, 3, 1, 2, 3, 2, 1, 1, 2, 3, 1, 2, 3, 1, 1, 2, 3, 3, 2, 3, 2, 3, 2, 1, 2, 1, 2, 2, 1, 2, 3, 1, 2, 3, 1, 2, 3, 1, 3], \"Freq\": [0.4692930141477553, 0.3707994185858807, 0.16222474563132283, 0.18038582888036103, 0.8186741464570232, 0.25907898434931115, 0.5551692521770952, 0.18505641739236509, 0.9815682911668904, 0.9853263204060991, 0.019320123929531356, 0.6931058910660491, 0.1762133621354362, 0.13216002160157717, 0.9943636019291976, 0.4662573693388091, 0.5350494402248629, 0.9821408936916932, 0.9854716869922003, 0.37371966807362883, 0.6285285326692849, 0.9989044414785775, 0.9881470458956498, 0.9949237602017035, 0.9827887330401922, 0.4512298488970806, 0.5515031486519875, 0.9806338944292087, 0.9730427054327144, 0.2703097356038067, 0.7252212418638717, 0.9966773232592068, 0.9959289738388702, 0.9886641178869624, 0.9961986907109949, 0.822154958696121, 0.17572777743123197, 0.35909494350414484, 0.6393641677025017, 0.9836542715665928, 0.9883405084642009, 0.6934764592016356, 0.30433139576474655, 0.9971149562847282, 0.9793059333824377, 0.11023434646881836, 0.888764418404848, 0.9916942989414301, 0.9876470832161054, 0.9826411553092881, 0.9995071185586738, 0.9921973211671722, 0.991651216720216, 0.16624608772832628, 0.39337102448392697, 0.4402009083510611, 0.9965948646892677, 0.9986280207393865, 0.8134845977239554, 0.18443375494956074, 0.998856348009542, 0.9993114734392348, 0.9918196204671771, 0.9931216972289957, 0.9919210959631026, 0.3309103241180436, 0.20861737824833185, 0.46039697268597374, 0.9900077554622196, 0.978165146894642, 0.9873444853243623, 0.9975866897663886, 0.9869645911499794, 0.996273134514795, 0.9874849760329489, 0.3338790660807602, 0.6596147403058921, 0.9994930049643466, 0.9843093365014597, 0.9901508726582064, 0.9913072538299588, 0.9932526812534591, 0.9611081455273269, 0.037234213870308064, 0.9882857608457559, 0.9920305163823643, 0.7934446229116955, 0.2036273811012316, 0.9899428262465229, 0.9929431575263835, 0.9985042915562382, 0.988538846765299, 0.9964906818021472, 0.9927696054714633, 0.9897111928906015, 0.9914635570465706, 0.9978032331096085, 0.9833799743654046, 0.9918010912344838, 0.9087627160470771, 0.09342420445343783, 0.9872602037566818, 0.37931643650201247, 0.23800246996204702, 0.3830352250951694, 0.18152881884050145, 0.3068701461351334, 0.5100095386471231, 0.9957299512376301, 0.9975524966856274, 0.9966736848317045, 0.765215707877376, 0.15889725081606715, 0.07944862540803357, 0.6562116989514548, 0.16978904098743935, 0.1743779339870999, 0.9918162520988711, 0.853422741548516, 0.14598020579119353, 0.9882819803318907, 0.9866269786123911, 0.9774106661728225, 0.9838503534347817, 0.9871362527693083, 0.2866194835089717, 0.482727551173005, 0.2262785396123461, 0.9824245566896904, 0.9964903494192034, 0.9841243300464477, 0.8751072293029747, 0.12501531847185354, 0.9926579194997407, 0.9851605464672567, 0.9893971935319283, 0.9917006320969595, 0.9932631917955105, 0.920687820392646, 0.07726051639658568, 0.020095650320165883, 0.9444955650477964, 0.035167388060290294, 0.9985942651872034, 0.9882023690232665, 0.9903737602248048, 0.9988399970222427, 0.9852505926052137, 0.7886666782408632, 0.07667592705119504, 0.13692129830570543, 0.9944010889972064, 0.9709195561746073, 0.9904200169705089, 0.6906523808316167, 0.10813244346353594, 0.1988241702394048, 0.1705208063196623, 0.26671203039742053, 0.559658030997866, 0.15813858360877409, 0.16308041434654827, 0.6819726418128382, 0.9953676505147544, 0.9928749454882996, 0.8904223108179596, 0.11287043376565686, 0.9907040874243622, 0.24080840284835697, 0.14818978636821967, 0.6205447304169199, 0.9985824364025094, 0.6327909777269249, 0.12489295613031413, 0.24562281372295114, 0.9934956728204308, 0.21743324672337627, 0.7797606089390046, 0.18955025898577113, 0.8123582527961619, 0.9822010885693808, 0.9024154211825768, 0.10026838013139742, 0.3871797668141173, 0.6096021860477592, 0.9928093905903932, 0.006687411546100131, 0.9897369088228195, 0.9944964699350243, 0.3924731870092465, 0.5084311740801603, 0.09811829675231162, 0.6811916837205729, 0.22304506458107254, 0.09645191981884217, 0.9883433524172955, 0.9966769894454366], \"Term\": [\"2\", \"2\", \"2\", \"2015\", \"2015\", \"3\", \"3\", \"3\", \"6\", \"a\", \"a\", \"amp\", \"amp\", \"amp\", \"as\", \"attack\", \"attack\", \"august\", \"blast\", \"body\", \"body\", \"bomb\", \"bomber\", \"bombing\", \"breaking\", \"building\", \"building\", \"bus\", \"business\", \"california\", \"california\", \"cant\", \"change\", \"conclusively\", \"confirmed\", \"day\", \"day\", \"dead\", \"dead\", \"declaration\", \"declares\", \"disaster\", \"disaster\", \"dont\", \"drought\", \"emergency\", \"emergency\", \"even\", \"exchanging\", \"fall\", \"family\", \"fatal\", \"feel\", \"fire\", \"fire\", \"fire\", \"forest\", \"found\", \"get\", \"get\", \"go\", \"going\", \"good\", \"got\", \"hiroshima\", \"home\", \"home\", \"home\", \"hostage\", \"hundred\", \"hurricane\", \"im\", \"injured\", \"investigator\", \"island\", \"killed\", \"killed\", \"know\", \"latest\", \"legionnaire\", \"let\", \"life\", \"like\", \"like\", \"liked\", \"lol\", \"look\", \"look\", \"loud\", \"love\", \"malaysia\", \"mass\", \"mh370\", \"migrant\", \"missing\", \"much\", \"na\", \"national\", \"natural\", \"need\", \"need\", \"never\", \"new\", \"new\", \"new\", \"news\", \"news\", \"news\", \"obama\", \"officer\", \"oil\", \"one\", \"one\", \"one\", \"people\", \"people\", \"people\", \"pm\", \"police\", \"police\", \"post\", \"really\", \"reddit\", \"richmond\", \"road\", \"rt\", \"rt\", \"rt\", \"rule\", \"saipan\", \"school\", \"see\", \"see\", \"service\", \"severe\", \"shot\", \"sign\", \"sinkhole\", \"still\", \"still\", \"storm\", \"storm\", \"storm\", \"suicide\", \"suspect\", \"thing\", \"think\", \"thunderstorm\", \"time\", \"time\", \"time\", \"today\", \"tornado\", \"typhoondevastated\", \"u\", \"u\", \"u\", \"via\", \"via\", \"via\", \"video\", \"video\", \"video\", \"violent\", \"want\", \"war\", \"war\", \"warning\", \"watch\", \"watch\", \"watch\", \"way\", \"weapon\", \"weapon\", \"weapon\", \"were\", \"wild\", \"wild\", \"wildfire\", \"wildfire\", \"wind\", \"would\", \"would\", \"wound\", \"wound\", \"wounded\", \"wreck\", \"wreck\", \"wreckage\", \"wrecked\", \"wrecked\", \"wrecked\", \"year\", \"year\", \"year\", \"youre\", \"youtube\"]}, \"R\": 30, \"lambda.step\": 0.01, \"plot.opts\": {\"xlab\": \"PC1\", \"ylab\": \"PC2\"}, \"topic.order\": [1, 2, 3]};\n",
       "\n",
       "function LDAvis_load_lib(url, callback){\n",
       "  var s = document.createElement('script');\n",
       "  s.src = url;\n",
       "  s.async = true;\n",
       "  s.onreadystatechange = s.onload = callback;\n",
       "  s.onerror = function(){console.warn(\"failed to load library \" + url);};\n",
       "  document.getElementsByTagName(\"head\")[0].appendChild(s);\n",
       "}\n",
       "\n",
       "if(typeof(LDAvis) !== \"undefined\"){\n",
       "   // already loaded: just create the visualization\n",
       "   !function(LDAvis){\n",
       "       new LDAvis(\"#\" + \"ldavis_el1961402537963703526979050708\", ldavis_el1961402537963703526979050708_data);\n",
       "   }(LDAvis);\n",
       "}else if(typeof define === \"function\" && define.amd){\n",
       "   // require.js is available: use it to load d3/LDAvis\n",
       "   require.config({paths: {d3: \"https://d3js.org/d3.v5\"}});\n",
       "   require([\"d3\"], function(d3){\n",
       "      window.d3 = d3;\n",
       "      LDAvis_load_lib(\"https://cdn.jsdelivr.net/gh/bmabey/pyLDAvis@3.3.1/pyLDAvis/js/ldavis.v3.0.0.js\", function(){\n",
       "        new LDAvis(\"#\" + \"ldavis_el1961402537963703526979050708\", ldavis_el1961402537963703526979050708_data);\n",
       "      });\n",
       "    });\n",
       "}else{\n",
       "    // require.js not available: dynamically load d3 & LDAvis\n",
       "    LDAvis_load_lib(\"https://d3js.org/d3.v5.js\", function(){\n",
       "         LDAvis_load_lib(\"https://cdn.jsdelivr.net/gh/bmabey/pyLDAvis@3.3.1/pyLDAvis/js/ldavis.v3.0.0.js\", function(){\n",
       "                 new LDAvis(\"#\" + \"ldavis_el1961402537963703526979050708\", ldavis_el1961402537963703526979050708_data);\n",
       "            })\n",
       "         });\n",
       "}\n",
       "</script>"
      ],
      "text/plain": [
       "<IPython.core.display.HTML object>"
      ]
     },
     "execution_count": 33,
     "metadata": {},
     "output_type": "execute_result"
    }
   ],
   "source": [
    "%%time\n",
    "\n",
    "lda_display = gensimvis.prepare(ldamodel_3, doc_term_matrix, dictionary, sort_topics=False, mds='mmds')\n",
    "pyLDAvis.display(lda_display)"
   ]
  },
  {
   "cell_type": "markdown",
   "metadata": {
    "id": "SBMAR_HVMR5k"
   },
   "source": [
    "The 3 topics mostly talk about: \n",
    "1. suicide and weapons and bombs \n",
    "2. Talks about disasters (mostly storm and fires)\n",
    "3. Talks about video regarding mh370 and fire"
   ]
  },
  {
   "cell_type": "markdown",
   "metadata": {
    "id": "oGZ1NiltJF9s"
   },
   "source": [
    "**10 Topic Model**"
   ]
  },
  {
   "cell_type": "code",
   "execution_count": 35,
   "metadata": {
    "colab": {
     "base_uri": "https://localhost:8080/",
     "height": 0
    },
    "id": "iRhB1BskIood",
    "outputId": "4c14628a-a856-4779-8482-3b0594946ed2"
   },
   "outputs": [
    {
     "name": "stdout",
     "output_type": "stream",
     "text": [
      "CPU times: user 1min 38s, sys: 515 ms, total: 1min 39s\n",
      "Wall time: 1min 40s\n",
      "(0, '0.021*\"disaster\" + 0.018*\"weapon\" + 0.012*\"killed\" + 0.011*\"crash\" + 0.010*\"emergency\"')\n",
      "(1, '0.019*\"video\" + 0.012*\"violent\" + 0.010*\"youtube\" + 0.006*\"train\" + 0.005*\"new\"')\n",
      "(2, '0.014*\"wounded\" + 0.012*\"wreckage\" + 0.011*\"confirmed\" + 0.008*\"year\" + 0.007*\"nuclear\"')\n",
      "(3, '0.018*\"storm\" + 0.015*\"wildfire\" + 0.009*\"officer\" + 0.009*\"typhoon\" + 0.007*\"california\"')\n",
      "(4, '0.021*\"like\" + 0.016*\"get\" + 0.015*\"im\" + 0.010*\"dont\" + 0.008*\"got\"')\n",
      "(5, '0.030*\"fire\" + 0.013*\"wild\" + 0.010*\"obama\" + 0.009*\"building\" + 0.008*\"police\"')\n",
      "(6, '0.012*\"pm\" + 0.006*\"many\" + 0.006*\"wrecked\" + 0.006*\"new\" + 0.005*\"weapon\"')\n",
      "(7, '0.014*\"home\" + 0.009*\"na\" + 0.008*\"life\" + 0.008*\"mass\" + 0.006*\"people\"')\n",
      "(8, '0.014*\"suicide\" + 0.008*\"bomber\" + 0.008*\"hostage\" + 0.007*\"army\" + 0.007*\"terrorist\"')\n",
      "(9, '0.011*\"wound\" + 0.010*\"mh370\" + 0.010*\"volcano\" + 0.010*\"malaysia\" + 0.008*\"conclusively\"')\n"
     ]
    }
   ],
   "source": [
    "%time ldamodel_10 = Lda(doc_term_matrix, num_topics=10, id2word = dictionary, passes=50) #10 topics\n",
    "print(*ldamodel_10.print_topics(num_topics=10, num_words=5), sep='\\n')"
   ]
  },
  {
   "cell_type": "code",
   "execution_count": 36,
   "metadata": {
    "colab": {
     "base_uri": "https://localhost:8080/",
     "height": 897
    },
    "id": "pL5SdvYyJDYV",
    "outputId": "861c30f7-c5fa-4e8b-ba9a-b2a2773c5753"
   },
   "outputs": [
    {
     "name": "stdout",
     "output_type": "stream",
     "text": [
      "CPU times: user 2.49 s, sys: 84.1 ms, total: 2.57 s\n",
      "Wall time: 7.18 s\n"
     ]
    },
    {
     "data": {
      "text/html": [
       "\n",
       "<link rel=\"stylesheet\" type=\"text/css\" href=\"https://cdn.jsdelivr.net/gh/bmabey/pyLDAvis@3.3.1/pyLDAvis/js/ldavis.v1.0.0.css\">\n",
       "\n",
       "\n",
       "<div id=\"ldavis_el1961402539529135846099464246\"></div>\n",
       "<script type=\"text/javascript\">\n",
       "\n",
       "var ldavis_el1961402539529135846099464246_data = {\"mdsDat\": {\"x\": [0.0039338689759287745, 0.03230172593764957, -0.27504440039586253, -0.16121179352974213, 0.24155226250228246, 0.2618568073197583, 0.06248246272210248, -0.1452798940014751, -0.2762271984437516, 0.2556361589131097], \"y\": [0.05510581993227684, -0.2549102900519027, -0.10340051040301149, 0.27191961629113043, -0.23888590461282, -0.025397033905014157, 0.29087648326233206, -0.2551224491478695, 0.08951564442619725, 0.17029862420868133], \"topics\": [1, 2, 3, 4, 5, 6, 7, 8, 9, 10], \"cluster\": [1, 1, 1, 1, 1, 1, 1, 1, 1, 1], \"Freq\": [9.39245057568439, 9.713717348418276, 9.207092854591407, 8.871099829473374, 15.5934290892459, 10.112718459990363, 9.14444407523264, 9.48526301204202, 9.013964237190939, 9.465820518130691]}, \"tinfo\": {\"Term\": [\"fire\", \"like\", \"disaster\", \"video\", \"get\", \"weapon\", \"storm\", \"im\", \"wildfire\", \"home\", \"wounded\", \"suicide\", \"wild\", \"violent\", \"killed\", \"pm\", \"wreckage\", \"wound\", \"crash\", \"dont\", \"emergency\", \"confirmed\", \"got\", \"youtube\", \"mh370\", \"obama\", \"wreck\", \"volcano\", \"malaysia\", \"california\", \"disaster\", \"killed\", \"crash\", \"fatal\", \"sign\", \"boy\", \"saipan\", \"migrant\", \"declares\", \"bus\", \"oil\", \"typhoondevastated\", \"texas\", \"boat\", \"spill\", \"declaration\", \"affected\", \"government\", \"marians\", \"memory\", \"reuters\", \"helicopter\", \"chemical\", \"la\", \"militant\", \"almost\", \"bigger\", \"climate\", \"sister\", \"manslaughter\", \"weapon\", \"hundred\", \"emergency\", \"line\", \"fun\", \"attack\", \"service\", \"explosion\", \"job\", \"flood\", \"nuclear\", \"group\", \"police\", \"news\", \"kill\", \"via\", \"video\", \"violent\", \"youtube\", \"survive\", \"liked\", \"richmond\", \"action\", \"capture\", \"displaced\", \"problem\", \"rise\", \"tablet\", \"return\", \"york\", \"true\", \"added\", \"lord\", \"number\", \"driver\", \"playlist\", \"amazon\", \"rly\", \"led\", \"camp\", \"brain\", \"recount\", \"tongue\", \"gang\", \"amsterdam\", \"plunging\", \"fall\", \"tsunami\", \"mp\", \"pic\", \"old\", \"earthquake\", \"turkey\", \"light\", \"cliff\", \"rescued\", \"train\", \"twister\", \"death\", \"live\", \"real\", \"show\", \"flood\", \"new\", \"red\", \"amp\", \"today\", \"u\", \"first\", \"like\", \"wounded\", \"wreckage\", \"confirmed\", \"were\", \"wind\", \"warning\", \"failure\", \"casualty\", \"sinkhole\", \"structural\", \"atomic\", \"insurance\", \"hazardous\", \"effect\", \"wont\", \"king\", \"anniversary\", \"seen\", \"virgin\", \"okay\", \"israel\", \"el\", \"galactic\", \"b\", \"lake\", \"mark\", \"cake\", \"quiz\", \"chicago\", \"strike\", \"severe\", \"water\", \"japan\", \"low\", \"hiroshima\", \"seek\", \"nuclear\", \"year\", \"change\", \"thunderstorm\", \"road\", \"state\", \"still\", \"windstorm\", \"dead\", \"bombing\", \"people\", \"take\", \"wildfire\", \"officer\", \"typhoon\", \"stock\", \"china\", \"soudelor\", \"survived\", \"market\", \"reddit\", \"hurricane\", \"6\", \"three\", \"quarantine\", \"razed\", \"ancient\", \"order\", \"taiwan\", \"force\", \"offensive\", \"data\", \"star\", \"pain\", \"wake\", \"fedex\", \"longer\", \"mayan\", \"exchange\", \"saved\", \"bioterror\", \"expected\", \"wave\", \"storm\", \"update\", \"heat\", \"trouble\", \"latest\", \"hijacking\", \"2015\", \"inside\", \"black\", \"california\", \"via\", \"news\", \"northern\", \"rt\", \"best\", \"fire\", \"u\", \"got\", \"zone\", \"feel\", \"legionnaire\", \"as\", \"girl\", \"always\", \"loud\", \"tornado\", \"security\", \"sandstorm\", \"airport\", \"blast\", \"hail\", \"outbreak\", \"watching\", \"stretcher\", \"ur\", \"bang\", \"didnt\", \"care\", \"calgary\", \"huge\", \"swallowed\", \"pretty\", \"crush\", \"anyone\", \"omg\", \"sue\", \"damn\", \"get\", \"like\", \"look\", \"minute\", \"know\", \"wreck\", \"dont\", \"lol\", \"im\", \"bad\", \"right\", \"war\", \"even\", \"going\", \"good\", \"think\", \"want\", \"see\", \"need\", \"everyone\", \"family\", \"cant\", \"watch\", \"amp\", \"u\", \"still\", \"take\", \"one\", \"back\", \"wild\", \"suspect\", \"forest\", \"siren\", \"a\", \"ruin\", \"national\", \"exchanging\", \"meltdown\", \"half\", \"drown\", \"cross\", \"horror\", \"caught\", \"firefighter\", \"building\", \"strong\", \"shoulder\", \"picking\", \"utc20150805\", \"x\", \"salt\", \"gunfire\", \"gunman\", \"em\", \"amid\", \"time20150806\", \"hero\", \"animal\", \"character\", \"obama\", \"burning\", \"shot\", \"fire\", \"bag\", \"israeli\", \"baby\", \"rescue\", \"body\", \"california\", \"police\", \"northern\", \"woman\", \"new\", \"area\", \"u\", \"service\", \"via\", \"dead\", \"pm\", \"natural\", \"lightning\", \"rescuer\", \"detonated\", \"comment\", \"responder\", \"landing\", \"insurer\", \"rock\", \"online\", \"19\", \"bestnaijamade\", \"fact\", \"wonder\", \"bit\", \"maybe\", \"banned\", \"the\", \"class\", \"young\", \"islamic\", \"likely\", \"million\", \"cramer\", \"reddits\", \"subreddits\", \"dramatic\", \"single\", \"knock\", \"august\", \"weather\", \"many\", \"trapped\", \"super\", \"word\", \"issue\", \"wrecked\", \"much\", \"injury\", \"top\", \"landslide\", \"thunder\", \"3\", \"world\", \"new\", \"weapon\", \"could\", \"go\", \"get\", \"would\", \"home\", \"na\", \"mass\", \"gon\", \"screaming\", \"murder\", \"panic\", \"pkk\", \"find\", \"terrorism\", \"wan\", \"stay\", \"murderer\", \"disney\", \"computer\", \"point\", \"hat\", \"nearby\", \"hollywood\", \"secret\", \"sad\", \"giant\", \"60\", \"cry\", \"uk\", \"learn\", \"nagasaki\", \"lead\", \"mph\", \"sale\", \"fear\", \"trying\", \"heard\", \"life\", \"north\", \"kid\", \"another\", \"story\", \"two\", \"there\", \"people\", \"sound\", \"train\", \"im\", \"time\", \"one\", \"collapse\", \"year\", \"like\", \"dont\", \"make\", \"would\", \"bomber\", \"hostage\", \"terrorist\", \"refugee\", \"rule\", \"saudi\", \"released\", \"trauma\", \"mosque\", \"screamed\", \"tragedy\", \"40\", \"abc\", \"drowning\", \"16yr\", \"crashed\", \"tv\", \"trench\", \"actually\", \"india\", \"hey\", \"muslim\", \"miner\", \"christian\", \"chile\", \"threat\", \"pick\", \"bed\", \"05\", \"guess\", \"suicide\", \"army\", \"fan\", \"t\", \"bomb\", \"kill\", \"15\", \"bombing\", \"movie\", \"tonight\", \"one\", \"via\", \"news\", \"wound\", \"volcano\", \"malaysia\", \"conclusively\", \"investigator\", \"survivor\", \"sinking\", \"traumatised\", \"rioting\", \"debris\", \"crew\", \"explode\", \"board\", \"policy\", \"gem\", \"global\", \"reunion\", \"leave\", \"room\", \"bush\", \"brother\", \"traffic\", \"p\", \"appears\", \"projected\", \"sitting\", \"terror\", \"film\", \"percent\", \"wedding\", \"content\", \"friend\", \"mh370\", \"found\", \"without\", \"military\", \"breaking\", \"person\", \"island\", \"love\", \"here\", \"family\", \"said\", \"fire\", \"read\", \"full\", \"may\", \"amp\", \"whole\", \"im\", \"photo\"], \"Freq\": [436.0, 426.0, 211.0, 206.0, 303.0, 233.0, 201.0, 348.0, 142.0, 144.0, 140.0, 149.0, 138.0, 127.0, 125.0, 122.0, 117.0, 119.0, 116.0, 212.0, 150.0, 110.0, 142.0, 109.0, 137.0, 115.0, 165.0, 99.0, 98.0, 152.0, 210.39233294833747, 125.26920736868551, 115.46702886153378, 65.77423586963263, 61.820014596639005, 60.77124555854038, 58.297291036198544, 57.556540670646896, 55.53806310260501, 53.7932909746324, 53.2531505739108, 51.098325312582766, 48.1918201445612, 47.43294122450001, 43.21399064723106, 41.66361093779811, 36.03384669880316, 33.683121085294914, 33.34675897758967, 31.690392734821167, 30.368525718072434, 26.572175330216943, 26.052347962912272, 25.929443033502245, 23.860834414067636, 23.526118407698277, 23.459995636670538, 22.59159023163107, 21.312290776055903, 21.222758109474267, 179.2327924100286, 41.34144198748679, 106.1854376440111, 29.188745118369834, 30.943269979872277, 76.41804145314556, 55.85360000353991, 30.609182874736884, 30.968080609992747, 54.816303648557955, 52.58203672681154, 32.9515636358868, 48.17567358181933, 47.749607289014094, 37.36061390433325, 43.16885745488709, 205.9255185540009, 127.25553441623019, 109.24848525542717, 53.25820356949729, 51.098577292498575, 36.54926722586221, 35.5802336538907, 32.073802302349286, 31.789749352223748, 29.120426203401458, 27.149133812395295, 25.130400715661114, 23.52843678097927, 22.488761987812325, 21.542827920250136, 20.566779007109098, 20.54543857332139, 20.47358768311305, 20.079173992798143, 19.749241080976514, 19.56305922325845, 19.269947305800034, 18.87174446896406, 18.851310671014947, 18.786781850676963, 17.525437058658838, 17.43773728706556, 17.15705342528044, 17.032684175911104, 15.78090463835855, 49.13186242700356, 42.460126385559306, 25.218477430959023, 37.41589036702243, 56.188578711409555, 54.176630601358745, 30.483496521983238, 29.12317074776067, 25.01429959095023, 33.931573046152735, 61.210355783466554, 55.82725476551888, 50.593847208312496, 38.53207487749222, 25.46062803776185, 38.1219872273808, 42.18337086846069, 57.706503909433295, 32.43321935655771, 55.06466562315264, 38.84069076052741, 40.14413499061576, 32.179252919641065, 29.158615774417765, 139.38960816433175, 117.02875848239003, 109.85495366544993, 57.22131477295034, 53.56550559343851, 50.37408620415287, 50.25901740756026, 47.62431185960246, 45.587293387508865, 43.166939551882194, 42.84634138879673, 35.08282883843006, 35.04142592903021, 33.68919242985641, 30.327663828041644, 29.20596957464284, 28.75891856627192, 28.555210647569925, 25.23540020573419, 23.69730430582984, 23.239985469335338, 23.094255634929983, 22.044718736322793, 21.453897117516426, 21.208809641309337, 20.461691455721176, 20.451612777945105, 19.847557640381325, 18.736006282469166, 17.676277449396345, 53.074429257886806, 73.2535067425303, 43.60553483916248, 26.678958294914153, 67.03385100450393, 35.974798827180805, 74.98445660045473, 79.2317085591734, 50.870337319582184, 41.48658390913302, 32.785238248717626, 38.84935168616277, 45.831063816851795, 40.59757727582662, 38.00325182427842, 34.468358755805745, 37.30556025912778, 33.427618515952595, 141.605770961756, 86.96366767609246, 83.57150224503339, 56.01960799909014, 55.14670895326932, 49.30156580510269, 47.76861054245516, 45.64222972681982, 42.250041796043114, 40.00637895220267, 39.218695336996895, 36.82798558847653, 35.88581666193686, 34.805681716759466, 33.11370969964399, 32.65074650945872, 32.48303361412032, 29.701200023888795, 25.353118338807935, 25.057598047349305, 24.848051426990427, 22.403106109082724, 22.03098102895242, 21.871269033209188, 21.52815958895605, 20.364618190462398, 20.326447419474796, 19.966852432101934, 19.60076852615977, 19.466305713559645, 57.06400439275753, 173.2666536432076, 50.79475506678146, 41.695504755035834, 37.54263287022939, 52.920609389023866, 31.746154361360777, 51.47614551588075, 28.34032260180312, 44.41697160282131, 67.00973908180677, 61.7991374706555, 60.773546340997214, 40.49698079554512, 43.32666678526762, 34.85269037683869, 38.89590088780695, 36.517820230801675, 141.40540591200624, 94.42118367137702, 82.48488502639103, 61.13074983836408, 57.30922988341897, 56.750043156724, 51.66357131255045, 47.27433379916617, 47.027631795207036, 46.374119460213855, 44.94407204927472, 44.67726702363928, 44.047464626664876, 41.93028383267625, 41.764512014151336, 40.265209436465454, 40.043016270855325, 39.87790097438397, 38.87740486922581, 37.029287378538804, 36.1280289322242, 35.21297956783261, 34.62313800717876, 33.04249392903714, 32.73436558607241, 30.463811748486112, 29.106687722394206, 28.65935297436111, 27.793600110792713, 26.442297774236025, 270.7849414231884, 352.5454453273705, 127.10967774517074, 53.801052875821874, 115.94363766710055, 136.94638722324194, 166.83530515264917, 74.18568691853272, 248.98689054324467, 49.29560700400463, 81.21763926492724, 113.78388576838564, 75.15093253535704, 86.4490917442788, 80.48668501227843, 80.80606321657667, 78.10733044159848, 87.31357309073744, 77.3711319224254, 52.352484424058396, 92.04997630208467, 69.92746114940363, 68.377657787971, 100.3484229690383, 89.11158924784283, 71.10598151478514, 63.74235106296837, 65.35013006767325, 61.55348280667311, 137.86976329968746, 85.81840194758763, 72.46448863014075, 65.35473108991333, 55.255351336475925, 46.59633279356937, 44.19445859416988, 36.51395821281893, 36.141765510891574, 34.93813271941295, 33.93431711921307, 32.79157977417998, 31.53425372704088, 29.098220419067484, 27.292232606470318, 99.2645740978475, 23.578964631388555, 23.284798227848867, 22.486883720830217, 21.85012592727574, 21.256989094790224, 21.11101392237193, 20.386353749369285, 20.168316913417556, 20.06108301262072, 20.049378170153606, 19.887493029986103, 19.887845701365357, 19.324021631482104, 18.39758982653895, 109.89797270107633, 79.3178091922018, 62.77398196695592, 328.61634929931665, 53.31118046527992, 30.571522418862088, 38.552673227365496, 38.478030009335924, 72.54175828811474, 76.40267117429039, 88.13583507682115, 48.54295056291671, 47.49033806824178, 71.39999046876424, 33.961197090519164, 52.227461072513364, 34.93206677168977, 39.18700207694795, 34.41471965982675, 121.38695240733217, 49.739631499393454, 49.38002868805298, 43.599345308337625, 36.606210795597555, 36.46802690738445, 35.63175694140594, 34.5834751327061, 30.586310185300196, 29.852404839834836, 29.7587770220558, 27.934728823943665, 27.347962183616403, 26.054514140083686, 24.711164039840778, 24.171168401354826, 23.50338165752054, 22.270884815435295, 21.549798240533107, 21.515052808688182, 20.03641794511076, 19.639523110632002, 19.463291107512283, 19.048734804273156, 19.006449328443995, 17.879903904171698, 17.764660211297898, 17.474218923061056, 17.41147838173852, 17.260053610379916, 41.411665674953724, 52.55760407438182, 62.72978904818896, 40.024742887435565, 26.87388104837007, 38.82061572176225, 28.971455880527397, 61.22260128350728, 43.35036846376433, 45.782070917129, 37.45651716458825, 31.999744890008085, 33.89869023988366, 51.460394314930994, 45.95156535403087, 57.18588763415761, 53.18023404910719, 34.85804777100749, 32.04346369317722, 32.498570635918156, 30.916578491469153, 143.78345821740317, 94.02930563637513, 79.14003129907951, 56.547076754144214, 49.91194036153269, 46.91621468312186, 43.595155755744685, 40.069883046335455, 39.474187744117394, 39.08856179900225, 38.659110459036626, 35.952037687313755, 33.57399097792363, 30.01911080655992, 28.90395574790064, 27.38476841509284, 27.133390068860123, 26.45136472908322, 26.092096089011815, 25.513702880429623, 22.779178191231935, 22.410722023964286, 22.144108116135914, 21.883465258975537, 20.810287985612742, 19.50384760031619, 18.724941843163965, 18.302250637113353, 17.652977063570976, 17.24998046118417, 54.33755705579134, 33.05238289422757, 33.88591702891546, 83.5847880735616, 28.35107783479982, 32.015337454056805, 47.11819112545961, 41.32895678513637, 51.440072241634454, 37.91540190446221, 59.7982825682273, 33.89765223647327, 40.510292539319906, 52.1960188037625, 43.79819072438941, 46.479923819768196, 33.58004622954786, 38.25796507481622, 40.895884804052564, 38.041672064176595, 34.581999116900704, 33.754484147712944, 82.22910965726554, 76.73197214240346, 64.88871437373199, 55.39179021212022, 52.953203605243615, 49.82566413355685, 48.3017429749044, 47.4194730710747, 46.74912992619193, 46.45750601286315, 45.848945309174155, 38.65098455844334, 37.15857418231656, 36.869197609858624, 36.02343842190611, 32.71396264655588, 29.98989059047887, 29.507201551414145, 28.420983748901236, 27.495657720330474, 26.44728349201386, 24.574123733068284, 23.217511729664633, 20.66756858246583, 19.850032612265576, 19.144126384049837, 19.005654292966142, 18.715163194898302, 18.478500826030714, 18.30347000873588, 141.59173857096093, 68.11300609939006, 36.39058030435541, 27.387307541397043, 63.27455207687641, 51.002004191541154, 27.863204261308912, 42.065593820351346, 36.21670059197255, 30.412436398323756, 39.96205533077164, 35.34855944356683, 28.69466322835901, 118.45670629781864, 98.62013505611563, 98.17639806806301, 77.40980088639512, 75.83208431169503, 47.680339796448756, 42.56896159737833, 41.946585107697054, 40.49179962967197, 39.442499027299654, 30.507734204160705, 29.89216641282663, 27.948916848650033, 26.48271551708441, 24.97930402484061, 24.717550867329763, 24.35040213244152, 23.341041412193356, 22.700231500117912, 22.61862795398903, 21.91667900379302, 21.64587959262482, 21.45225903398398, 20.331409479515962, 20.13165244944513, 19.107553154037063, 19.092510876359203, 18.91349204668441, 17.898711496916214, 17.77552831514726, 47.22597201986248, 31.83053993104301, 106.07874238688295, 43.284551952372944, 46.81897223283557, 41.72921573239523, 34.33484688599893, 30.231643406829864, 37.00937850206623, 60.66053739765352, 26.11736739001013, 54.07290087217388, 35.18548522785131, 68.13441388268325, 32.29576897396313, 35.94767771388174, 34.11454131955513, 49.64866822625826, 29.484765690459806, 34.884615666189895, 30.51668682621174], \"Total\": [436.0, 426.0, 211.0, 206.0, 303.0, 233.0, 201.0, 348.0, 142.0, 144.0, 140.0, 149.0, 138.0, 127.0, 125.0, 122.0, 117.0, 119.0, 116.0, 212.0, 150.0, 110.0, 142.0, 109.0, 137.0, 115.0, 165.0, 99.0, 98.0, 152.0, 211.1088188951336, 125.9857696931023, 116.18357804675028, 66.49073528002909, 62.53645887105568, 61.4877503585736, 59.01371398860675, 58.273016255141336, 56.2544855561166, 54.50975940156413, 53.9696208963978, 51.81473767490259, 48.908603811467934, 48.14947375287003, 43.93042708946932, 42.38002897869016, 36.750357597374254, 34.399594150026985, 34.06317891037827, 32.40687913438335, 31.085035946057218, 27.288681707174575, 26.76879904228684, 26.645924670742176, 24.577250521476955, 24.24264704911563, 24.176429104839116, 23.30815113294478, 22.028912782908183, 21.939170289582176, 233.05144986521123, 46.586078743377826, 150.62608140052077, 32.81337742578559, 36.02997078337445, 134.40891224622382, 91.42178546870983, 35.472820950921154, 36.52441714428722, 105.5018045171925, 128.2053904750934, 44.45996262549338, 189.8315849074701, 235.0816467523684, 88.9965687159415, 230.4772135017889, 206.64128446290263, 127.97150114842532, 109.96420086548832, 53.97400667437254, 51.8142570624497, 37.26548791894373, 36.29608853331829, 32.78967179419531, 32.5056776788548, 29.836241373609344, 27.865014054049254, 25.846437726176188, 24.244231396387157, 23.204538232183975, 22.258661095654208, 21.28247427805927, 21.26118623875664, 21.189471730271425, 20.79493185201726, 20.464922078252012, 20.27886554890016, 19.985665915402848, 19.587451595406723, 19.567112561412777, 19.50257749385986, 18.241133088864775, 18.153584256634808, 17.87328478903782, 17.74837903944268, 16.496597654810497, 55.13096141052509, 48.22274242827784, 27.28411739868718, 42.38732811260479, 71.39958618784982, 71.21679691519861, 35.745106333236784, 35.98140168298878, 29.34792168404741, 48.362029869956274, 124.531316505094, 118.01119920374143, 99.7688503018276, 69.3820800006474, 32.090409137103094, 81.1571183059228, 105.5018045171925, 270.9399925933121, 63.84556692954172, 334.0996986563656, 116.71379345226849, 281.27863143275255, 117.63924161125318, 426.70312902447864, 140.10806071043314, 117.74707087293483, 110.57323330959025, 57.93959153063147, 54.28385219074314, 51.09233579391538, 50.97726336687807, 48.34258063402203, 46.305591253551675, 43.88518358839441, 43.564553096889426, 35.80107541189246, 35.75978989705446, 34.40764170368841, 31.04595157734906, 29.92432091925958, 29.477112236347196, 29.273513147019216, 25.95360785409478, 24.415617808040867, 23.95828474504184, 23.812631419699095, 22.762928344926777, 22.172227334225962, 21.92712842205721, 21.179914661877618, 21.16984926495161, 20.565816369603994, 19.454367881956227, 18.394586561582464, 57.45542277366199, 80.71269746536183, 53.197188415966465, 29.4046009245811, 93.1077390114444, 43.78237246285385, 128.2053904750934, 160.74702619972072, 84.33240738430935, 61.61285355003079, 52.36413226307695, 84.07501973568576, 149.9937051049627, 105.69524622281945, 117.77850584563532, 79.10943504804649, 214.61541689587696, 111.90439255904948, 142.32706771261957, 87.68507537522544, 84.2927586583079, 56.74092607790033, 55.86794898006734, 50.022785785817646, 48.49006562098196, 46.363513351341894, 42.97128290505935, 40.72768333606814, 39.94002747993071, 37.54929705613739, 36.60708100681829, 35.52692568731477, 33.83493842325772, 33.37201587823518, 33.20425681634524, 30.422600582463293, 26.07434600043986, 25.77884234520397, 25.5693557296839, 23.12450479163528, 22.752279398011076, 22.592482299778464, 22.249384913707953, 21.08584373031604, 21.047759476454814, 20.688260461109525, 20.321992729368013, 20.187623789602036, 61.76550775414615, 201.23881853443532, 55.47241342486071, 46.71482968364641, 41.9621058743211, 63.48061256398081, 35.49420473629222, 70.53105898998429, 32.53565038397558, 70.88342616676815, 152.50579378607335, 230.4772135017889, 235.0816467523684, 89.68086459406084, 131.32627841255925, 78.72462489420217, 436.2111462143594, 281.27863143275255, 142.11717920527687, 95.13298945920677, 83.196669302204, 61.84247877076293, 58.02100603824741, 57.4618285869365, 52.37534337767134, 47.986074123497296, 47.739504651059455, 47.08609792211718, 45.655862393318884, 45.38907018168535, 44.75935194508093, 42.64226686217569, 42.47624703761231, 40.976961901684994, 40.75482381111678, 40.58966255468825, 39.589149230957005, 37.74104044410497, 36.83983512247676, 35.924749950562656, 35.33496939189573, 33.75420098851496, 33.44614969937024, 31.175613571265508, 29.81846110665735, 29.37112436260654, 28.505337075911445, 27.15405585747655, 303.91703519339984, 426.70312902447864, 145.28239813029984, 57.64969412130262, 133.90293578888247, 165.73910372119803, 212.41317400212057, 84.59271083553985, 348.9153844772385, 53.16132939450253, 97.92697179048085, 157.47589005404865, 92.17132716545446, 114.03454792889067, 107.45576334067961, 109.4072822333228, 105.97538218565256, 125.81655524183243, 114.68292085159064, 59.56086945282541, 173.14018757474727, 116.09042478721882, 112.0395058165928, 334.0996986563656, 281.27863143275255, 149.9937051049627, 111.90439255904948, 235.8998583587968, 130.3707760052193, 138.58528930372543, 86.53390095757048, 73.1799532448097, 66.07031221243004, 55.97090253941536, 47.31199363109709, 44.90994436299498, 37.22942702983852, 36.85745700750769, 35.653731038748035, 34.64987651954504, 33.50704869359748, 32.24987678376891, 29.81374724107279, 28.00773407814244, 101.98389892040045, 24.294640524441437, 24.000265223496523, 23.20239293730452, 22.56558411371508, 21.972571385452998, 21.826499212339296, 21.10188538248885, 20.88399913767415, 20.776628521521477, 20.764912900669803, 20.60294451430798, 20.60337915557587, 20.039570141891897, 19.113136614310324, 115.92657817686971, 87.28117190443254, 69.71357903137186, 436.2111462143594, 60.811034566478355, 33.23202905722656, 46.80979803899392, 48.4012500352199, 119.61940055126682, 152.50579378607335, 189.8315849074701, 89.68086459406084, 92.9077294545526, 270.9399925933121, 55.27758292013004, 281.27863143275255, 91.42178546870983, 230.4772135017889, 117.77850584563532, 122.10476233411198, 50.45730941099883, 50.097660095505596, 44.31713661869408, 37.3242468214461, 37.18564041840731, 36.3494479817328, 35.30119487673417, 31.303892545967607, 30.570030510866005, 30.476454566228394, 28.652467277159104, 28.06549720059322, 26.772247346581068, 25.42882857709972, 24.888866268593382, 24.221002629860294, 22.98841514429032, 22.267500879717595, 22.23264862705281, 20.754042983087285, 20.357294586978732, 20.180889106386147, 19.76637734755027, 19.72397691458831, 18.597427803798436, 18.48218112255988, 18.191784569438582, 18.129086823633017, 17.977577663977016, 45.9623848794548, 61.94818733157091, 89.34239559914123, 52.86048189423996, 31.542523504709884, 53.063786310278, 36.06211681168717, 115.63060824948876, 76.11937685151013, 83.86914939770129, 60.93276560156855, 45.96534244799197, 56.0811522138004, 137.21652315391694, 137.85172651257437, 270.9399925933121, 233.05144986521123, 92.0157102988524, 144.91367476571014, 303.91703519339984, 162.58280126216897, 144.49695121446894, 94.7427044803173, 79.8534421406122, 57.26047962448491, 50.62542320488442, 47.62963539252675, 44.30863273214557, 40.78392838333747, 40.18765529160448, 39.80212514074132, 39.37250403673391, 36.66547409552112, 34.28740773425434, 30.732776031574982, 29.61740993993093, 28.098285159454694, 27.84689141552524, 27.16482389492811, 26.80579038448876, 26.227135365827312, 23.492609966895913, 23.124169436189742, 22.857523284372576, 22.59690322589018, 21.52380772379678, 20.217295419054572, 19.438462359433554, 19.015713646883558, 18.3664666200921, 17.96351929271737, 62.59515658123308, 38.16813239762403, 40.78973094279118, 145.16106402894832, 34.75895228948326, 41.79957706815722, 78.20384235818126, 63.61511467640486, 101.77640111246617, 61.698424484573565, 214.61541689587696, 62.70455456154112, 124.531316505094, 348.9153844772385, 178.4991847776854, 235.8998583587968, 67.87071950589511, 160.74702619972072, 426.70312902447864, 212.41317400212057, 128.7904576590683, 162.58280126216897, 82.94239299780706, 77.44533465210573, 65.60212630418661, 56.10526490096202, 53.66672177040291, 50.53893747669826, 49.01504795038668, 48.13294805332758, 47.462399418456414, 47.17091835590593, 46.56248541271068, 39.364480570264234, 37.87205155797137, 37.582640989861595, 36.736729742181296, 33.42735076556845, 30.703246866123635, 30.2204768633928, 29.13434827442719, 28.209079813515803, 27.16067772212119, 25.287441935479084, 23.930806657226714, 21.380880178202055, 20.563303890550074, 19.857554175641532, 19.71894956602513, 19.428536402644134, 19.191987259953937, 19.016844505050067, 149.10410683709512, 73.81940439641878, 41.879066084948626, 31.81571058966419, 113.28845626902012, 88.9965687159415, 35.70769245146178, 79.10943504804649, 60.385708947668554, 53.147308849469866, 235.8998583587968, 230.4772135017889, 235.0816467523684, 119.17626167667312, 99.33979134106538, 98.89578003210806, 78.1291818549844, 76.55151983174015, 48.39989781188022, 43.2884627258978, 42.66605483867321, 41.211357405071894, 40.16186256650331, 31.227214140100426, 30.611605476317486, 28.668391952255504, 27.202248460946933, 25.698988515042632, 25.437019120069916, 25.069761383893038, 24.060484567766586, 23.41966906673284, 23.33802173021875, 22.63616596700808, 22.365303005289604, 22.171700309567495, 21.050904413844535, 20.85111400997467, 19.82698844279538, 19.81211800846485, 19.633005684149875, 18.618165859561937, 18.495066345779883, 53.492642231201344, 35.340387730340936, 137.8138441205227, 50.17124347386357, 62.53385889181125, 56.13166616754175, 43.2741425448947, 37.69259044789008, 54.72178288267258, 129.39571774233664, 32.18978637468346, 173.14018757474727, 64.21852731995494, 436.2111462143594, 64.51655389651907, 94.73595243831346, 79.35350459220672, 334.0996986563656, 47.95908030064033, 348.9153844772385, 73.69377831029522], \"Category\": [\"Default\", \"Default\", \"Default\", \"Default\", \"Default\", \"Default\", \"Default\", \"Default\", \"Default\", \"Default\", \"Default\", \"Default\", \"Default\", \"Default\", \"Default\", \"Default\", \"Default\", \"Default\", \"Default\", \"Default\", \"Default\", \"Default\", \"Default\", \"Default\", \"Default\", \"Default\", \"Default\", \"Default\", \"Default\", \"Default\", \"Topic1\", \"Topic1\", \"Topic1\", \"Topic1\", \"Topic1\", \"Topic1\", \"Topic1\", \"Topic1\", \"Topic1\", \"Topic1\", \"Topic1\", \"Topic1\", \"Topic1\", \"Topic1\", \"Topic1\", \"Topic1\", \"Topic1\", \"Topic1\", \"Topic1\", \"Topic1\", \"Topic1\", \"Topic1\", \"Topic1\", \"Topic1\", \"Topic1\", \"Topic1\", \"Topic1\", \"Topic1\", \"Topic1\", \"Topic1\", \"Topic1\", \"Topic1\", \"Topic1\", \"Topic1\", \"Topic1\", \"Topic1\", \"Topic1\", \"Topic1\", \"Topic1\", \"Topic1\", \"Topic1\", \"Topic1\", \"Topic1\", \"Topic1\", \"Topic1\", \"Topic1\", \"Topic2\", \"Topic2\", \"Topic2\", \"Topic2\", \"Topic2\", \"Topic2\", \"Topic2\", \"Topic2\", \"Topic2\", \"Topic2\", \"Topic2\", \"Topic2\", \"Topic2\", \"Topic2\", \"Topic2\", \"Topic2\", \"Topic2\", \"Topic2\", \"Topic2\", \"Topic2\", \"Topic2\", \"Topic2\", \"Topic2\", \"Topic2\", \"Topic2\", \"Topic2\", \"Topic2\", \"Topic2\", \"Topic2\", \"Topic2\", \"Topic2\", \"Topic2\", \"Topic2\", \"Topic2\", \"Topic2\", \"Topic2\", \"Topic2\", \"Topic2\", \"Topic2\", \"Topic2\", \"Topic2\", \"Topic2\", \"Topic2\", \"Topic2\", \"Topic2\", \"Topic2\", \"Topic2\", \"Topic2\", \"Topic2\", \"Topic2\", \"Topic2\", \"Topic2\", \"Topic2\", \"Topic2\", \"Topic3\", \"Topic3\", \"Topic3\", \"Topic3\", \"Topic3\", \"Topic3\", \"Topic3\", \"Topic3\", \"Topic3\", \"Topic3\", \"Topic3\", \"Topic3\", \"Topic3\", \"Topic3\", \"Topic3\", \"Topic3\", \"Topic3\", \"Topic3\", \"Topic3\", \"Topic3\", \"Topic3\", \"Topic3\", \"Topic3\", \"Topic3\", \"Topic3\", \"Topic3\", \"Topic3\", \"Topic3\", \"Topic3\", \"Topic3\", \"Topic3\", \"Topic3\", \"Topic3\", \"Topic3\", \"Topic3\", \"Topic3\", \"Topic3\", \"Topic3\", \"Topic3\", \"Topic3\", \"Topic3\", \"Topic3\", \"Topic3\", \"Topic3\", \"Topic3\", \"Topic3\", \"Topic3\", \"Topic3\", \"Topic4\", \"Topic4\", \"Topic4\", \"Topic4\", \"Topic4\", \"Topic4\", \"Topic4\", \"Topic4\", \"Topic4\", \"Topic4\", \"Topic4\", \"Topic4\", \"Topic4\", \"Topic4\", \"Topic4\", \"Topic4\", \"Topic4\", \"Topic4\", \"Topic4\", \"Topic4\", \"Topic4\", \"Topic4\", \"Topic4\", \"Topic4\", \"Topic4\", \"Topic4\", \"Topic4\", \"Topic4\", \"Topic4\", \"Topic4\", \"Topic4\", \"Topic4\", \"Topic4\", \"Topic4\", \"Topic4\", \"Topic4\", \"Topic4\", \"Topic4\", \"Topic4\", \"Topic4\", \"Topic4\", \"Topic4\", \"Topic4\", \"Topic4\", \"Topic4\", \"Topic4\", \"Topic4\", \"Topic4\", \"Topic5\", \"Topic5\", \"Topic5\", \"Topic5\", \"Topic5\", \"Topic5\", \"Topic5\", \"Topic5\", \"Topic5\", \"Topic5\", \"Topic5\", \"Topic5\", \"Topic5\", \"Topic5\", \"Topic5\", \"Topic5\", \"Topic5\", \"Topic5\", \"Topic5\", \"Topic5\", \"Topic5\", \"Topic5\", \"Topic5\", \"Topic5\", \"Topic5\", \"Topic5\", \"Topic5\", \"Topic5\", \"Topic5\", \"Topic5\", \"Topic5\", \"Topic5\", \"Topic5\", \"Topic5\", \"Topic5\", \"Topic5\", \"Topic5\", \"Topic5\", \"Topic5\", \"Topic5\", \"Topic5\", \"Topic5\", \"Topic5\", \"Topic5\", \"Topic5\", \"Topic5\", \"Topic5\", \"Topic5\", \"Topic5\", \"Topic5\", \"Topic5\", \"Topic5\", \"Topic5\", \"Topic5\", \"Topic5\", \"Topic5\", \"Topic5\", \"Topic5\", \"Topic5\", \"Topic6\", \"Topic6\", \"Topic6\", \"Topic6\", \"Topic6\", \"Topic6\", \"Topic6\", \"Topic6\", \"Topic6\", \"Topic6\", \"Topic6\", \"Topic6\", \"Topic6\", \"Topic6\", \"Topic6\", \"Topic6\", \"Topic6\", \"Topic6\", \"Topic6\", \"Topic6\", \"Topic6\", \"Topic6\", \"Topic6\", \"Topic6\", \"Topic6\", \"Topic6\", \"Topic6\", \"Topic6\", \"Topic6\", \"Topic6\", \"Topic6\", \"Topic6\", \"Topic6\", \"Topic6\", \"Topic6\", \"Topic6\", \"Topic6\", \"Topic6\", \"Topic6\", \"Topic6\", \"Topic6\", \"Topic6\", \"Topic6\", \"Topic6\", \"Topic6\", \"Topic6\", \"Topic6\", \"Topic6\", \"Topic6\", \"Topic7\", \"Topic7\", \"Topic7\", \"Topic7\", \"Topic7\", \"Topic7\", \"Topic7\", \"Topic7\", \"Topic7\", \"Topic7\", \"Topic7\", \"Topic7\", \"Topic7\", \"Topic7\", \"Topic7\", \"Topic7\", \"Topic7\", \"Topic7\", \"Topic7\", \"Topic7\", \"Topic7\", \"Topic7\", \"Topic7\", \"Topic7\", \"Topic7\", \"Topic7\", \"Topic7\", \"Topic7\", \"Topic7\", \"Topic7\", \"Topic7\", \"Topic7\", \"Topic7\", \"Topic7\", \"Topic7\", \"Topic7\", \"Topic7\", \"Topic7\", \"Topic7\", \"Topic7\", \"Topic7\", \"Topic7\", \"Topic7\", \"Topic7\", \"Topic7\", \"Topic7\", \"Topic7\", \"Topic7\", \"Topic7\", \"Topic7\", \"Topic7\", \"Topic8\", \"Topic8\", \"Topic8\", \"Topic8\", \"Topic8\", \"Topic8\", \"Topic8\", \"Topic8\", \"Topic8\", \"Topic8\", \"Topic8\", \"Topic8\", \"Topic8\", \"Topic8\", \"Topic8\", \"Topic8\", \"Topic8\", \"Topic8\", \"Topic8\", \"Topic8\", \"Topic8\", \"Topic8\", \"Topic8\", \"Topic8\", \"Topic8\", \"Topic8\", \"Topic8\", \"Topic8\", \"Topic8\", \"Topic8\", \"Topic8\", \"Topic8\", \"Topic8\", \"Topic8\", \"Topic8\", \"Topic8\", \"Topic8\", \"Topic8\", \"Topic8\", \"Topic8\", \"Topic8\", \"Topic8\", \"Topic8\", \"Topic8\", \"Topic8\", \"Topic8\", \"Topic8\", \"Topic8\", \"Topic8\", \"Topic8\", \"Topic8\", \"Topic8\", \"Topic9\", \"Topic9\", \"Topic9\", \"Topic9\", \"Topic9\", \"Topic9\", \"Topic9\", \"Topic9\", \"Topic9\", \"Topic9\", \"Topic9\", \"Topic9\", \"Topic9\", \"Topic9\", \"Topic9\", \"Topic9\", \"Topic9\", \"Topic9\", \"Topic9\", \"Topic9\", \"Topic9\", \"Topic9\", \"Topic9\", \"Topic9\", \"Topic9\", \"Topic9\", \"Topic9\", \"Topic9\", \"Topic9\", \"Topic9\", \"Topic9\", \"Topic9\", \"Topic9\", \"Topic9\", \"Topic9\", \"Topic9\", \"Topic9\", \"Topic9\", \"Topic9\", \"Topic9\", \"Topic9\", \"Topic9\", \"Topic9\", \"Topic10\", \"Topic10\", \"Topic10\", \"Topic10\", \"Topic10\", \"Topic10\", \"Topic10\", \"Topic10\", \"Topic10\", \"Topic10\", \"Topic10\", \"Topic10\", \"Topic10\", \"Topic10\", \"Topic10\", \"Topic10\", \"Topic10\", \"Topic10\", \"Topic10\", \"Topic10\", \"Topic10\", \"Topic10\", \"Topic10\", \"Topic10\", \"Topic10\", \"Topic10\", \"Topic10\", \"Topic10\", \"Topic10\", \"Topic10\", \"Topic10\", \"Topic10\", \"Topic10\", \"Topic10\", \"Topic10\", \"Topic10\", \"Topic10\", \"Topic10\", \"Topic10\", \"Topic10\", \"Topic10\", \"Topic10\", \"Topic10\", \"Topic10\", \"Topic10\", \"Topic10\", \"Topic10\", \"Topic10\", \"Topic10\", \"Topic10\", \"Topic10\"], \"logprob\": [30.0, 29.0, 28.0, 27.0, 26.0, 25.0, 24.0, 23.0, 22.0, 21.0, 20.0, 19.0, 18.0, 17.0, 16.0, 15.0, 14.0, 13.0, 12.0, 11.0, 10.0, 9.0, 8.0, 7.0, 6.0, 5.0, 4.0, 3.0, 2.0, 1.0, -3.8843, -4.4028, -4.4842, -5.047, -5.109, -5.1261, -5.1677, -5.1805, -5.2162, -5.2481, -5.2582, -5.2995, -5.358, -5.3739, -5.4671, -5.5036, -5.6488, -5.7162, -5.7263, -5.7772, -5.8198, -5.9534, -5.9731, -5.9778, -6.061, -6.0751, -6.0779, -6.1156, -6.1739, -6.1782, -4.0445, -5.5114, -4.568, -5.8594, -5.8011, -4.897, -5.2105, -5.8119, -5.8003, -5.2292, -5.2708, -5.7382, -5.3584, -5.3673, -5.6126, -5.4681, -3.9393, -4.4207, -4.5732, -5.2917, -5.3331, -5.6682, -5.6951, -5.7988, -5.8077, -5.8954, -5.9655, -6.0428, -6.1086, -6.1538, -6.1968, -6.2432, -6.2442, -6.2477, -6.2672, -6.2837, -6.2932, -6.3083, -6.3292, -6.3303, -6.3337, -6.4032, -6.4082, -6.4244, -6.4317, -6.5081, -5.3723, -5.5183, -6.0393, -5.6448, -5.2381, -5.2746, -5.8497, -5.8953, -6.0474, -5.7425, -5.1525, -5.2446, -5.343, -5.6154, -6.0297, -5.6261, -5.5248, -5.2115, -5.7877, -5.2583, -5.6074, -5.5744, -5.7955, -5.8941, -4.276, -4.4509, -4.5141, -5.1664, -5.2324, -5.2938, -5.2961, -5.3499, -5.3937, -5.4482, -5.4557, -5.6556, -5.6568, -5.6961, -5.8012, -5.8389, -5.8543, -5.8615, -5.985, -6.0479, -6.0674, -6.0737, -6.1202, -6.1474, -6.1589, -6.1947, -6.1952, -6.2252, -6.2828, -6.3411, -5.2416, -4.9194, -5.4381, -5.9294, -5.0081, -5.6305, -4.896, -4.8409, -5.284, -5.4879, -5.7233, -5.5536, -5.3883, -5.5096, -5.5756, -5.6733, -5.5941, -5.7039, -4.2231, -4.7106, -4.7504, -5.1504, -5.1661, -5.2782, -5.3097, -5.3553, -5.4325, -5.4871, -5.507, -5.5699, -5.5958, -5.6263, -5.6762, -5.6902, -5.6954, -5.7849, -5.9432, -5.9549, -5.9633, -6.0669, -6.0837, -6.0909, -6.1068, -6.1623, -6.1642, -6.182, -6.2005, -6.2074, -5.1319, -4.0213, -5.2483, -5.4457, -5.5506, -5.2073, -5.7183, -5.235, -5.8318, -5.3825, -4.9713, -5.0522, -5.069, -5.4749, -5.4073, -5.625, -5.5152, -5.5783, -4.7885, -5.1924, -5.3276, -5.6272, -5.6917, -5.7015, -5.7954, -5.8842, -5.8894, -5.9034, -5.9347, -5.9407, -5.9549, -6.0042, -6.0081, -6.0447, -6.0502, -6.0543, -6.0798, -6.1285, -6.1531, -6.1788, -6.1956, -6.2424, -6.2517, -6.3236, -6.3692, -6.3847, -6.4154, -6.4652, -4.1388, -3.875, -4.8951, -5.7549, -4.9871, -4.8206, -4.6232, -5.4336, -4.2228, -5.8423, -5.343, -5.0059, -5.4207, -5.2806, -5.3521, -5.3481, -5.3821, -5.2707, -5.3916, -5.7822, -5.2178, -5.4927, -5.5151, -5.1315, -5.2503, -5.476, -5.5853, -5.5604, -5.6203, -4.3808, -4.8549, -5.024, -5.1273, -5.2951, -5.4656, -5.5185, -5.7094, -5.7197, -5.7535, -5.7827, -5.8169, -5.856, -5.9364, -6.0005, -4.7093, -6.1468, -6.1593, -6.1942, -6.2229, -6.2504, -6.2573, -6.2922, -6.303, -6.3083, -6.3089, -6.317, -6.317, -6.3458, -6.3949, -4.6076, -4.9336, -5.1676, -3.5122, -5.331, -5.887, -5.6551, -5.657, -5.0229, -4.9711, -4.8282, -5.4247, -5.4466, -5.0388, -5.7819, -5.3515, -5.7537, -5.6388, -5.7686, -4.4075, -5.2997, -5.3069, -5.4314, -5.6062, -5.61, -5.6332, -5.6631, -5.7859, -5.8102, -5.8133, -5.8766, -5.8978, -5.9463, -5.9992, -6.0213, -6.0493, -6.1032, -6.1361, -6.1377, -6.2089, -6.2289, -6.2379, -6.2595, -6.2617, -6.3228, -6.3293, -6.3457, -6.3493, -6.3581, -5.4829, -5.2446, -5.0676, -5.517, -5.9153, -5.5475, -5.8402, -5.0919, -5.4371, -5.3826, -5.5833, -5.7407, -5.6831, -5.2657, -5.3789, -5.1602, -5.2328, -5.6552, -5.7394, -5.7253, -5.7752, -4.2747, -4.6995, -4.8718, -5.208, -5.3328, -5.3947, -5.4681, -5.5524, -5.5674, -5.5772, -5.5883, -5.6609, -5.7293, -5.8412, -5.8791, -5.9331, -5.9423, -5.9677, -5.9814, -6.0038, -6.1172, -6.1335, -6.1455, -6.1573, -6.2076, -6.2724, -6.3132, -6.336, -6.3722, -6.3952, -5.2478, -5.745, -5.7201, -4.8172, -5.8984, -5.7768, -5.3904, -5.5215, -5.3026, -5.6077, -5.1521, -5.7197, -5.5415, -5.2881, -5.4635, -5.404, -5.7291, -5.5987, -5.532, -5.6044, -5.6997, -5.7239, -4.7826, -4.8518, -5.0194, -5.1777, -5.2227, -5.2836, -5.3146, -5.3331, -5.3473, -5.3536, -5.3667, -5.5375, -5.5769, -5.5847, -5.6079, -5.7043, -5.7912, -5.8075, -5.845, -5.8781, -5.9169, -5.9904, -6.0472, -6.1635, -6.2039, -6.2401, -6.2474, -6.2628, -6.2755, -6.285, -4.2391, -4.9709, -5.5978, -5.882, -5.0446, -5.2602, -5.8648, -5.4529, -5.6026, -5.7772, -5.5042, -5.6268, -5.8354, -4.4665, -4.6497, -4.6542, -4.8919, -4.9125, -5.3765, -5.4899, -5.5046, -5.5399, -5.5662, -5.823, -5.8434, -5.9106, -5.9645, -6.023, -6.0335, -6.0485, -6.0908, -6.1186, -6.1222, -6.1538, -6.1662, -6.1752, -6.2288, -6.2387, -6.2909, -6.2917, -6.3011, -6.3563, -6.3632, -5.3861, -5.7806, -4.5768, -5.4732, -5.3947, -5.5098, -5.7048, -5.8321, -5.6298, -5.1357, -5.9784, -5.2507, -5.6804, -5.0195, -5.7661, -5.6589, -5.7113, -5.336, -5.8571, -5.689, -5.8227], \"loglift\": [30.0, 29.0, 28.0, 27.0, 26.0, 25.0, 24.0, 23.0, 22.0, 21.0, 20.0, 19.0, 18.0, 17.0, 16.0, 15.0, 14.0, 13.0, 12.0, 11.0, 10.0, 9.0, 8.0, 7.0, 6.0, 5.0, 4.0, 3.0, 2.0, 1.0, 2.3619, 2.3596, 2.3591, 2.3544, 2.3537, 2.3535, 2.353, 2.3529, 2.3524, 2.352, 2.3519, 2.3513, 2.3505, 2.3503, 2.3488, 2.3482, 2.3456, 2.3442, 2.344, 2.3429, 2.3419, 2.3387, 2.3381, 2.338, 2.3357, 2.3353, 2.3352, 2.334, 2.3322, 2.3321, 2.1027, 2.2458, 2.0157, 2.2482, 2.2131, 1.8006, 1.8725, 2.2178, 2.2002, 1.7105, 1.474, 2.0657, 0.994, 0.7713, 1.4973, 0.6902, 2.3282, 2.326, 2.3251, 2.3183, 2.3177, 2.3122, 2.3117, 2.3096, 2.3094, 2.3073, 2.3056, 2.3035, 2.3017, 2.3003, 2.2989, 2.2974, 2.2974, 2.2973, 2.2966, 2.296, 2.2957, 2.2952, 2.2944, 2.2944, 2.2942, 2.2916, 2.2914, 2.2907, 2.2905, 2.2873, 2.2164, 2.2044, 2.2529, 2.2069, 2.0921, 2.0582, 2.1724, 2.1202, 2.1719, 1.9773, 1.6214, 1.5831, 1.6526, 1.7435, 2.1002, 1.576, 1.4149, 0.7851, 1.6543, 0.5287, 1.2314, 0.3848, 1.0353, -0.3517, 2.3801, 2.3791, 2.3787, 2.3727, 2.3719, 2.371, 2.371, 2.3702, 2.3696, 2.3687, 2.3686, 2.3649, 2.3649, 2.3641, 2.3618, 2.3609, 2.3605, 2.3604, 2.3571, 2.3553, 2.3548, 2.3546, 2.3531, 2.3523, 2.3519, 2.3507, 2.3507, 2.3496, 2.3476, 2.3454, 2.3059, 2.2882, 2.1864, 2.2879, 2.0566, 2.1888, 1.8488, 1.6777, 1.8797, 1.9897, 1.917, 1.6132, 1.1996, 1.4283, 1.2541, 1.5544, 0.6355, 1.1769, 2.4173, 2.4141, 2.4138, 2.4096, 2.4094, 2.4078, 2.4074, 2.4067, 2.4054, 2.4045, 2.4041, 2.403, 2.4025, 2.4019, 2.4008, 2.4005, 2.4004, 2.3984, 2.3943, 2.394, 2.3938, 2.3907, 2.3902, 2.3899, 2.3894, 2.3876, 2.3875, 2.3869, 2.3862, 2.386, 2.3432, 2.2727, 2.3343, 2.3087, 2.3111, 2.2404, 2.3108, 2.1074, 2.2843, 1.955, 1.6, 1.1061, 1.0696, 1.6273, 1.3135, 1.6075, 0.0051, 0.3808, 1.8533, 1.8508, 1.8497, 1.8467, 1.846, 1.8459, 1.8446, 1.8434, 1.8433, 1.8431, 1.8426, 1.8425, 1.8423, 1.8415, 1.8414, 1.8408, 1.8407, 1.8406, 1.8402, 1.8393, 1.8388, 1.8383, 1.838, 1.837, 1.8368, 1.8352, 1.8342, 1.8338, 1.833, 1.8318, 1.7429, 1.6674, 1.7247, 1.7892, 1.7143, 1.6675, 1.6168, 1.727, 1.5209, 1.7828, 1.6712, 1.5333, 1.6542, 1.5814, 1.5693, 1.5553, 1.5532, 1.493, 1.4648, 1.7293, 1.2266, 1.3514, 1.3645, 0.6555, 0.7089, 1.1119, 1.2955, 0.5747, 1.1078, 2.2862, 2.2831, 2.2816, 2.2805, 2.2785, 2.2761, 2.2753, 2.272, 2.2718, 2.2711, 2.2705, 2.2698, 2.2689, 2.2671, 2.2655, 2.2644, 2.2615, 2.2611, 2.2601, 2.2592, 2.2583, 2.258, 2.2569, 2.2565, 2.2563, 2.2563, 2.256, 2.256, 2.255, 2.2532, 2.238, 2.1957, 2.1865, 2.0081, 2.1598, 2.2079, 2.0973, 2.0619, 1.7912, 1.6002, 1.5241, 1.6776, 1.6203, 0.9578, 1.8042, 0.6076, 1.3293, 0.5196, 1.0611, 2.3861, 2.3777, 2.3776, 2.3757, 2.3726, 2.3725, 2.3721, 2.3715, 2.3688, 2.3683, 2.3682, 2.3667, 2.3661, 2.3648, 2.3634, 2.3628, 2.3619, 2.3603, 2.3593, 2.3592, 2.3568, 2.3561, 2.3558, 2.355, 2.355, 2.3527, 2.3524, 2.3518, 2.3516, 2.3513, 2.2878, 2.2276, 2.0384, 2.1139, 2.2318, 2.0795, 2.1731, 1.7561, 1.829, 1.7867, 1.9054, 2.0299, 1.8886, 1.4113, 1.2934, 0.8364, 0.9145, 1.4213, 0.883, 0.1565, 0.7321, 2.3505, 2.3479, 2.3465, 2.3429, 2.3412, 2.3403, 2.3392, 2.3378, 2.3375, 2.3373, 2.3371, 2.3358, 2.3344, 2.3319, 2.331, 2.3297, 2.3295, 2.3288, 2.3284, 2.3279, 2.3246, 2.3241, 2.3237, 2.3233, 2.3217, 2.3195, 2.318, 2.3172, 2.3158, 2.3149, 2.214, 2.2115, 2.17, 1.8034, 2.1517, 2.0888, 1.8488, 1.9241, 1.6731, 1.8685, 1.0776, 1.7403, 1.2324, 0.4556, 0.9504, 0.731, 1.6518, 0.92, 0.0104, 0.6356, 1.0406, 0.7834, 2.3978, 2.3971, 2.3955, 2.3936, 2.393, 2.3922, 2.3917, 2.3915, 2.3913, 2.3912, 2.391, 2.3881, 2.3874, 2.3872, 2.3868, 2.3848, 2.3829, 2.3825, 2.3816, 2.3808, 2.3798, 2.3778, 2.3761, 2.3725, 2.3711, 2.3698, 2.3696, 2.369, 2.3685, 2.3682, 2.3547, 2.3259, 2.2659, 2.2565, 1.8239, 1.8497, 2.1583, 1.7748, 1.8952, 1.8482, 0.6309, 0.5315, 0.3032, 2.3514, 2.3502, 2.3502, 2.3482, 2.348, 2.3425, 2.3407, 2.3405, 2.3399, 2.3394, 2.3342, 2.3337, 2.3321, 2.3307, 2.3291, 2.3288, 2.3284, 2.3271, 2.3263, 2.3262, 2.3252, 2.3248, 2.3245, 2.3227, 2.3224, 2.3205, 2.3205, 2.3201, 2.3181, 2.3178, 2.2329, 2.2529, 2.0958, 2.2098, 2.0681, 2.061, 2.1261, 2.1369, 1.9664, 1.5999, 2.1484, 1.1937, 1.7558, 0.5008, 1.6655, 1.3885, 1.5133, 0.451, 1.871, 0.0547, 1.4758]}, \"token.table\": {\"Topic\": [9, 7, 9, 10, 9, 7, 3, 4, 5, 7, 2, 3, 4, 6, 7, 8, 9, 4, 8, 6, 9, 2, 9, 2, 1, 5, 1, 5, 2, 6, 1, 2, 3, 4, 5, 6, 8, 9, 10, 2, 4, 6, 3, 1, 2, 6, 8, 5, 10, 1, 5, 6, 9, 10, 5, 3, 1, 5, 8, 9, 6, 7, 3, 6, 8, 2, 5, 6, 7, 9, 10, 4, 5, 5, 6, 5, 7, 9, 4, 7, 9, 7, 1, 4, 7, 2, 4, 6, 7, 5, 10, 1, 5, 6, 3, 7, 9, 9, 3, 7, 9, 1, 2, 1, 10, 10, 6, 7, 2, 6, 8, 1, 10, 3, 5, 4, 6, 10, 2, 2, 3, 5, 10, 2, 5, 3, 6, 3, 4, 6, 6, 1, 3, 9, 4, 9, 7, 2, 4, 1, 1, 3, 5, 7, 8, 7, 8, 10, 3, 1, 10, 5, 7, 9, 10, 7, 1, 9, 10, 6, 5, 8, 5, 4, 1, 3, 5, 6, 1, 2, 5, 10, 10, 1, 1, 7, 5, 1, 8, 2, 5, 8, 9, 7, 2, 6, 9, 2, 6, 8, 3, 3, 6, 1, 5, 1, 3, 5, 5, 8, 4, 6, 4, 10, 1, 6, 7, 3, 2, 5, 3, 5, 7, 10, 7, 9, 1, 5, 8, 4, 5, 10, 8, 4, 6, 10, 6, 2, 3, 4, 5, 7, 1, 2, 6, 4, 6, 1, 10, 3, 10, 1, 2, 6, 7, 10, 1, 6, 3, 2, 10, 5, 7, 8, 5, 10, 1, 2, 5, 6, 7, 8, 10, 1, 5, 9, 10, 8, 3, 5, 7, 8, 5, 1, 1, 5, 9, 6, 6, 5, 6, 8, 3, 7, 8, 4, 7, 1, 5, 10, 6, 9, 4, 9, 3, 8, 9, 8, 8, 6, 9, 5, 1, 3, 4, 5, 8, 9, 10, 9, 7, 8, 9, 10, 1, 4, 3, 7, 10, 7, 3, 10, 3, 6, 8, 3, 7, 3, 10, 1, 7, 4, 8, 1, 9, 1, 3, 7, 5, 8, 1, 3, 7, 4, 7, 4, 7, 8, 8, 10, 2, 5, 2, 5, 8, 1, 2, 7, 2, 5, 8, 10, 2, 7, 1, 5, 2, 4, 7, 9, 1, 5, 4, 5, 8, 9, 2, 5, 5, 7, 10, 2, 3, 2, 5, 7, 8, 9, 10, 10, 1, 7, 8, 1, 3, 4, 8, 2, 3, 4, 10, 4, 7, 6, 1, 3, 10, 1, 1, 1, 10, 7, 9, 5, 8, 9, 2, 5, 9, 2, 6, 8, 7, 8, 10, 8, 8, 9, 8, 8, 6, 7, 8, 1, 3, 5, 10, 1, 2, 5, 6, 7, 8, 9, 10, 1, 3, 4, 5, 7, 9, 2, 4, 8, 4, 6, 1, 3, 2, 4, 6, 4, 4, 1, 3, 2, 7, 5, 1, 3, 4, 5, 6, 7, 8, 9, 10, 7, 4, 5, 10, 4, 8, 2, 3, 4, 5, 6, 8, 9, 10, 10, 4, 9, 10, 1, 3, 4, 6, 7, 10, 2, 5, 9, 6, 8, 2, 2, 7, 8, 1, 2, 6, 9, 10, 10, 5, 2, 10, 4, 3, 4, 1, 2, 4, 6, 7, 9, 10, 2, 10, 2, 2, 6, 4, 7, 9, 9, 3, 6, 2, 3, 7, 7, 2, 10, 1, 2, 1, 5, 10, 10, 2, 2, 3, 5, 10, 7, 10, 1, 2, 3, 4, 6, 7, 10, 6, 9, 8, 1, 4, 6, 9, 10, 1, 8, 6, 5, 9, 4, 9, 8, 8, 5, 1, 4, 5, 8, 10, 3, 9, 3, 1, 6, 3, 7, 2, 4, 6, 6, 1, 2, 4, 10, 1, 7, 3, 10, 6, 1, 10, 4, 5, 8, 1, 4, 1, 3, 4, 8, 8, 3, 5, 7, 8, 9, 4, 4, 6, 1, 3, 8, 5, 3, 6, 3, 7, 5, 7, 9, 7, 9, 2, 4, 10, 6, 5, 6, 9, 2, 4, 3, 5, 8, 9, 10, 8, 9, 1, 7, 5, 8, 5, 7, 8, 9, 4, 4, 5, 7, 3, 7, 1, 3, 4, 5, 6, 8, 9, 10, 6, 2, 3, 6, 8, 9, 2, 9, 10, 5, 7, 10, 5, 10, 9, 2, 5, 8, 7, 10, 9, 10, 9, 4, 9, 2, 6, 8, 2, 10, 2, 8, 9, 2, 3, 4, 5, 9, 5, 6, 7, 8, 4, 1, 2, 3, 4, 5, 6, 7, 8, 9, 8, 3, 4, 5, 6, 1, 2, 3, 4, 5, 6, 8, 9, 10, 2, 2, 3, 10, 4, 8, 2, 5, 9, 1, 3, 5, 8, 10, 3, 5, 7, 9, 10, 5, 3, 10, 4, 7, 1, 7, 6, 7, 10, 3, 2, 6, 8, 10, 6, 4, 3, 3, 7, 8, 9, 10, 8, 10, 1, 2, 6, 10, 7, 3, 5, 7, 9, 10, 2, 3, 4, 6, 7, 8, 9, 1, 2, 6, 7, 8, 9, 10, 10, 3, 4, 5, 3, 5, 7, 8, 6, 1, 2, 3, 6, 7, 8, 10, 2, 7, 2, 5], \"Freq\": [0.9378914104199547, 0.05601034014501615, 0.7841447620302261, 0.14002585036254037, 0.9799456906656724, 0.9772282341046689, 0.09924705654843535, 0.723085697710029, 0.07089075467745382, 0.09924705654843535, 0.16033054543527833, 0.16033054543527833, 0.10202852891335894, 0.10931628097859886, 0.3716753553272361, 0.08745302478287909, 0.9907408769280304, 0.9764640252087192, 0.9624839807137436, 0.9826534414246466, 0.9769737439062021, 0.9918424120812221, 0.9610649167867994, 0.9867273760386742, 0.9795823048691132, 0.9914281085704563, 0.9899909012153654, 0.9928335863124602, 0.9862484640362298, 0.9631632020645207, 0.06285548919814893, 0.1646215193284853, 0.0688417262646393, 0.08680043746411042, 0.2993118533245187, 0.06584860773139412, 0.05088301506516818, 0.05088301506516818, 0.14965592666225935, 0.9578339499184947, 0.9753231877412316, 0.9481241296828659, 0.9838141459542673, 0.21738062334761424, 0.14065805040139745, 0.038361286473108394, 0.6009934880786981, 0.9725518663176546, 0.9500779447198768, 0.14472412825211825, 0.23517670840969213, 0.6150775450715025, 0.9211670096229997, 0.06773286835463233, 0.9824028208408803, 0.9870409987763713, 0.565438695469654, 0.11903972536203242, 0.15623963953766756, 0.14879965670254053, 0.08702768601957382, 0.8920337817006316, 0.9471308264814485, 0.83315890334566, 0.17090439042987898, 0.03068172271859349, 0.47556670213819907, 0.1073860295150772, 0.14573818291331905, 0.06136344543718698, 0.17641990563191254, 0.05643199735915997, 0.9217226235329461, 0.11511068755700302, 0.8715523486458799, 0.9851184164751812, 0.9570037717656315, 0.9779429395110888, 0.4445877010787465, 0.3175626436276761, 0.2286451034119268, 0.9620353349531716, 0.9513398318776678, 0.9841554549469604, 0.9642865906786996, 0.11286136171209218, 0.6207374894165071, 0.15518437235412677, 0.08464602128406915, 0.9830347868750949, 0.9766854048399838, 0.9761269716306814, 0.3845530055159003, 0.6102689000578418, 0.24715669117698874, 0.18536751838274157, 0.5561025551482247, 0.9886379815707514, 0.4297843863927276, 0.02528143449368986, 0.530910124367487, 0.9920675198599848, 0.9742302014173209, 0.18486790331432704, 0.7856885890858899, 0.9718960371674565, 0.9707414704479046, 0.019610938796927366, 0.04582889886469159, 0.9051207525776589, 0.034371674148518695, 0.9906482911104263, 0.9855162646548971, 0.9447398396507061, 0.9742586948598045, 0.4393275713444951, 0.4983417227191288, 0.05901415137463367, 0.971017054272425, 0.13782359767677885, 0.08613974854798677, 0.6029782398359074, 0.17227949709597354, 0.9759170570796899, 0.9772030705434848, 0.9929134806307603, 0.9727056369502008, 0.604749722933783, 0.08300486393208788, 0.30830378031918354, 0.9417606520178954, 0.9712800323588532, 0.9766444284022382, 0.9726063528726557, 0.9844642769975858, 0.9821859448709522, 0.9895357214987996, 0.8518490770536982, 0.1362958523285917, 0.9867792545540335, 0.029467788385922213, 0.14733894192961106, 0.16207283612257217, 0.14733894192961106, 0.5009524025606776, 0.9681156380509611, 0.9791538172587292, 0.9855472458795195, 0.9948158040383492, 0.11216495857630869, 0.8786255088477515, 0.4347083761032367, 0.3803698290903321, 0.07607396581806643, 0.10867709402580918, 0.9632945770661068, 0.9898128628275329, 0.9872155359075409, 0.9927238421243396, 0.9848674021327826, 0.9622906035649266, 0.9735847332741469, 0.9574996875776554, 0.9697875360431432, 0.16131975748530952, 0.32263951497061905, 0.2122628387964599, 0.28867746076318546, 0.18041703342822094, 0.5111815947132926, 0.22050970752338114, 0.09020851671411047, 0.9710705009116696, 0.9910328287203095, 0.9954761730802295, 0.9913127028926464, 0.9803651294350918, 0.9947476429410351, 0.9761565297315763, 0.9844434045076454, 0.7862035901706022, 0.17889662530828074, 0.03295464150415697, 0.9344877593020352, 0.9617728080248483, 0.9812444780523688, 0.9844970716661777, 0.7582480866739976, 0.1684995748164439, 0.05616652493881463, 0.9881525822897442, 0.9658739344939912, 0.9626200891681244, 0.7037293874633953, 0.2921140853621641, 0.14104169268024125, 0.03254808292620952, 0.813702073155238, 0.8730564291239248, 0.11752682699745141, 0.9502199045163503, 0.9938374815799706, 0.9411706993364053, 0.9800204704457383, 0.8739085071043665, 0.11276238801346665, 0.9711549300817405, 0.9808294266437018, 0.8887927717263675, 0.09069313997207831, 0.10396199895664965, 0.5313613280006537, 0.046205332869622064, 0.31188599686994894, 0.11939139210644921, 0.8596180231664343, 0.9926194938593726, 0.12780541557744923, 0.8626865551477824, 0.9737752455920139, 0.9856163796911483, 0.9677580858308968, 0.9704472609066946, 0.08940624360120071, 0.7542219011485907, 0.1558878093559397, 0.9640194356554932, 0.2720180745957727, 0.22101468560906534, 0.051003388986707386, 0.2975197690891264, 0.15301016696012215, 0.5213180973699577, 0.39809745617342224, 0.07582808689017566, 0.9861089921843534, 0.9838760043906781, 0.11959041842615814, 0.8570646653874666, 0.08488871211292334, 0.9054795958711823, 0.07388958278070823, 0.16889047492733308, 0.33778094985466617, 0.04222261873183327, 0.3800035685864995, 0.8603948137061642, 0.11101868563950505, 0.9664837347213803, 0.9511402185247206, 0.9728009328214032, 0.8916907202241795, 0.10529189316300273, 0.9513855215733544, 0.9919628630293625, 0.9828195623863369, 0.06900660007530378, 0.020701980022591132, 0.23462244025603282, 0.10350990011295566, 0.22082112024097209, 0.22082112024097209, 0.13111254014307716, 0.04384636139495099, 0.754157415993157, 0.12276981190586277, 0.07015417823192158, 0.9954509702644277, 0.055836930597919596, 0.7444924079722612, 0.1582046366941055, 0.037224620398613066, 0.9921390277268085, 0.9883837539395309, 0.74224083987596, 0.24741361329198666, 0.9465292727833982, 0.947782609822948, 0.9576709838069549, 0.9849382570525258, 0.9816644424103169, 0.9695875779135232, 0.9787529541073438, 0.14709584646231622, 0.8335431299531252, 0.8990720994687273, 0.0856259142351169, 0.9894211926295188, 0.1553287723565754, 0.8077096162541922, 0.9707145536166781, 0.9572662459311216, 0.9015556268339363, 0.08452084001568153, 0.7195964665382397, 0.18258417807686678, 0.09666221192304712, 0.9699396894129624, 0.9965608186865387, 0.9922518530708101, 0.9942496903899217, 0.9905201731412123, 0.8800912441214666, 0.10732820050261788, 0.9821329553644484, 0.7136400717126978, 0.1490332679881939, 0.034392292612660136, 0.10031085345359206, 0.9571386297777605, 0.5484734295070933, 0.10731001881660522, 0.2623133793294794, 0.08346334796847073, 0.12294206363767897, 0.8605944454637529, 0.977624264001121, 0.9902921802609257, 0.9927954424294594, 0.9824488177713324, 0.31066239264260115, 0.6761475604574261, 0.9600019469156632, 0.9328350052480112, 0.06018290356438782, 0.16637958418612558, 0.8041679902329403, 0.8271113814502639, 0.16918187347846309, 0.8487472880822879, 0.13689472388423998, 0.2153131833206076, 0.765557985139938, 0.4157463656615379, 0.5730558013172549, 0.9921755473217047, 0.9691113819507037, 0.9456223923907247, 0.8662991540595565, 0.12695763464665916, 0.9757589695713801, 0.957717745606644, 0.9914678560375677, 0.2828217806646171, 0.6961766908667498, 0.834900576086634, 0.1575284105823838, 0.9465855625644625, 0.9892520035667197, 0.9559242223580443, 0.9700087787048071, 0.9863770213046307, 0.03444449814037523, 0.3857783791722026, 0.5786675687583038, 0.16675281449184534, 0.8059719367105858, 0.9780895935376417, 0.06796294197865223, 0.8272730523608358, 0.09608553865947385, 0.009374198893607204, 0.9842850769534666, 0.9414847829468297, 0.8837858908486226, 0.09142612663951269, 0.562104797083571, 0.05765177405985344, 0.15854237866459694, 0.2161941527244504, 0.11821349500716923, 0.8747798630530523, 0.9887913794167719, 0.8741595790984752, 0.0619483166290258, 0.05506517033691182, 0.987715349660005, 0.9794508273179521, 0.45596563031155046, 0.06955407920006702, 0.4714220923560098, 0.06801656669749521, 0.9182236504161855, 0.06211640322901446, 0.3261111169523259, 0.17858465928341657, 0.27175926412693824, 0.05435185282538765, 0.1087037056507753, 0.990942181437699, 0.9571920780418874, 0.705152347634224, 0.2910152545792036, 0.9687880302312494, 0.9442908679891245, 0.9921594951489721, 0.9893123938338263, 0.08821286515287023, 0.18902756818472194, 0.28984227121657363, 0.4284624878853697, 0.9485036622577794, 0.9908755788008612, 0.9767358608779485, 0.9874446677603195, 0.22494111674941372, 0.7691534959818662, 0.9953148768900864, 0.9765128112694086, 0.24941358338113126, 0.7482407501433939, 0.9612282344875273, 0.9611042506607012, 0.9366918736182159, 0.05203843742323422, 0.9902575633739115, 0.049680628948148293, 0.3312041929876553, 0.5961675473777795, 0.9162839916970492, 0.036651359667881966, 0.9800469721437218, 0.5649021547283848, 0.052549037649152065, 0.3678432635440645, 0.9867805960020944, 0.9916176884388024, 0.9886330164904583, 0.9921608266895992, 0.9774435677408009, 0.9797384660368282, 0.9909367063694612, 0.957120138181879, 0.06975755361474159, 0.07847724781658429, 0.6714164535418878, 0.17439388403685396, 0.07381708329054439, 0.2140695415425787, 0.07381708329054439, 0.26205064568143255, 0.2103786873780515, 0.07381708329054439, 0.03690854164527219, 0.05167195830338107, 0.20418437875995696, 0.13612291917330466, 0.259484314674112, 0.2424689497774489, 0.038284571017491935, 0.12336139550080734, 0.11507826722413173, 0.05753913361206586, 0.8055478705689221, 0.44602602997929863, 0.5463818867246408, 0.4133991543069819, 0.584998803264597, 0.9438649653274679, 0.04313074774251921, 0.9488764503354227, 0.9587968188954102, 0.9921870925890884, 0.9820339502058182, 0.9829773790158204, 0.7843182711544847, 0.21008525120209412, 0.9873643120357002, 0.12293352018843456, 0.06358630354574202, 0.046629955933544145, 0.27554064869821543, 0.029673608321346273, 0.012717260709148404, 0.19499799754027553, 0.16956347612197872, 0.08054265115793989, 0.9843664700172715, 0.9888524601093156, 0.9887879209952188, 0.9471533399239622, 0.9513717244210115, 0.9930344785403036, 0.046594975070461085, 0.172401407760706, 0.1118279401691066, 0.11648743767615272, 0.11648743767615272, 0.2795698504227665, 0.12580643269024494, 0.03261648254932276, 0.9667977036930059, 0.07959123966678525, 0.106121652889047, 0.7959123966678525, 0.14926633227683578, 0.040708999711864306, 0.12212699913559293, 0.09498766599435005, 0.17640566541807867, 0.4206596636892645, 0.8729023896412392, 0.094367825907161, 0.9635401691343717, 0.9481780633336604, 0.9807784974520074, 0.9772820010516393, 0.9698969651074877, 0.9909523403265055, 0.9609127335272581, 0.25285570904018273, 0.07374958180338663, 0.4635687999070016, 0.06848175453171615, 0.1369635090634323, 0.9558033424085164, 0.9866606559086638, 0.9719722949302517, 0.9591813651027222, 0.9834162956968566, 0.9724875317645906, 0.9851682723140067, 0.06199959170813394, 0.06199959170813394, 0.03099979585406697, 0.12399918341626788, 0.12399918341626788, 0.07749948963516742, 0.4959967336650715, 0.7790489642307138, 0.1869717514153713, 0.9867808053540285, 0.5012094267298833, 0.48554663214457444, 0.9773969302428019, 0.9678757831404828, 0.9803001571614883, 0.979291095432282, 0.18594561077350302, 0.7851036899325684, 0.7030308713555811, 0.28948329996994515, 0.9928439280402357, 0.990386429474571, 0.9899262058510317, 0.9573286172328571, 0.9650945893084983, 0.9928757696794098, 0.11232860364083343, 0.8271469904461372, 0.051058456200378834, 0.9706062240764044, 0.9689569848279493, 0.9506813573500595, 0.63020236512673, 0.15277633093981333, 0.21006745504224333, 0.9813532894360903, 0.9820804868959924, 0.13706320027933258, 0.1066047113283698, 0.0837608446151477, 0.32742875622285006, 0.045687733426444194, 0.13706320027933258, 0.1599070669925547, 0.9934056122527878, 0.9875766257299025, 0.9790312797262601, 0.15571830151409669, 0.03114366030281934, 0.10900281105986769, 0.14014647136268701, 0.5450140552993384, 0.9828223997424995, 0.9463624428478227, 0.9621332214434073, 0.9856346510844824, 0.9893361929710781, 0.9667318350712308, 0.9751771134267236, 0.9876460646589897, 0.9913396807291711, 0.9769337878897154, 0.02384423889394913, 0.11127311483842926, 0.6914829279245247, 0.04768847778789826, 0.11127311483842926, 0.822248726483321, 0.1598816968162013, 0.99065663401432, 0.6125454640039453, 0.38284091500246575, 0.92245426874303, 0.06961919009381358, 0.04303322310636164, 0.05737763080848218, 0.9036976852335944, 0.9583227429288051, 0.11089600256719792, 0.4682275663948357, 0.1601831148192859, 0.24643556126043983, 0.9914216621673158, 0.9377195975386282, 0.9934005539011828, 0.9933362677320203, 0.9838004063157935, 0.9532926207912313, 0.9582897601831263, 0.9795536020285455, 0.4465385360886268, 0.5422253652504754, 0.97882044061228, 0.9777328871441636, 0.3330359016034267, 0.4638714343762015, 0.0951531147438362, 0.0951531147438362, 0.9818501161668489, 0.3066795367699604, 0.47335319805798237, 0.10667114322433405, 0.04000167870912527, 0.07333641096672966, 0.9869419459794663, 0.8596750928071902, 0.1341689451201973, 0.12575627727300534, 0.22007348522775932, 0.6445009210241524, 0.9814789087393654, 0.9785487670374409, 0.9878722006960746, 0.9798295571303363, 0.973911027093479, 0.9822721943415123, 0.046947063689184, 0.9523547205520183, 0.8559873149010541, 0.1268129355408969, 0.9819541528527099, 0.9898934840630551, 0.9917376310703271, 0.9938301526723929, 0.9776560852744942, 0.1257240503469836, 0.8486373398421394, 0.9672512810026833, 0.9637318545328071, 0.2948945903315335, 0.5719167812490346, 0.044680998535080826, 0.0804257973631455, 0.9590090262879584, 0.9798471780613477, 0.9908215428659332, 0.9814224136315483, 0.9879869375031103, 0.37278099387692926, 0.6158990333618831, 0.7403529120416206, 0.08226143467129118, 0.1736630287505036, 0.9568147130277777, 0.9853713092067696, 0.14265042147317664, 0.2496382375780591, 0.6062642912610007, 0.6654455626975179, 0.30837721198177653, 0.15126119502241744, 0.056022664823117574, 0.056022664823117574, 0.2913178570802114, 0.016806799446935274, 0.24649972522171734, 0.07282946427005285, 0.1064430631639234, 0.9707350318839496, 0.33415073614199264, 0.1884952870544574, 0.11995154630738199, 0.2827429305816861, 0.06854374074707542, 0.9364541877611198, 0.5644688442263289, 0.4139438190993079, 0.16411531466319293, 0.6072266642538138, 0.2133499090621508, 0.984509586840821, 0.9836665300173574, 0.9879197725867715, 0.48983662673721734, 0.1766623899707997, 0.3292344540364903, 0.756708954716485, 0.22701268641494549, 0.9764621096536127, 0.984389115862911, 0.9927043883394219, 0.905578955303439, 0.09532410055825674, 0.9883793057209218, 0.10479946879059246, 0.8645956175223878, 0.87095834631278, 0.1036855174181881, 0.8392757240759744, 0.13987928734599572, 0.9770953583772418, 0.4745312341358241, 0.050842632228838294, 0.08473772038139715, 0.2796344772586106, 0.10168526445767659, 0.22598558947456066, 0.2063346686506858, 0.05895276247162452, 0.5010984810088084, 0.9965268824633603, 0.9842759471250354, 0.14220774538133768, 0.049772710883468185, 0.13154216447773737, 0.31641223347347636, 0.184870068995739, 0.0924350344978695, 0.0675486790561354, 0.010665580903600326, 0.97566379840786, 0.0721079137005304, 0.9193758996817626, 0.9854725928333655, 0.974935986107653, 0.18656941979935143, 0.09979294547407169, 0.05206588459516784, 0.2690070704083672, 0.02603294229758392, 0.1692141249342955, 0.01301647114879196, 0.15185883006923953, 0.030371766013847907, 0.9968966295163648, 0.9924084570415522, 0.9632572142009795, 0.9965795041797625, 0.9669360864970374, 0.9905389802897381, 0.19815922874626893, 0.7360199924861418, 0.06605307624875631, 0.03175089214154565, 0.08890249799632782, 0.7239203408272408, 0.03175089214154565, 0.12065339013787348, 0.9786203590628271, 0.6069287748494278, 0.05355253895730245, 0.15173219371235694, 0.18743388635055858, 0.9761582641478157, 0.9044425758577607, 0.08672737028773048, 0.9228451618480178, 0.06476106398933458, 0.7680707419049627, 0.22741759397186045, 0.14528270136184104, 0.8555536857975083, 0.9732325185255232, 0.9837832558737539, 0.20851108772964697, 0.10425554386482348, 0.0625533263188941, 0.6046821544159763, 0.9957766851974981, 0.997701999219994, 0.9947709644896656, 0.38790770129402624, 0.2459902496010898, 0.2176067592625025, 0.047305817230978806, 0.10407279790815338, 0.23987005225363178, 0.7515928303947129, 0.1829772409658966, 0.06458020269384586, 0.5058782544351259, 0.2367940765441015, 0.9831361253704818, 0.966309566168615, 0.09422621994524999, 0.73496451557295, 0.11307146393429998, 0.0376904879781, 0.1378292494455402, 0.04352502614069691, 0.23213347275038348, 0.16684593353933813, 0.33369186707867626, 0.03627085511724742, 0.05077919716414639, 0.09841139330721449, 0.07380854498041087, 0.11071281747061631, 0.19067207453272808, 0.2091242107778308, 0.17221993828762536, 0.14761708996082173, 0.9901300673462612, 0.9920913850008729, 0.16894021610676058, 0.8266003430937927, 0.9936552912323312, 0.42376322966559027, 0.5275419797877756, 0.03459291670739512, 0.9557370246571646, 0.049767639185190095, 0.018662864694446286, 0.4914554369537522, 0.03732572938889257, 0.09331432347223143, 0.23639628612965297, 0.06843050387963638, 0.9480904028284727, 0.9636676582147505, 0.9912316839671507, 0.9880904671907468], \"Term\": [\"05\", \"15\", \"15\", \"15\", \"16yr\", \"19\", \"2015\", \"2015\", \"2015\", \"2015\", \"3\", \"3\", \"3\", \"3\", \"3\", \"3\", \"40\", \"6\", \"60\", \"a\", \"abc\", \"action\", \"actually\", \"added\", \"affected\", \"airport\", \"almost\", \"always\", \"amazon\", \"amid\", \"amp\", \"amp\", \"amp\", \"amp\", \"amp\", \"amp\", \"amp\", \"amp\", \"amp\", \"amsterdam\", \"ancient\", \"animal\", \"anniversary\", \"another\", \"another\", \"another\", \"another\", \"anyone\", \"appears\", \"area\", \"area\", \"area\", \"army\", \"army\", \"as\", \"atomic\", \"attack\", \"attack\", \"attack\", \"attack\", \"august\", \"august\", \"b\", \"baby\", \"baby\", \"back\", \"back\", \"back\", \"back\", \"back\", \"back\", \"bad\", \"bad\", \"bag\", \"bag\", \"bang\", \"banned\", \"bed\", \"best\", \"best\", \"best\", \"bestnaijamade\", \"bigger\", \"bioterror\", \"bit\", \"black\", \"black\", \"black\", \"black\", \"blast\", \"board\", \"boat\", \"body\", \"body\", \"bomb\", \"bomb\", \"bomb\", \"bomber\", \"bombing\", \"bombing\", \"bombing\", \"boy\", \"brain\", \"breaking\", \"breaking\", \"brother\", \"building\", \"building\", \"burning\", \"burning\", \"burning\", \"bus\", \"bush\", \"cake\", \"calgary\", \"california\", \"california\", \"california\", \"camp\", \"cant\", \"cant\", \"cant\", \"cant\", \"capture\", \"care\", \"casualty\", \"caught\", \"change\", \"change\", \"change\", \"character\", \"chemical\", \"chicago\", \"chile\", \"china\", \"christian\", \"class\", \"cliff\", \"cliff\", \"climate\", \"collapse\", \"collapse\", \"collapse\", \"collapse\", \"collapse\", \"comment\", \"computer\", \"conclusively\", \"confirmed\", \"content\", \"content\", \"could\", \"could\", \"could\", \"could\", \"cramer\", \"crash\", \"crashed\", \"crew\", \"cross\", \"crush\", \"cry\", \"damn\", \"data\", \"dead\", \"dead\", \"dead\", \"dead\", \"death\", \"death\", \"death\", \"death\", \"debris\", \"declaration\", \"declares\", \"detonated\", \"didnt\", \"disaster\", \"disney\", \"displaced\", \"dont\", \"dont\", \"dont\", \"dramatic\", \"driver\", \"drown\", \"drowning\", \"earthquake\", \"earthquake\", \"earthquake\", \"effect\", \"el\", \"em\", \"emergency\", \"emergency\", \"even\", \"even\", \"even\", \"everyone\", \"everyone\", \"exchange\", \"exchanging\", \"expected\", \"explode\", \"explosion\", \"explosion\", \"fact\", \"failure\", \"fall\", \"fall\", \"family\", \"family\", \"family\", \"family\", \"fan\", \"fan\", \"fatal\", \"fear\", \"fear\", \"fedex\", \"feel\", \"film\", \"find\", \"fire\", \"fire\", \"fire\", \"firefighter\", \"first\", \"first\", \"first\", \"first\", \"first\", \"flood\", \"flood\", \"flood\", \"force\", \"forest\", \"found\", \"found\", \"friend\", \"friend\", \"full\", \"full\", \"full\", \"full\", \"full\", \"fun\", \"fun\", \"galactic\", \"gang\", \"gem\", \"get\", \"get\", \"giant\", \"girl\", \"global\", \"go\", \"go\", \"go\", \"go\", \"go\", \"go\", \"go\", \"going\", \"going\", \"going\", \"going\", \"gon\", \"good\", \"good\", \"good\", \"good\", \"got\", \"government\", \"group\", \"group\", \"guess\", \"gunfire\", \"gunman\", \"hail\", \"half\", \"hat\", \"hazardous\", \"heard\", \"heard\", \"heat\", \"heat\", \"helicopter\", \"here\", \"here\", \"hero\", \"hey\", \"hijacking\", \"hijacking\", \"hiroshima\", \"hiroshima\", \"hiroshima\", \"hollywood\", \"home\", \"horror\", \"hostage\", \"huge\", \"hundred\", \"hundred\", \"hurricane\", \"im\", \"im\", \"im\", \"im\", \"india\", \"injury\", \"injury\", \"injury\", \"injury\", \"inside\", \"inside\", \"insurance\", \"insurer\", \"investigator\", \"islamic\", \"island\", \"island\", \"israel\", \"israeli\", \"israeli\", \"issue\", \"issue\", \"japan\", \"japan\", \"job\", \"job\", \"kid\", \"kid\", \"kill\", \"kill\", \"killed\", \"king\", \"knock\", \"know\", \"know\", \"la\", \"lake\", \"landing\", \"landslide\", \"landslide\", \"latest\", \"latest\", \"lead\", \"learn\", \"leave\", \"led\", \"legionnaire\", \"life\", \"life\", \"life\", \"light\", \"light\", \"lightning\", \"like\", \"like\", \"like\", \"like\", \"liked\", \"likely\", \"line\", \"line\", \"live\", \"live\", \"live\", \"live\", \"lol\", \"lol\", \"longer\", \"look\", \"look\", \"look\", \"lord\", \"loud\", \"love\", \"love\", \"love\", \"low\", \"low\", \"make\", \"make\", \"make\", \"make\", \"make\", \"make\", \"malaysia\", \"manslaughter\", \"many\", \"many\", \"marians\", \"mark\", \"market\", \"mass\", \"may\", \"may\", \"may\", \"may\", \"mayan\", \"maybe\", \"meltdown\", \"memory\", \"mh370\", \"mh370\", \"migrant\", \"militant\", \"military\", \"military\", \"million\", \"miner\", \"minute\", \"minute\", \"mosque\", \"movie\", \"movie\", \"movie\", \"mp\", \"mp\", \"mph\", \"much\", \"much\", \"much\", \"murder\", \"murderer\", \"muslim\", \"na\", \"nagasaki\", \"national\", \"natural\", \"nearby\", \"need\", \"need\", \"need\", \"need\", \"new\", \"new\", \"new\", \"new\", \"new\", \"new\", \"new\", \"new\", \"news\", \"news\", \"news\", \"news\", \"news\", \"news\", \"north\", \"north\", \"north\", \"northern\", \"northern\", \"nuclear\", \"nuclear\", \"number\", \"obama\", \"obama\", \"offensive\", \"officer\", \"oil\", \"okay\", \"old\", \"old\", \"omg\", \"one\", \"one\", \"one\", \"one\", \"one\", \"one\", \"one\", \"one\", \"one\", \"online\", \"order\", \"outbreak\", \"p\", \"pain\", \"panic\", \"people\", \"people\", \"people\", \"people\", \"people\", \"people\", \"people\", \"people\", \"percent\", \"person\", \"person\", \"person\", \"photo\", \"photo\", \"photo\", \"photo\", \"photo\", \"photo\", \"pic\", \"pic\", \"pick\", \"picking\", \"pkk\", \"playlist\", \"plunging\", \"pm\", \"point\", \"police\", \"police\", \"police\", \"police\", \"police\", \"policy\", \"pretty\", \"problem\", \"projected\", \"quarantine\", \"quiz\", \"razed\", \"read\", \"read\", \"read\", \"read\", \"read\", \"read\", \"read\", \"real\", \"real\", \"recount\", \"red\", \"red\", \"reddit\", \"reddits\", \"refugee\", \"released\", \"rescue\", \"rescue\", \"rescued\", \"rescued\", \"rescuer\", \"responder\", \"return\", \"reunion\", \"reuters\", \"richmond\", \"right\", \"right\", \"right\", \"rioting\", \"rise\", \"rly\", \"road\", \"road\", \"road\", \"rock\", \"room\", \"rt\", \"rt\", \"rt\", \"rt\", \"rt\", \"rt\", \"rt\", \"ruin\", \"rule\", \"sad\", \"said\", \"said\", \"said\", \"said\", \"said\", \"saipan\", \"sale\", \"salt\", \"sandstorm\", \"saudi\", \"saved\", \"screamed\", \"screaming\", \"secret\", \"security\", \"see\", \"see\", \"see\", \"see\", \"see\", \"seek\", \"seek\", \"seen\", \"service\", \"service\", \"severe\", \"severe\", \"shot\", \"shot\", \"shot\", \"shoulder\", \"show\", \"show\", \"show\", \"show\", \"sign\", \"single\", \"sinkhole\", \"sinking\", \"siren\", \"sister\", \"sitting\", \"soudelor\", \"sound\", \"sound\", \"spill\", \"star\", \"state\", \"state\", \"state\", \"state\", \"stay\", \"still\", \"still\", \"still\", \"still\", \"still\", \"stock\", \"storm\", \"storm\", \"story\", \"story\", \"story\", \"stretcher\", \"strike\", \"strong\", \"structural\", \"subreddits\", \"sue\", \"suicide\", \"suicide\", \"super\", \"super\", \"survive\", \"survived\", \"survivor\", \"suspect\", \"swallowed\", \"t\", \"t\", \"tablet\", \"taiwan\", \"take\", \"take\", \"take\", \"take\", \"terror\", \"terrorism\", \"terrorist\", \"texas\", \"the\", \"there\", \"there\", \"think\", \"think\", \"think\", \"threat\", \"three\", \"thunder\", \"thunder\", \"thunder\", \"thunderstorm\", \"thunderstorm\", \"time\", \"time\", \"time\", \"time\", \"time\", \"time\", \"time\", \"time\", \"time20150806\", \"today\", \"today\", \"today\", \"today\", \"today\", \"tongue\", \"tonight\", \"tonight\", \"top\", \"top\", \"top\", \"tornado\", \"traffic\", \"tragedy\", \"train\", \"train\", \"train\", \"trapped\", \"trapped\", \"trauma\", \"traumatised\", \"trench\", \"trouble\", \"trouble\", \"true\", \"trying\", \"trying\", \"tsunami\", \"tsunami\", \"turkey\", \"turkey\", \"tv\", \"twister\", \"twister\", \"twister\", \"twister\", \"twister\", \"two\", \"two\", \"two\", \"two\", \"typhoon\", \"typhoondevastated\", \"u\", \"u\", \"u\", \"u\", \"u\", \"u\", \"u\", \"u\", \"uk\", \"update\", \"update\", \"ur\", \"utc20150805\", \"via\", \"via\", \"via\", \"via\", \"via\", \"via\", \"via\", \"via\", \"via\", \"video\", \"violent\", \"virgin\", \"volcano\", \"wake\", \"wan\", \"want\", \"want\", \"want\", \"war\", \"war\", \"war\", \"war\", \"war\", \"warning\", \"watch\", \"watch\", \"watch\", \"watch\", \"watching\", \"water\", \"water\", \"wave\", \"wave\", \"weapon\", \"weapon\", \"weather\", \"weather\", \"wedding\", \"were\", \"whole\", \"whole\", \"whole\", \"whole\", \"wild\", \"wildfire\", \"wind\", \"windstorm\", \"windstorm\", \"windstorm\", \"windstorm\", \"windstorm\", \"without\", \"without\", \"woman\", \"woman\", \"woman\", \"woman\", \"wonder\", \"wont\", \"word\", \"word\", \"word\", \"word\", \"world\", \"world\", \"world\", \"world\", \"world\", \"world\", \"world\", \"would\", \"would\", \"would\", \"would\", \"would\", \"would\", \"would\", \"wound\", \"wounded\", \"wreck\", \"wreck\", \"wreckage\", \"wrecked\", \"wrecked\", \"wrecked\", \"x\", \"year\", \"year\", \"year\", \"year\", \"year\", \"year\", \"year\", \"york\", \"young\", \"youtube\", \"zone\"]}, \"R\": 30, \"lambda.step\": 0.01, \"plot.opts\": {\"xlab\": \"PC1\", \"ylab\": \"PC2\"}, \"topic.order\": [1, 2, 3, 4, 5, 6, 7, 8, 9, 10]};\n",
       "\n",
       "function LDAvis_load_lib(url, callback){\n",
       "  var s = document.createElement('script');\n",
       "  s.src = url;\n",
       "  s.async = true;\n",
       "  s.onreadystatechange = s.onload = callback;\n",
       "  s.onerror = function(){console.warn(\"failed to load library \" + url);};\n",
       "  document.getElementsByTagName(\"head\")[0].appendChild(s);\n",
       "}\n",
       "\n",
       "if(typeof(LDAvis) !== \"undefined\"){\n",
       "   // already loaded: just create the visualization\n",
       "   !function(LDAvis){\n",
       "       new LDAvis(\"#\" + \"ldavis_el1961402539529135846099464246\", ldavis_el1961402539529135846099464246_data);\n",
       "   }(LDAvis);\n",
       "}else if(typeof define === \"function\" && define.amd){\n",
       "   // require.js is available: use it to load d3/LDAvis\n",
       "   require.config({paths: {d3: \"https://d3js.org/d3.v5\"}});\n",
       "   require([\"d3\"], function(d3){\n",
       "      window.d3 = d3;\n",
       "      LDAvis_load_lib(\"https://cdn.jsdelivr.net/gh/bmabey/pyLDAvis@3.3.1/pyLDAvis/js/ldavis.v3.0.0.js\", function(){\n",
       "        new LDAvis(\"#\" + \"ldavis_el1961402539529135846099464246\", ldavis_el1961402539529135846099464246_data);\n",
       "      });\n",
       "    });\n",
       "}else{\n",
       "    // require.js not available: dynamically load d3 & LDAvis\n",
       "    LDAvis_load_lib(\"https://d3js.org/d3.v5.js\", function(){\n",
       "         LDAvis_load_lib(\"https://cdn.jsdelivr.net/gh/bmabey/pyLDAvis@3.3.1/pyLDAvis/js/ldavis.v3.0.0.js\", function(){\n",
       "                 new LDAvis(\"#\" + \"ldavis_el1961402539529135846099464246\", ldavis_el1961402539529135846099464246_data);\n",
       "            })\n",
       "         });\n",
       "}\n",
       "</script>"
      ],
      "text/plain": [
       "<IPython.core.display.HTML object>"
      ]
     },
     "execution_count": 36,
     "metadata": {},
     "output_type": "execute_result"
    }
   ],
   "source": [
    "%%time\n",
    "\n",
    "lda_display = gensimvis.prepare(ldamodel_10, doc_term_matrix, dictionary, sort_topics=False, mds='mmds')\n",
    "pyLDAvis.display(lda_display)"
   ]
  },
  {
   "cell_type": "markdown",
   "metadata": {
    "id": "LvSvvxzYMy7o"
   },
   "source": [
    "The 10 topics mostly talk about: \n",
    "1. Disasters weapons and crashes and how many people killed \n",
    "2. Violent Youtube Video \n",
    "3. People wounded in a wreckage (mostly aircraft wreckage)\n",
    "4. storms and wildfires in california\n",
    "5. talks about wreckage and mostly about not getting likes on social media\n",
    "6. Wildfires in US and about president Obama \n",
    "7. Wreckage and a new weapon\n",
    "8. home and people \n",
    "9. Suicide bomber (terrorist) and people held hostage \n",
    "10. Talks about people wounded in malaysian flight MH 370 and volcanos"
   ]
  },
  {
   "cell_type": "markdown",
   "metadata": {
    "id": "TqSA9PRBOtmO"
   },
   "source": [
    "The 10 Topic model performs the best and also shows us the different topics that are being talked about."
   ]
  },
  {
   "cell_type": "code",
   "execution_count": null,
   "metadata": {
    "id": "pLZTkNITOy5k"
   },
   "outputs": [],
   "source": []
  }
 ],
 "metadata": {
  "colab": {
   "provenance": []
  },
  "kernelspec": {
   "display_name": "Python 3 (ipykernel)",
   "language": "python",
   "name": "python3"
  },
  "language_info": {
   "codemirror_mode": {
    "name": "ipython",
    "version": 3
   },
   "file_extension": ".py",
   "mimetype": "text/x-python",
   "name": "python",
   "nbconvert_exporter": "python",
   "pygments_lexer": "ipython3",
   "version": "3.9.7"
  }
 },
 "nbformat": 4,
 "nbformat_minor": 1
}
